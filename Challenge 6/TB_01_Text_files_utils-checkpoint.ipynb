{
 "cells": [
  {
   "cell_type": "markdown",
   "id": "b3f05df3-6229-4483-8b09-1782be3a65e4",
   "metadata": {},
   "source": [
    "# Trabajar con archivos de texto\n",
    "\n",
    "En este JNB vamos a ver algunas funciones muy útiles de Python que nos van a permitir trabajar con archivos de texto plano.\n",
    "\n",
    "## Crear un archivo con IPython\n",
    "\n",
    "Una forma muy rápida de crear un archivo de texto es usando el _magic command_ de IPython `%%writefile`. Solo tenemos que indicar la ruta y, a continuación, el texto que queremos que contenga. _**¡Cuidado!**_ Si ya existe un archivo con ese nombre lo sobreescribe."
   ]
  },
  {
   "cell_type": "code",
   "execution_count": 1,
   "id": "95cf190e-0d5f-49a4-a8b0-115272851561",
   "metadata": {},
   "outputs": [
    {
     "name": "stdout",
     "output_type": "stream",
     "text": [
      "Overwriting data/test.txt\n"
     ]
    }
   ],
   "source": [
    "%%writefile data/test.txt\n",
    "Treinta días trae septiembre\n",
    "Con abril, junio y noviembre\n",
    "De veintiocho sólo hay uno\n",
    "Y los demás, treinta y uno"
   ]
  },
  {
   "cell_type": "markdown",
   "id": "8a65dd7a-37cb-49eb-95e3-9457debd1764",
   "metadata": {},
   "source": [
    "Para más información de los _magic commands_ de IPython puedes consultar la documentación oficial en [Built-in magic commands](https://ipython.readthedocs.io/en/stable/interactive/magics.html#built-in-magic-commands)."
   ]
  },
  {
   "cell_type": "markdown",
   "id": "aa8eefca-98e4-4c95-9c11-b408ec0fc69c",
   "metadata": {},
   "source": [
    "## Leer un archivo con Python\n",
    "\n",
    "Es muy importante poner bien la ruta para que no nos dé un error.\n",
    "\n",
    "Para Windows necesitamos usar doble barra invertida (`\\\\`) o _raw string literals_:\n",
    "\n",
    "    myfile = open(\"C:\\\\Users\\\\YourUserName\\\\Folder\\\\myfile.txt\")\n",
    "    myfile = open(r\"C:\\Users\\YourUserName\\Folder\\myfile.txt\")\n",
    "\n",
    "Para MacOS y Linux:\n",
    "\n",
    "    myfile = open(\"/Users/YourUserName/Folder/myfile.txt\")"
   ]
  },
  {
   "cell_type": "code",
   "execution_count": 2,
   "id": "5fb21aa8-4662-4545-8665-7600de101096",
   "metadata": {},
   "outputs": [],
   "source": [
    "# Abrimos el archivo que creamos antes\n",
    "my_file = open('data/test.txt')"
   ]
  },
  {
   "cell_type": "markdown",
   "id": "d85cd50c-4dee-486e-be20-b9030d83cf48",
   "metadata": {},
   "source": [
    "Si queremos asegurarnos de que la ruta funciona en cualquier sistema operativo, lo correcto es usar el módulo `os`."
   ]
  },
  {
   "cell_type": "code",
   "execution_count": 3,
   "id": "8bd8f141-be80-4bb1-ba3a-5539c6772a2e",
   "metadata": {},
   "outputs": [],
   "source": [
    "import os"
   ]
  },
  {
   "cell_type": "code",
   "execution_count": 4,
   "id": "b00a4893-439f-4179-9de4-4a7cc1d7895a",
   "metadata": {},
   "outputs": [],
   "source": [
    "my_file = open(os.path.join('data', 'test.txt'))"
   ]
  },
  {
   "cell_type": "markdown",
   "id": "fcbffc7a-8f6b-4acd-b331-efcf56efe1a3",
   "metadata": {},
   "source": [
    "### read() y seek()"
   ]
  },
  {
   "cell_type": "code",
   "execution_count": 5,
   "id": "ee2a76be-bd9d-4f89-9475-11cc81665f29",
   "metadata": {},
   "outputs": [
    {
     "data": {
      "text/plain": [
       "<_io.TextIOWrapper name='data/test.txt' mode='r' encoding='UTF-8'>"
      ]
     },
     "execution_count": 5,
     "metadata": {},
     "output_type": "execute_result"
    }
   ],
   "source": [
    "my_file"
   ]
  },
  {
   "cell_type": "markdown",
   "id": "02557edf-66d9-49bf-91ce-abeb3e48dd68",
   "metadata": {},
   "source": [
    "Como vemos, `my_file` es un objeto de tipo archivo guardado en memoria."
   ]
  },
  {
   "cell_type": "code",
   "execution_count": 6,
   "id": "db607281-50c6-4123-8261-c952efeba917",
   "metadata": {},
   "outputs": [
    {
     "data": {
      "text/plain": [
       "'Treinta días trae septiembre\\nCon abril, junio y noviembre\\nDe veintiocho sólo hay uno\\nY los demás, treinta y uno\\n'"
      ]
     },
     "execution_count": 6,
     "metadata": {},
     "output_type": "execute_result"
    }
   ],
   "source": [
    "# Para leer el contenido del archivo\n",
    "my_file.read()"
   ]
  },
  {
   "cell_type": "code",
   "execution_count": 7,
   "id": "0c256a6e-2043-4fc7-9888-c8d86ae30ce0",
   "metadata": {},
   "outputs": [
    {
     "data": {
      "text/plain": [
       "''"
      ]
     },
     "execution_count": 7,
     "metadata": {},
     "output_type": "execute_result"
    }
   ],
   "source": [
    "# Si lo leemos de nuevo ocurre lo siguiente\n",
    "my_file.read()"
   ]
  },
  {
   "cell_type": "markdown",
   "id": "c19bfa17-a09e-4ed1-af63-ea12dfc922c1",
   "metadata": {},
   "source": [
    "Esto se debe a que el cursor de lectura se encuentra ahora al final del archivo tras haberlo leído y no queda nada más que leer. Para resetear el cursor haremos lo siguiente:"
   ]
  },
  {
   "cell_type": "code",
   "execution_count": 8,
   "id": "5b3f1e80-6442-410a-b4a7-66942705a2e6",
   "metadata": {},
   "outputs": [
    {
     "data": {
      "text/plain": [
       "0"
      ]
     },
     "execution_count": 8,
     "metadata": {},
     "output_type": "execute_result"
    }
   ],
   "source": [
    "# Para ir al inicio del archivo (index 0)\n",
    "my_file.seek(0)"
   ]
  },
  {
   "cell_type": "code",
   "execution_count": 9,
   "id": "72d788fc-bc67-436c-84d5-2d700b94d0db",
   "metadata": {},
   "outputs": [
    {
     "data": {
      "text/plain": [
       "'Treinta días trae septiembre\\nCon abril, junio y noviembre\\nDe veintiocho sólo hay uno\\nY los demás, treinta y uno\\n'"
      ]
     },
     "execution_count": 9,
     "metadata": {},
     "output_type": "execute_result"
    }
   ],
   "source": [
    "# Leemos de nuevo\n",
    "my_file.read()"
   ]
  },
  {
   "cell_type": "markdown",
   "id": "a72fd31d-568a-4834-8828-05d6cbc16cad",
   "metadata": {},
   "source": [
    "Después de trabajar con el archivo lo cerraremos para liberar memoria."
   ]
  },
  {
   "cell_type": "code",
   "execution_count": 10,
   "id": "d5c8e1d8-6879-42de-92f7-70ca2d3e3d81",
   "metadata": {},
   "outputs": [],
   "source": [
    "my_file.close()"
   ]
  },
  {
   "cell_type": "markdown",
   "id": "5d24a368-6297-4493-8d27-4ba5cf6ef0b9",
   "metadata": {},
   "source": [
    "Si ahora que lo hemos cerrado intentamos volver a abrirlo nos dará error."
   ]
  },
  {
   "cell_type": "code",
   "execution_count": 11,
   "id": "b13db2c3-8170-4f6a-b01e-e67f4bcf04b6",
   "metadata": {},
   "outputs": [
    {
     "ename": "ValueError",
     "evalue": "I/O operation on closed file.",
     "output_type": "error",
     "traceback": [
      "\u001b[0;31m---------------------------------------------------------------------------\u001b[0m",
      "\u001b[0;31mValueError\u001b[0m                                Traceback (most recent call last)",
      "\u001b[0;32m/var/folders/sf/rt990bw51mg2fsfxtpp592_40000gn/T/ipykernel_21105/3909536352.py\u001b[0m in \u001b[0;36m<module>\u001b[0;34m\u001b[0m\n\u001b[1;32m      1\u001b[0m \u001b[0;31m# ¡ERROR! El archivo está cerrado\u001b[0m\u001b[0;34m\u001b[0m\u001b[0;34m\u001b[0m\u001b[0;34m\u001b[0m\u001b[0m\n\u001b[0;32m----> 2\u001b[0;31m \u001b[0mmy_file\u001b[0m\u001b[0;34m.\u001b[0m\u001b[0mread\u001b[0m\u001b[0;34m(\u001b[0m\u001b[0;34m)\u001b[0m\u001b[0;34m\u001b[0m\u001b[0;34m\u001b[0m\u001b[0m\n\u001b[0m",
      "\u001b[0;31mValueError\u001b[0m: I/O operation on closed file."
     ]
    }
   ],
   "source": [
    "# ¡ERROR! El archivo está cerrado\n",
    "my_file.read()"
   ]
  },
  {
   "cell_type": "markdown",
   "id": "130cdfc3-9165-4782-ae28-6a4494d1aff9",
   "metadata": {},
   "source": [
    "### readlines()\n",
    "\n",
    "También podemos leer un archivo línea a línea usando la función `readlines()`, que devuelve una lista con las líneas del documento."
   ]
  },
  {
   "cell_type": "code",
   "execution_count": 12,
   "id": "13b94379-c994-4de1-954c-1831cc7b5778",
   "metadata": {},
   "outputs": [],
   "source": [
    "# Primero abrimos el archivo que habíamos cerrado\n",
    "my_file = open('data/test.txt')"
   ]
  },
  {
   "cell_type": "code",
   "execution_count": 13,
   "id": "f8a790fd-759a-4210-a4e5-f1273f76c9a6",
   "metadata": {},
   "outputs": [
    {
     "data": {
      "text/plain": [
       "['Treinta días trae septiembre\\n',\n",
       " 'Con abril, junio y noviembre\\n',\n",
       " 'De veintiocho sólo hay uno\\n',\n",
       " 'Y los demás, treinta y uno\\n']"
      ]
     },
     "execution_count": 13,
     "metadata": {},
     "output_type": "execute_result"
    }
   ],
   "source": [
    "# (Opcional) Nos aseguramos que el cursor está al inicio del documento\n",
    "my_file.seek(0)\n",
    "\n",
    "# Leemos el archivo línea a línea\n",
    "my_file.readlines()"
   ]
  },
  {
   "cell_type": "markdown",
   "id": "61081435-c572-4369-b7c0-2c9582724061",
   "metadata": {},
   "source": [
    "**¡Ojo con los archivos grandes!** Debemos usar este método con precaución ya que todo el contenido se guarda en memoria."
   ]
  },
  {
   "cell_type": "markdown",
   "id": "46b0fe63-d94f-46d4-9e0d-d0bdff05d8a0",
   "metadata": {},
   "source": [
    "La función `readlines()` devuelve una lista y por tanto podemos acceder a las diferentes líneas de texto usando su índice."
   ]
  },
  {
   "cell_type": "code",
   "execution_count": 14,
   "id": "dedf6631-4189-44b8-9bc0-6835c8714e7a",
   "metadata": {},
   "outputs": [
    {
     "data": {
      "text/plain": [
       "'Treinta días trae septiembre\\n'"
      ]
     },
     "execution_count": 14,
     "metadata": {},
     "output_type": "execute_result"
    }
   ],
   "source": [
    "# Seleccionamos la primera línea del archivo\n",
    "my_file.seek(0)\n",
    "my_file.readlines()[0]"
   ]
  },
  {
   "cell_type": "code",
   "execution_count": 15,
   "id": "1f776a50-e3ae-4c80-8a98-71d7ae36e070",
   "metadata": {},
   "outputs": [],
   "source": [
    "# Cerramos el archivo\n",
    "my_file.close()"
   ]
  },
  {
   "cell_type": "markdown",
   "id": "1f68b161-f01c-4b16-9bb7-c7a8cba2469f",
   "metadata": {},
   "source": [
    "## Escribir a un archivo\n",
    "\n",
    "Por defecto, la función `open()` solo nos deja leer el archivo, si queremos escribir en él necesitamos pasarle el argumento `'w'`. Si pasamos `w+` además de leerlo podremos escribir en él, sin el `+` nos dará error al leer."
   ]
  },
  {
   "cell_type": "code",
   "execution_count": 16,
   "id": "61801c85-3fa0-435b-af87-88a2d95c4627",
   "metadata": {},
   "outputs": [],
   "source": [
    "# Abrimos el archivo\n",
    "my_file = open('data/test.txt','w+')"
   ]
  },
  {
   "cell_type": "markdown",
   "id": "43d86f95-9792-4128-b83d-d15af0e52d5d",
   "metadata": {},
   "source": [
    "<div class=\"alert alert-danger\" style=\"margin: 20px\">\n",
    "    <b>¡Cuidado!</b>\n",
    "    <br>\n",
    "    Abrir un archivo con 'w' o 'w+' <b>trunca el original</b>, lo que significa que cualquier cosa que que contenga <b>será borrada</b>\n",
    "</div>"
   ]
  },
  {
   "cell_type": "code",
   "execution_count": 17,
   "id": "367eb9e3-022f-4a6d-9f21-0a1b825abcc7",
   "metadata": {},
   "outputs": [
    {
     "data": {
      "text/plain": [
       "28"
      ]
     },
     "execution_count": 17,
     "metadata": {},
     "output_type": "execute_result"
    }
   ],
   "source": [
    "# Escribimos en el archivo\n",
    "my_file.write('¡Me encanta la programación!')"
   ]
  },
  {
   "cell_type": "markdown",
   "id": "7f232743-32e2-4b05-9f7f-cd379ec9c860",
   "metadata": {},
   "source": [
    "Como vemos, la función nos devuelve el número de caracteres del texto que hemos escrito en el archivo."
   ]
  },
  {
   "cell_type": "code",
   "execution_count": 18,
   "id": "9779ea2d-4cad-4ab4-b151-bc59f839d645",
   "metadata": {},
   "outputs": [
    {
     "data": {
      "text/plain": [
       "'¡Me encanta la programación!'"
      ]
     },
     "execution_count": 18,
     "metadata": {},
     "output_type": "execute_result"
    }
   ],
   "source": [
    "# Leemos el archivo\n",
    "my_file.seek(0)\n",
    "my_file.read()"
   ]
  },
  {
   "cell_type": "code",
   "execution_count": 19,
   "id": "533efa13-b347-4e44-9026-a4a9fc68f949",
   "metadata": {},
   "outputs": [],
   "source": [
    "# Cerramos el archivo\n",
    "my_file.close()"
   ]
  },
  {
   "cell_type": "markdown",
   "id": "02d3d4bb-5f0a-4c03-8d18-c104ad3c9777",
   "metadata": {},
   "source": [
    "Si pasamos el argumento `'a'` abrimos el archivo y ponemos el puntero al final, de modo que todo lo que escribamos se añade al final (_append_). Igual que `'w+'`, `'a+'` nos permite leer y escribir en el archivo. Si el archivo no existe se crea uno con ese nombre."
   ]
  },
  {
   "cell_type": "code",
   "execution_count": 20,
   "id": "6e9d2da9-b70d-4c78-bde9-935c195d5bf1",
   "metadata": {},
   "outputs": [
    {
     "data": {
      "text/plain": [
       "21"
      ]
     },
     "execution_count": 20,
     "metadata": {},
     "output_type": "execute_result"
    }
   ],
   "source": [
    "# Escribimos al final del archivo\n",
    "my_file = open('data/test.txt','a+')\n",
    "my_file.write('\\nVamos a añadir esta frase al final del texto anterior.')\n",
    "my_file.write('\\nY esta otra también.')"
   ]
  },
  {
   "cell_type": "code",
   "execution_count": 21,
   "id": "17ef1ee0-4831-43f3-8256-f228a07a59ab",
   "metadata": {},
   "outputs": [
    {
     "data": {
      "text/plain": [
       "'¡Me encanta la programación!\\nVamos a añadir esta frase al final del texto anterior.\\nY esta otra también.'"
      ]
     },
     "execution_count": 21,
     "metadata": {},
     "output_type": "execute_result"
    }
   ],
   "source": [
    "# Leemos el archivo\n",
    "my_file.seek(0)\n",
    "my_file.read()"
   ]
  },
  {
   "cell_type": "markdown",
   "id": "8afd4f12-ab74-4b5f-ade5-0c7b746ceb4f",
   "metadata": {},
   "source": [
    "Si queremos que se muestre con los saltos de línea usaremos `print()`."
   ]
  },
  {
   "cell_type": "code",
   "execution_count": 22,
   "id": "370c5f8b-bb4a-42fb-9b9b-350960f2460a",
   "metadata": {},
   "outputs": [
    {
     "name": "stdout",
     "output_type": "stream",
     "text": [
      "¡Me encanta la programación!\n",
      "Vamos a añadir esta frase al final del texto anterior.\n",
      "Y esta otra también.\n"
     ]
    }
   ],
   "source": [
    "# Mostramos el archivo con los saltos de línea\n",
    "my_file.seek(0)\n",
    "print(my_file.read())"
   ]
  },
  {
   "cell_type": "code",
   "execution_count": 23,
   "id": "a151606b-08eb-47f0-acc9-f4461c8b1ffa",
   "metadata": {},
   "outputs": [],
   "source": [
    "# Cerramos el archivo\n",
    "my_file.close()"
   ]
  },
  {
   "cell_type": "markdown",
   "id": "32426330-b0b0-47d0-804a-7f746e586cf6",
   "metadata": {},
   "source": [
    "Para escribir al final con IPython también podemos usar:"
   ]
  },
  {
   "cell_type": "code",
   "execution_count": 24,
   "id": "b6210e3b-c2d2-4e79-a45b-fe81185079eb",
   "metadata": {},
   "outputs": [
    {
     "name": "stdout",
     "output_type": "stream",
     "text": [
      "Appending to data/test.txt\n"
     ]
    }
   ],
   "source": [
    "%%writefile -a data/test.txt\n",
    "\n",
    "Seguimos añadiendo texto a nuestro archivo.\n",
    "Y aún más texto."
   ]
  },
  {
   "cell_type": "markdown",
   "id": "b71122a4-ae32-413c-a846-6b1aeeadb01d",
   "metadata": {},
   "source": [
    "Debemos dejar esa línea en blanco debajo del _magic command_ si queremos que la primera línea comience en su propia línea, ya que Jupyter no reconoce las secuencias de escape como `'\\n'`."
   ]
  },
  {
   "cell_type": "markdown",
   "id": "47c27cfd-be37-4577-8483-2a4c066ba9ce",
   "metadata": {},
   "source": [
    "## Alias y Context Managers\n",
    "Podemos asignar nombres temporales a variables usando alias, así como gestionar la apertura y cierre de los archivos de forma automática con un **_context manager_**. Para más información puedes consultar la documentación oficial en [Context Managers](https://book.pythontips.com/en/latest/context_managers.html)."
   ]
  },
  {
   "cell_type": "code",
   "execution_count": 25,
   "id": "5c6caf14-6d78-4bc6-b0e8-6f68b3f71e73",
   "metadata": {},
   "outputs": [
    {
     "name": "stdout",
     "output_type": "stream",
     "text": [
      "¡Me encanta la programación!\n",
      "\n"
     ]
    }
   ],
   "source": [
    "# Usamos un context manager para\n",
    "#   1. Abrir el archivo en modo lectura\n",
    "#   2. Leer su contenido línea a línea y quedarnos con la primera línea\n",
    "#   3. Cerrar el archivo\n",
    "with open('data/test.txt','r') as txt:\n",
    "    first_line = txt.readlines()[0]\n",
    "    \n",
    "print(first_line)"
   ]
  },
  {
   "cell_type": "markdown",
   "id": "bb00ac06-b469-480b-af69-2d91a5ccb931",
   "metadata": {},
   "source": [
    "El context manager `with ... as ...:` automáticamente cierra `test.txt` después de realizar las operaciones que indiquemos en su interior."
   ]
  },
  {
   "cell_type": "code",
   "execution_count": 26,
   "id": "9af47420-f7e8-4347-8b3a-083830246bf4",
   "metadata": {},
   "outputs": [
    {
     "ename": "ValueError",
     "evalue": "I/O operation on closed file.",
     "output_type": "error",
     "traceback": [
      "\u001b[0;31m---------------------------------------------------------------------------\u001b[0m",
      "\u001b[0;31mValueError\u001b[0m                                Traceback (most recent call last)",
      "\u001b[0;32m/var/folders/sf/rt990bw51mg2fsfxtpp592_40000gn/T/ipykernel_21105/3944584238.py\u001b[0m in \u001b[0;36m<module>\u001b[0;34m\u001b[0m\n\u001b[1;32m      1\u001b[0m \u001b[0;31m# ¡ERROR! El archivo está cerrado\u001b[0m\u001b[0;34m\u001b[0m\u001b[0;34m\u001b[0m\u001b[0;34m\u001b[0m\u001b[0m\n\u001b[0;32m----> 2\u001b[0;31m \u001b[0mtxt\u001b[0m\u001b[0;34m.\u001b[0m\u001b[0mread\u001b[0m\u001b[0;34m(\u001b[0m\u001b[0;34m)\u001b[0m\u001b[0;34m\u001b[0m\u001b[0;34m\u001b[0m\u001b[0m\n\u001b[0m",
      "\u001b[0;31mValueError\u001b[0m: I/O operation on closed file."
     ]
    }
   ],
   "source": [
    "# ¡ERROR! El archivo está cerrado\n",
    "txt.read()"
   ]
  },
  {
   "cell_type": "markdown",
   "id": "083d5572-b1ad-4bf4-bc21-0e003d9dafb0",
   "metadata": {},
   "source": [
    "## Iterar un archivo\n",
    "\n",
    "Para iterar sobre las líneas del contenido de un archivo haremos lo siguiente."
   ]
  },
  {
   "cell_type": "code",
   "execution_count": 27,
   "id": "f2d89102-1cae-4470-ae36-880a117eb57b",
   "metadata": {},
   "outputs": [
    {
     "name": "stdout",
     "output_type": "stream",
     "text": [
      "¡Me encanta la programación!\n",
      "Vamos a añadir esta frase al final del texto anterior.\n",
      "Y esta otra también.\n",
      "Seguimos añadiendo texto a nuestro archivo.\n",
      "Y aún más texto.\n"
     ]
    }
   ],
   "source": [
    "with open('data/test.txt', 'r') as txt:\n",
    "    for line in txt:\n",
    "        print(line, end='')  # end='' elimina saltos de línea extra"
   ]
  },
  {
   "cell_type": "markdown",
   "id": "947dcab0-86a3-430d-ba2a-2f939b86f86d",
   "metadata": {},
   "source": [
    "## Escribir una lista en un archivo\n",
    "\n",
    "Si con nuestro programa hemos generado una lista que deseamos exportar a un archivo lo haremos de la siguiente manera:"
   ]
  },
  {
   "cell_type": "code",
   "execution_count": 28,
   "id": "5887f942-eccb-4040-9c48-c6345263b6bb",
   "metadata": {},
   "outputs": [],
   "source": [
    "items = ['lunes', 'martes', 'miércoles', 'jueves', 'viernes', 'sábado', 'domingo']  "
   ]
  },
  {
   "cell_type": "code",
   "execution_count": 29,
   "id": "b52c9cd1-d222-48d0-b7fd-a1305e582f45",
   "metadata": {},
   "outputs": [
    {
     "name": "stdout",
     "output_type": "stream",
     "text": [
      "lunes\n",
      "martes\n",
      "miércoles\n",
      "jueves\n",
      "viernes\n",
      "sábado\n",
      "domingo\n"
     ]
    }
   ],
   "source": [
    "with open('data/my_list.txt', 'w+') as f:\n",
    "    # Guardamos la lista en el archivo\n",
    "    f.write('\\n'.join(items))\n",
    "    \n",
    "    # Comprobamos que se ha guardado\n",
    "    f.seek(0)\n",
    "    print(f.read())"
   ]
  },
  {
   "cell_type": "markdown",
   "id": "a64e51f0-254b-4e27-8c11-28d33093ef12",
   "metadata": {},
   "source": [
    "Si queremos importar el contenido del archivo y guardarlo en una lista haremos lo siguiente."
   ]
  },
  {
   "cell_type": "code",
   "execution_count": 30,
   "id": "47828660-a837-4a36-9a98-6c785a85ae29",
   "metadata": {},
   "outputs": [
    {
     "name": "stdout",
     "output_type": "stream",
     "text": [
      "['lunes', 'martes', 'miércoles', 'jueves', 'viernes', 'sábado', 'domingo']\n"
     ]
    }
   ],
   "source": [
    "with open('data/my_list.txt', 'r') as f:\n",
    "    # Leemos el archivo y creamos la lista\n",
    "    my_list = f.read().splitlines()\n",
    "    print(my_list)"
   ]
  },
  {
   "cell_type": "code",
   "execution_count": null,
   "id": "901fb5c7-ad10-4844-bc29-e9247686f904",
   "metadata": {},
   "outputs": [],
   "source": []
  }
 ],
 "metadata": {
  "kernelspec": {
   "display_name": "ai_env",
   "language": "python",
   "name": "ai_env"
  },
  "language_info": {
   "codemirror_mode": {
    "name": "ipython",
    "version": 3
   },
   "file_extension": ".py",
   "mimetype": "text/x-python",
   "name": "python",
   "nbconvert_exporter": "python",
   "pygments_lexer": "ipython3",
   "version": "3.9.6"
  }
 },
 "nbformat": 4,
 "nbformat_minor": 5
}
