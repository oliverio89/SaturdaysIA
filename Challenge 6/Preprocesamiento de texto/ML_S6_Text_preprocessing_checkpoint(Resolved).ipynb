{
 "cells": [
  {
   "cell_type": "markdown",
   "id": "31124e06-4340-4a38-8504-f775603dc076",
   "metadata": {},
   "source": [
    "# Preprocesamiento de textos\n",
    "\n",
    "Este JNB contiene algunas de las funciones de preprocesamiento de textos más usadas en NLP. Vamos a ver cómo utilizarlas para preprocesar tanto cadenas sencillas como datasets completos con miles de textos.\n",
    "\n",
    "No siempre es necesario usar todas estas técnicas a la hora de preparar los textos, el usar unas u otras, e incluso el orden en el que hemos de aplicarlas, es algo que dependerá mucho del problema al que nos enfrentemos.\n",
    "\n",
    "Para ello vamos a usar el dataset que se puede descargar de la competición de Kaggle [Spanish Arilines Tweets Sentiment Analysis](https://www.kaggle.com/c/spanish-arilines-tweets-sentiment-analysis/data)."
   ]
  },
  {
   "cell_type": "markdown",
   "id": "c3a3cd38-eac3-4c53-abd2-32a26763e5ba",
   "metadata": {},
   "source": [
    "## Importar el dataset"
   ]
  },
  {
   "cell_type": "code",
   "execution_count": 1,
   "id": "a7f938ba-85e7-48e5-89f6-5adf9c651b4f",
   "metadata": {},
   "outputs": [],
   "source": [
    "import pandas as pd"
   ]
  },
  {
   "cell_type": "code",
   "execution_count": 2,
   "id": "a4a5a491-22ea-4a15-a25b-71549ce2e6b6",
   "metadata": {},
   "outputs": [
    {
     "data": {
      "text/html": [
       "<div>\n",
       "<style scoped>\n",
       "    .dataframe tbody tr th:only-of-type {\n",
       "        vertical-align: middle;\n",
       "    }\n",
       "\n",
       "    .dataframe tbody tr th {\n",
       "        vertical-align: top;\n",
       "    }\n",
       "\n",
       "    .dataframe thead th {\n",
       "        text-align: right;\n",
       "    }\n",
       "</style>\n",
       "<table border=\"1\" class=\"dataframe\">\n",
       "  <thead>\n",
       "    <tr style=\"text-align: right;\">\n",
       "      <th></th>\n",
       "      <th>airline_sentiment</th>\n",
       "      <th>is_reply</th>\n",
       "      <th>reply_count</th>\n",
       "      <th>retweet_count</th>\n",
       "      <th>text</th>\n",
       "      <th>tweet_coord</th>\n",
       "      <th>tweet_created</th>\n",
       "      <th>tweet_id</th>\n",
       "      <th>tweet_location</th>\n",
       "      <th>user_timezone</th>\n",
       "    </tr>\n",
       "  </thead>\n",
       "  <tbody>\n",
       "    <tr>\n",
       "      <th>0</th>\n",
       "      <td>neutral</td>\n",
       "      <td>False</td>\n",
       "      <td>0</td>\n",
       "      <td>0</td>\n",
       "      <td>Trabajar en #Ryanair como #TMA: https://t.co/...</td>\n",
       "      <td>NaN</td>\n",
       "      <td>Fri Nov 03 12:05:12 +0000 2017</td>\n",
       "      <td>926419989107798016</td>\n",
       "      <td>NaN</td>\n",
       "      <td>Madrid</td>\n",
       "    </tr>\n",
       "    <tr>\n",
       "      <th>1</th>\n",
       "      <td>neutral</td>\n",
       "      <td>True</td>\n",
       "      <td>0</td>\n",
       "      <td>0</td>\n",
       "      <td>@Iberia @FIONAFERRER Cuando gusten en Cancún s...</td>\n",
       "      <td>NaN</td>\n",
       "      <td>Sun Nov 26 18:40:28 +0000 2017</td>\n",
       "      <td>934854385577943041</td>\n",
       "      <td>NaN</td>\n",
       "      <td>Mexico City</td>\n",
       "    </tr>\n",
       "    <tr>\n",
       "      <th>2</th>\n",
       "      <td>negative</td>\n",
       "      <td>False</td>\n",
       "      <td>0</td>\n",
       "      <td>0</td>\n",
       "      <td>Sabiais que @Iberia te trata muy bien en santi...</td>\n",
       "      <td>NaN</td>\n",
       "      <td>Mon Dec 25 15:40:45 +0000 2017</td>\n",
       "      <td>945318406441635840</td>\n",
       "      <td>NaN</td>\n",
       "      <td>Madrid</td>\n",
       "    </tr>\n",
       "    <tr>\n",
       "      <th>3</th>\n",
       "      <td>negative</td>\n",
       "      <td>False</td>\n",
       "      <td>0</td>\n",
       "      <td>0</td>\n",
       "      <td>NUNCA NUNCA NUNCA pidáis el café de Ryanair.\\r...</td>\n",
       "      <td>NaN</td>\n",
       "      <td>Mon Nov 06 14:18:35 +0000 2017</td>\n",
       "      <td>927540721296568320</td>\n",
       "      <td>NaN</td>\n",
       "      <td>Pacific Time (US &amp; Canada)</td>\n",
       "    </tr>\n",
       "    <tr>\n",
       "      <th>4</th>\n",
       "      <td>positive</td>\n",
       "      <td>True</td>\n",
       "      <td>0</td>\n",
       "      <td>0</td>\n",
       "      <td>@cris_tortu @dakar @Iberia @Mitsubishi_ES @BFG...</td>\n",
       "      <td>NaN</td>\n",
       "      <td>Mon Jan 01 23:00:57 +0000 2018</td>\n",
       "      <td>947965901332197376</td>\n",
       "      <td>NaN</td>\n",
       "      <td>Buenos Aires</td>\n",
       "    </tr>\n",
       "  </tbody>\n",
       "</table>\n",
       "</div>"
      ],
      "text/plain": [
       "  airline_sentiment  is_reply  reply_count  retweet_count  \\\n",
       "0           neutral     False            0              0   \n",
       "1           neutral      True            0              0   \n",
       "2          negative     False            0              0   \n",
       "3          negative     False            0              0   \n",
       "4          positive      True            0              0   \n",
       "\n",
       "                                                text tweet_coord  \\\n",
       "0   Trabajar en #Ryanair como #TMA: https://t.co/...         NaN   \n",
       "1  @Iberia @FIONAFERRER Cuando gusten en Cancún s...         NaN   \n",
       "2  Sabiais que @Iberia te trata muy bien en santi...         NaN   \n",
       "3  NUNCA NUNCA NUNCA pidáis el café de Ryanair.\\r...         NaN   \n",
       "4  @cris_tortu @dakar @Iberia @Mitsubishi_ES @BFG...         NaN   \n",
       "\n",
       "                    tweet_created            tweet_id tweet_location  \\\n",
       "0  Fri Nov 03 12:05:12 +0000 2017  926419989107798016            NaN   \n",
       "1  Sun Nov 26 18:40:28 +0000 2017  934854385577943041            NaN   \n",
       "2  Mon Dec 25 15:40:45 +0000 2017  945318406441635840            NaN   \n",
       "3  Mon Nov 06 14:18:35 +0000 2017  927540721296568320            NaN   \n",
       "4  Mon Jan 01 23:00:57 +0000 2018  947965901332197376            NaN   \n",
       "\n",
       "                user_timezone  \n",
       "0                      Madrid  \n",
       "1                 Mexico City  \n",
       "2                      Madrid  \n",
       "3  Pacific Time (US & Canada)  \n",
       "4                Buenos Aires  "
      ]
     },
     "execution_count": 2,
     "metadata": {},
     "output_type": "execute_result"
    }
   ],
   "source": [
    "# Importamos el dataset con el que vamos a trabajar\n",
    "df_t = pd.read_csv('data/tweets_public.csv')\n",
    "df_t.head()"
   ]
  },
  {
   "cell_type": "code",
   "execution_count": 3,
   "id": "3ad3d908-0d44-46f6-b5a4-d4598b3f5497",
   "metadata": {},
   "outputs": [],
   "source": [
    "# Creamos un texto simple de muestra\n",
    "sample_text = 'Hace muchos años, en un lugar muy lejano, había un Rey al que todos consideraban muy sabio. Gobernaba con gran justicia 9 aldeas. Las 9 eran vecinas y en perfecta armonía todas convivían. El Rey se ocupaba de que todas las aldeas tuvieran agua, comida y una bonita escuela. Las 9 aldeas estaban rodeadas por 9 riachuelos. Y el Rey construyo 9 molinos y 9 puentes para que todos pudieran cruzar de un lado a otro sin correr ningún riesgo.'"
   ]
  },
  {
   "cell_type": "code",
   "execution_count": 4,
   "id": "399da492-8e59-42de-bc88-0466fc58277a",
   "metadata": {},
   "outputs": [
    {
     "data": {
      "text/plain": [
       "'Hace muchos años, en un lugar muy lejano, había un Rey al que todos consideraban muy sabio. Gobernaba con gran justicia 9 aldeas. Las 9 eran vecinas y en perfecta armonía todas convivían. El Rey se ocupaba de que todas las aldeas tuvieran agua, comida y una bonita escuela. Las 9 aldeas estaban rodeadas por 9 riachuelos. Y el Rey construyo 9 molinos y 9 puentes para que todos pudieran cruzar de un lado a otro sin correr ningún riesgo.'"
      ]
     },
     "execution_count": 4,
     "metadata": {},
     "output_type": "execute_result"
    }
   ],
   "source": [
    "sample_text"
   ]
  },
  {
   "cell_type": "markdown",
   "id": "f433e088-5d54-4b11-b9fc-e861d22be8be",
   "metadata": {},
   "source": [
    "## Convertir texto a minúsculas"
   ]
  },
  {
   "cell_type": "code",
   "execution_count": 5,
   "id": "19d88d09-8b0d-47c9-8c88-896d229f12ce",
   "metadata": {},
   "outputs": [
    {
     "data": {
      "text/plain": [
       "'hace muchos años, en un lugar muy lejano, había un rey al que todos consideraban muy sabio. gobernaba con gran justicia 9 aldeas. las 9 eran vecinas y en perfecta armonía todas convivían. el rey se ocupaba de que todas las aldeas tuvieran agua, comida y una bonita escuela. las 9 aldeas estaban rodeadas por 9 riachuelos. y el rey construyo 9 molinos y 9 puentes para que todos pudieran cruzar de un lado a otro sin correr ningún riesgo.'"
      ]
     },
     "execution_count": 5,
     "metadata": {},
     "output_type": "execute_result"
    }
   ],
   "source": [
    "sample_text_clean = sample_text.lower()\n",
    "sample_text_clean"
   ]
  },
  {
   "cell_type": "code",
   "execution_count": 6,
   "id": "0ce33150-b287-4238-9273-d4d3d0dd9f87",
   "metadata": {},
   "outputs": [
    {
     "name": "stdout",
     "output_type": "stream",
     "text": [
      " Trabajar en #Ryanair como #TMA: https://t.co/ruUArBe1tO #empleo\n",
      "\n",
      " trabajar en #ryanair como #tma: https://t.co/ruuarbe1to #empleo\n"
     ]
    }
   ],
   "source": [
    "df_t['text_clean'] = df_t['text'].str.lower()\n",
    "\n",
    "# Mostramos el antes y el después\n",
    "print(df_t.loc[0, 'text'])\n",
    "print()\n",
    "print(df_t.loc[0, 'text_clean'])"
   ]
  },
  {
   "cell_type": "markdown",
   "id": "c1c3201e-742e-42d9-8eb4-4413bf071191",
   "metadata": {
    "tags": []
   },
   "source": [
    "## Eliminar números"
   ]
  },
  {
   "cell_type": "code",
   "execution_count": 7,
   "id": "89bd1d3d-6fe1-4e2c-98c9-a2f93096de72",
   "metadata": {},
   "outputs": [],
   "source": [
    "import re"
   ]
  },
  {
   "cell_type": "code",
   "execution_count": 8,
   "id": "b305ec17-309f-4dc0-b9cd-2fe5d83831f9",
   "metadata": {},
   "outputs": [
    {
     "data": {
      "text/plain": [
       "'Hace muchos años, en un lugar muy lejano, había un Rey al que todos consideraban muy sabio. Gobernaba con gran justicia   aldeas. Las   eran vecinas y en perfecta armonía todas convivían. El Rey se ocupaba de que todas las aldeas tuvieran agua, comida y una bonita escuela. Las   aldeas estaban rodeadas por   riachuelos. Y el Rey construyo   molinos y   puentes para que todos pudieran cruzar de un lado a otro sin correr ningún riesgo.'"
      ]
     },
     "execution_count": 8,
     "metadata": {},
     "output_type": "execute_result"
    }
   ],
   "source": [
    "# Sustituimos los números por un espacio\n",
    "sample_text_clean = re.sub(r'\\d+', ' ', sample_text)\n",
    "sample_text_clean"
   ]
  },
  {
   "cell_type": "code",
   "execution_count": 9,
   "id": "d8ac1022-3f11-495f-a482-edbd20bc1be2",
   "metadata": {},
   "outputs": [
    {
     "name": "stdout",
     "output_type": "stream",
     "text": [
      "@mgd_1970 Wow que bonito , yo solo he volado unas 3 o 4 veces en un 747 de @Iberia y siempre fue a tu tierra :)\n",
      "\n",
      "@mgd_  Wow que bonito , yo solo he volado unas   o   veces en un   de @Iberia y siempre fue a tu tierra :)\n"
     ]
    }
   ],
   "source": [
    "df_t['text_clean'] = df_t['text'].str.replace(r'\\d+', ' ', regex=True)\n",
    "\n",
    "print(df_t.loc[5, 'text'])\n",
    "print()\n",
    "print(df_t.loc[5, 'text_clean'])"
   ]
  },
  {
   "cell_type": "markdown",
   "id": "996cb469-c9dc-4a0e-b07a-00266c3b724a",
   "metadata": {},
   "source": [
    "## Eliminar acentos\n",
    "\n",
    "Aquí tenemos varias opciones:\n",
    "1. La librería `unidecode`\n",
    "2. La función `translate()`"
   ]
  },
  {
   "cell_type": "markdown",
   "id": "bcb4f321-a966-431a-8c83-3d3959de29f3",
   "metadata": {},
   "source": [
    "### Usando `unidecode`\n",
    "\n",
    "Esta biblioteca contiene una función que toma una cadena, que posiblemente contenga caracteres no ASCII, y devuelve una cadena que se puede codificar de forma segura en ASCII."
   ]
  },
  {
   "cell_type": "code",
   "execution_count": 10,
   "id": "9ba1c9a4-5192-4196-902d-0abf44314b11",
   "metadata": {},
   "outputs": [],
   "source": [
    "from unidecode import unidecode"
   ]
  },
  {
   "cell_type": "code",
   "execution_count": 11,
   "id": "60d3d19b-323a-4620-b532-0096d5e19d16",
   "metadata": {},
   "outputs": [
    {
     "data": {
      "text/plain": [
       "'Hace muchos anos, en un lugar muy lejano, habia un Rey al que todos consideraban muy sabio. Gobernaba con gran justicia 9 aldeas. Las 9 eran vecinas y en perfecta armonia todas convivian. El Rey se ocupaba de que todas las aldeas tuvieran agua, comida y una bonita escuela. Las 9 aldeas estaban rodeadas por 9 riachuelos. Y el Rey construyo 9 molinos y 9 puentes para que todos pudieran cruzar de un lado a otro sin correr ningun riesgo.'"
      ]
     },
     "execution_count": 11,
     "metadata": {},
     "output_type": "execute_result"
    }
   ],
   "source": [
    "unidecode(sample_text)"
   ]
  },
  {
   "cell_type": "markdown",
   "id": "797973c4-1056-4ed0-a9f7-795a24478439",
   "metadata": {},
   "source": [
    "**¡Ojo!** Nos ha cambiado `'años'` por `'anos'`. Si estamos trabajando por ejemplo con informes médicos esto no es admisible."
   ]
  },
  {
   "cell_type": "code",
   "execution_count": 12,
   "id": "cf86deab-2ac6-4992-ad0c-132356339c15",
   "metadata": {},
   "outputs": [
    {
     "name": "stdout",
     "output_type": "stream",
     "text": [
      "NUNCA NUNCA NUNCA pidáis el café de Ryanair.\n",
      "Bueno, nada que vendan a bordo.\n",
      "\n",
      "NUNCA NUNCA NUNCA pidais el cafe de Ryanair.\n",
      "Bueno, nada que vendan a bordo.\n"
     ]
    }
   ],
   "source": [
    "df_t['text_clean'] = df_t['text'].apply(unidecode)\n",
    "\n",
    "print(df_t.loc[3, 'text'])\n",
    "print()\n",
    "print(df_t.loc[3, 'text_clean'])"
   ]
  },
  {
   "cell_type": "markdown",
   "id": "4b44cf5c-d653-4c94-a609-747b1edca6a9",
   "metadata": {},
   "source": [
    "### Usando `translate()`\n",
    "\n",
    "Esta función devuelve una cadena donde una serie de caracteres especificados se reemplazan con el carácter descrito en un diccionario o en una tabla de mapeo. Lo bueno de esta función es que nos permite especificar qué es lo que queremos cambiar y así quedarnos con ciertos símbolos que nos interesen. Si trabajamos con textos en castellano esto nos permite conservar las eñes (`ñ`)."
   ]
  },
  {
   "cell_type": "code",
   "execution_count": 13,
   "id": "7228bb93-2680-49f8-89e6-bae39d3d1e00",
   "metadata": {},
   "outputs": [
    {
     "data": {
      "text/plain": [
       "'Hace muchos años, en un lugar muy lejano, habia un Rey al que todos consideraban muy sabio. Gobernaba con gran justicia 9 aldeas. Las 9 eran vecinas y en perfecta armonia todas convivian. El Rey se ocupaba de que todas las aldeas tuvieran agua, comida y una bonita escuela. Las 9 aldeas estaban rodeadas por 9 riachuelos. Y el Rey construyo 9 molinos y 9 puentes para que todos pudieran cruzar de un lado a otro sin correr ningun riesgo.'"
      ]
     },
     "execution_count": 13,
     "metadata": {},
     "output_type": "execute_result"
    }
   ],
   "source": [
    "# Creamos la tabla de mapeo\n",
    "trans_dict = {\"á\": \"a\", \"é\": \"e\", \"í\": \"i\", \"ó\": \"o\", \"ú\": \"u\", \"ü\": \"u\"}\n",
    "trans_table = \"áéíóúñöü\".maketrans(trans_dict)\n",
    "\n",
    "# Hacemos los reemplazos\n",
    "sample_text_clean = sample_text.translate(trans_table)\n",
    "sample_text_clean"
   ]
  },
  {
   "cell_type": "code",
   "execution_count": 14,
   "id": "a1827a85-6457-4d38-b3ad-db9917102d9f",
   "metadata": {},
   "outputs": [
    {
     "name": "stdout",
     "output_type": "stream",
     "text": [
      "@Iberia @FIONAFERRER Cuando gusten en Cancún se viaja y disfruta de manera sin igual\n",
      "\n",
      "@Iberia @FIONAFERRER Cuando gusten en Cancun se viaja y disfruta de manera sin igual\n"
     ]
    }
   ],
   "source": [
    "df_t['text_clean'] = df_t['text'].str.translate(trans_table)\n",
    "\n",
    "print(df_t.loc[1, 'text'])\n",
    "print()\n",
    "print(df_t.loc[1, 'text_clean'])"
   ]
  },
  {
   "cell_type": "markdown",
   "id": "8752bec5-cde2-4d4b-af11-c6137628534f",
   "metadata": {
    "tags": []
   },
   "source": [
    "## Eliminar signos de puntuación\n",
    "\n",
    "En general, debe hacerse después de la tokenización ya que si no esta puede verse afectada, aunque dependerá del tipo de tokenizador que usemos.\n",
    "\n",
    "Debemos tener cuidado cuando eliminamos ciertos signos, como por ejemplo los de interrogación, ya que pueden ser importantes dependiendo del objetivo de nuestra aplicación.\n",
    "\n",
    "Podemos obtener una lista con los signos de puntuación más comunes usando la librería `string`."
   ]
  },
  {
   "cell_type": "code",
   "execution_count": 15,
   "id": "ed981695-5c20-461a-acea-b59ec0341cf8",
   "metadata": {},
   "outputs": [],
   "source": [
    "import string"
   ]
  },
  {
   "cell_type": "code",
   "execution_count": 16,
   "id": "6704bb3b-d799-4290-bdc4-dea58bdb1c1d",
   "metadata": {},
   "outputs": [
    {
     "data": {
      "text/plain": [
       "'!\"#$%&\\'()*+,-./:;<=>?@[\\\\]^_`{|}~'"
      ]
     },
     "execution_count": 16,
     "metadata": {},
     "output_type": "execute_result"
    }
   ],
   "source": [
    "string.punctuation"
   ]
  },
  {
   "cell_type": "markdown",
   "id": "b855910e-9127-475c-bb71-5c19ce6f3818",
   "metadata": {},
   "source": [
    "Si estamos trabajando con textos en español seguramente querremos añadir otros signos de puntuación. Un listado más completo es el que se especifica a continuación."
   ]
  },
  {
   "cell_type": "code",
   "execution_count": 17,
   "id": "3db9867a-9431-4223-8661-6596c6cdd648",
   "metadata": {},
   "outputs": [],
   "source": [
    "punct_es = r'.,;:\"#$%&\\'()*+-/<=>@[\\\\]^_`{|}~¿?¡!ºª'"
   ]
  },
  {
   "cell_type": "markdown",
   "id": "f2c56e08-8605-4096-92d9-397a6a2bfca1",
   "metadata": {},
   "source": [
    "Primero creamos la tabla de traducción que elimina los signos de puntuación de los textos."
   ]
  },
  {
   "cell_type": "code",
   "execution_count": 18,
   "id": "af122154-5c49-4c90-ae15-c1fe114c9862",
   "metadata": {},
   "outputs": [
    {
     "data": {
      "text/plain": [
       "'Hace muchos años en un lugar muy lejano había un Rey al que todos consideraban muy sabio Gobernaba con gran justicia 9 aldeas Las 9 eran vecinas y en perfecta armonía todas convivían El Rey se ocupaba de que todas las aldeas tuvieran agua comida y una bonita escuela Las 9 aldeas estaban rodeadas por 9 riachuelos Y el Rey construyo 9 molinos y 9 puentes para que todos pudieran cruzar de un lado a otro sin correr ningún riesgo'"
      ]
     },
     "execution_count": 18,
     "metadata": {},
     "output_type": "execute_result"
    }
   ],
   "source": [
    "# Creamos la tabla de mapeo\n",
    "# Opción 1. Elimina los signos de puntuación\n",
    "traslator = str.maketrans('', '', punct_es)\n",
    "# Opción 2. Los sustituye por un espacio\n",
    "# traslator = str.maketrans(punct_es, ' '*len(punct_es))\n",
    "\n",
    "# Hacemos los reemplazos\n",
    "sample_text_clean = sample_text.translate(traslator)\n",
    "sample_text_clean"
   ]
  },
  {
   "cell_type": "markdown",
   "id": "1026bcdb-9e1d-4ab2-8978-a8d8eca8b3d6",
   "metadata": {},
   "source": [
    "Como ves, puedes tanto eliminar simplemente los signos de puntuación como sustituirlos por un espacio, como siempre, esto dependerá de tu aplicación.\n",
    "\n",
    "Con la segunda opción, la que los sustituye por un espacio, evitamos por ejemplo que en las situaciones en las que hay errores del tipo `'...casa.Mañana...'` nos encontremos con cosas como `'casaMañana'` en lugar de dos tokens diferentes como serían `'casa'` y `'Mañana'`, aunque si hemos tokenizado antes en principio tampoco sería un problema dependiendo del tokenizador que usemos."
   ]
  },
  {
   "cell_type": "code",
   "execution_count": 19,
   "id": "ba5b17bd-525b-4934-85b6-ce3b876a1c15",
   "metadata": {},
   "outputs": [
    {
     "name": "stdout",
     "output_type": "stream",
     "text": [
      "Sabiais que @Iberia te trata muy bien en santiago de chile?Te cambia el asiento,te manda a volar en el wc trasero,e… https://t.co/uansbOnn69\n",
      "\n",
      "Sabiais que Iberia te trata muy bien en santiago de chileTe cambia el asientote manda a volar en el wc traseroe… httpstcouansbOnn69\n"
     ]
    }
   ],
   "source": [
    "df_t['text_clean'] = df_t['text'].str.translate(traslator)\n",
    "\n",
    "print(df_t.loc[2, 'text'])\n",
    "print()\n",
    "print(df_t.loc[2, 'text_clean'])"
   ]
  },
  {
   "cell_type": "markdown",
   "id": "359aed30-d2b9-4227-b235-86bab2c4f47c",
   "metadata": {},
   "source": [
    "También podemos usar la función `replace()` junto con expresiones regulares, lo que es muy útil ya que permite personalizar el tipo de reemplazo que queremos hacer. Por ejemplo, podemos usar la expresión regular `[^\\w\\s]` para seleccionar todos aquellos caracteres ASCII que no son `[A-Za-z0-9_]` (`\\w`) o `[ \\t\\r\\n\\f]` (`\\s`) y eliminarlos."
   ]
  },
  {
   "cell_type": "code",
   "execution_count": 20,
   "id": "9c467a44-d7bf-4a97-8f4b-e58b08062b85",
   "metadata": {},
   "outputs": [
    {
     "data": {
      "text/plain": [
       "'Hace muchos años en un lugar muy lejano había un Rey al que todos consideraban muy sabio Gobernaba con gran justicia 9 aldeas Las 9 eran vecinas y en perfecta armonía todas convivían El Rey se ocupaba de que todas las aldeas tuvieran agua comida y una bonita escuela Las 9 aldeas estaban rodeadas por 9 riachuelos Y el Rey construyo 9 molinos y 9 puentes para que todos pudieran cruzar de un lado a otro sin correr ningún riesgo'"
      ]
     },
     "execution_count": 20,
     "metadata": {},
     "output_type": "execute_result"
    }
   ],
   "source": [
    "sample_text_clean = re.sub(r'[^\\w\\s]', '', sample_text)\n",
    "sample_text_clean"
   ]
  },
  {
   "cell_type": "markdown",
   "id": "cd9604c3-40c5-4704-9c86-5d01e9f1cd6e",
   "metadata": {},
   "source": [
    "**¡Ojo!** Vemos que esto NO ha quitado los acentos ni la `'ñ'`."
   ]
  },
  {
   "cell_type": "markdown",
   "id": "eeb233cd-b0a3-48c9-9f3b-30a1784e6b0f",
   "metadata": {},
   "source": [
    "## Eliminar espacios innecesarios\n",
    "\n",
    "Muchas veces hay espacios en el texto que no aportan información y conviene limpiarlos. Estos pueden estar tanto al inicio y final del texto como entremedias.\n",
    "\n",
    "Lo primero que vamos a hacer es generar esos espacios en nuestro texto de ejemplo sustituyendo los signos de puntuación por espacios para ver luego cómo eliminarlos."
   ]
  },
  {
   "cell_type": "code",
   "execution_count": 21,
   "id": "0addb837-b5eb-4286-8ec2-0dace2849919",
   "metadata": {},
   "outputs": [
    {
     "data": {
      "text/plain": [
       "'Hace muchos años  en un lugar muy lejano  había un Rey al que todos consideraban muy sabio  Gobernaba con gran justicia 9 aldeas  Las 9 eran vecinas y en perfecta armonía todas convivían  El Rey se ocupaba de que todas las aldeas tuvieran agua  comida y una bonita escuela  Las 9 aldeas estaban rodeadas por 9 riachuelos  Y el Rey construyo 9 molinos y 9 puentes para que todos pudieran cruzar de un lado a otro sin correr ningún riesgo '"
      ]
     },
     "execution_count": 21,
     "metadata": {},
     "output_type": "execute_result"
    }
   ],
   "source": [
    "# Sustituimos los signos de puntuación\n",
    "punct_es = r'.,;:\"#$%&\\'()*+-/<=>@[\\\\]^_`{|}~¿?¡!ºª'\n",
    "traslator = str.maketrans(punct_es, ' '*len(punct_es))\n",
    "\n",
    "sample_text_clean = sample_text.translate(traslator)\n",
    "sample_text_clean"
   ]
  },
  {
   "cell_type": "markdown",
   "id": "281df819-98c5-49a2-a067-fac32d27befd",
   "metadata": {},
   "source": [
    "### En los extremos"
   ]
  },
  {
   "cell_type": "code",
   "execution_count": 22,
   "id": "8150e25c-9876-4d08-80ff-915180024f17",
   "metadata": {},
   "outputs": [
    {
     "data": {
      "text/plain": [
       "'Hace muchos años  en un lugar muy lejano  había un Rey al que todos consideraban muy sabio  Gobernaba con gran justicia 9 aldeas  Las 9 eran vecinas y en perfecta armonía todas convivían  El Rey se ocupaba de que todas las aldeas tuvieran agua  comida y una bonita escuela  Las 9 aldeas estaban rodeadas por 9 riachuelos  Y el Rey construyo 9 molinos y 9 puentes para que todos pudieran cruzar de un lado a otro sin correr ningún riesgo'"
      ]
     },
     "execution_count": 22,
     "metadata": {},
     "output_type": "execute_result"
    }
   ],
   "source": [
    "sample_text_clean = sample_text_clean.strip()\n",
    "sample_text_clean"
   ]
  },
  {
   "cell_type": "code",
   "execution_count": 23,
   "id": "fcc7e94c-bed6-4bdd-8a74-a9838e0be35e",
   "metadata": {},
   "outputs": [
    {
     "name": "stdout",
     "output_type": "stream",
     "text": [
      " Trabajar en #Ryanair como #TMA: https://t.co/ruUArBe1tO #empleo\n",
      "\n",
      "Trabajar en #Ryanair como #TMA: https://t.co/ruUArBe1tO #empleo\n"
     ]
    }
   ],
   "source": [
    "df_t['text_clean'] = df_t['text'].str.strip()\n",
    "\n",
    "print(df_t.loc[0, 'text'])\n",
    "print()\n",
    "print(df_t.loc[0, 'text_clean'])"
   ]
  },
  {
   "cell_type": "markdown",
   "id": "fd4e43a3-96f2-47de-8cb6-6dd44b8fcd3b",
   "metadata": {},
   "source": [
    "### Dentro del texto"
   ]
  },
  {
   "cell_type": "code",
   "execution_count": 24,
   "id": "e76dab2e-483b-4886-93bb-84446a706e0b",
   "metadata": {},
   "outputs": [
    {
     "data": {
      "text/plain": [
       "'Hace muchos años en un lugar muy lejano había un Rey al que todos consideraban muy sabio Gobernaba con gran justicia 9 aldeas Las 9 eran vecinas y en perfecta armonía todas convivían El Rey se ocupaba de que todas las aldeas tuvieran agua comida y una bonita escuela Las 9 aldeas estaban rodeadas por 9 riachuelos Y el Rey construyo 9 molinos y 9 puentes para que todos pudieran cruzar de un lado a otro sin correr ningún riesgo'"
      ]
     },
     "execution_count": 24,
     "metadata": {},
     "output_type": "execute_result"
    }
   ],
   "source": [
    "# Si solo queremos eliminar los espacios duplicados\n",
    "sample_text_clean = re.sub(r' {2,}', ' ', sample_text_clean)\n",
    "sample_text_clean"
   ]
  },
  {
   "cell_type": "markdown",
   "id": "ff8ba694-0385-46bf-a24a-458f9828e809",
   "metadata": {},
   "source": [
    "Si queremos eliminar todos los _whitespace characters_ o `[ \\t\\r\\n\\f]` repetidos usaremos la expresión regular `r'\\s{2,}'`."
   ]
  },
  {
   "cell_type": "code",
   "execution_count": 25,
   "id": "730eef98-a593-4baf-b9be-9f7e9c65d517",
   "metadata": {},
   "outputs": [
    {
     "name": "stdout",
     "output_type": "stream",
     "text": [
      "@algoqrecordar @Iberia  @viajarlocura @lacosmopolilla   @WanderlustTB @TragaViajes  Una suerte poder volar, pero especialmente aterrizar 👉✌😜\n",
      "\n",
      "@algoqrecordar @Iberia @viajarlocura @lacosmopolilla @WanderlustTB @TragaViajes Una suerte poder volar, pero especialmente aterrizar 👉✌😜\n"
     ]
    }
   ],
   "source": [
    "df_t['text_clean'] = df_t['text'].str.replace(r'\\s{2,}', ' ', regex=True)\n",
    "\n",
    "print(df_t.loc[17, 'text'])\n",
    "print()\n",
    "print(df_t.loc[17, 'text_clean'])"
   ]
  },
  {
   "cell_type": "markdown",
   "id": "4721c7c5-a42e-438b-b433-dedd8ce9a721",
   "metadata": {
    "tags": []
   },
   "source": [
    "## Eliminar emojis y emoticonos\n",
    "\n",
    "Para eliminar emoticonos y emojis existen una serie de librerías que nos van a facilitar mucho el trabajo. En el caso de los emojis podemos usar también expresiones regulares."
   ]
  },
  {
   "cell_type": "markdown",
   "id": "78aef7b4-b34f-42bf-8270-97293d6788ef",
   "metadata": {},
   "source": [
    "### Usando expresiones regulares\n",
    "\n",
    "Vamos a eliminar los emojis de los textos usando expresiones regulares."
   ]
  },
  {
   "cell_type": "code",
   "execution_count": 26,
   "id": "08466b7f-ccab-4a53-b236-e4fa582a8a8e",
   "metadata": {},
   "outputs": [],
   "source": [
    "emoji_sample_text = \"¡Hasta pronto! 😚\""
   ]
  },
  {
   "cell_type": "markdown",
   "id": "b17243ce-6519-469c-b835-d39983e74234",
   "metadata": {},
   "source": [
    "Lo primero que vamos a hacer es definir una función para eliminar los emojis que podamos reutilizar con cualquier texto. En ella debemos especificar los códigos Unicode de los emojis que queremos eliminar y, a continuación, compilar la expresión regular para crear un patrón que nos va a permitir encontrar los emojis en el texto, para luego eliminarlos o sustituirlos por el carácter que deseemos."
   ]
  },
  {
   "cell_type": "code",
   "execution_count": 27,
   "id": "acfe1c1a-66af-45fb-b947-2be75dd5c973",
   "metadata": {},
   "outputs": [],
   "source": [
    "def remove_emojis(string):\n",
    "    emoji_pattern = re.compile(\"[\"\n",
    "                               u\"\\U0001F600-\\U0001F64F\"  # emoticons\n",
    "                               u\"\\U0001F300-\\U0001F5FF\"  # symbols & pictographs\n",
    "                               u\"\\U0001F680-\\U0001F6FF\"  # transport & map symbols\n",
    "                               u\"\\U0001F1E0-\\U0001F1FF\"  # flags (iOS)\n",
    "                               u\"\\U00002500-\\U00002BEF\"  # chinese char\n",
    "                               u\"\\U00002702-\\U000027B0\"\n",
    "                               u\"\\U00002702-\\U000027B0\"\n",
    "                               u\"\\U000024C2-\\U0001F251\"\n",
    "                               u\"\\U0001f926-\\U0001f937\"\n",
    "                               u\"\\U00010000-\\U0010ffff\"\n",
    "                               u\"\\u2640-\\u2642\"\n",
    "                               u\"\\u2600-\\u2B55\"\n",
    "                               u\"\\u200d\"\n",
    "                               u\"\\u23cf\"\n",
    "                               u\"\\u23e9\"\n",
    "                               u\"\\u231a\"\n",
    "                               u\"\\ufe0f\"  # dingbats\n",
    "                               u\"\\u3030\"\n",
    "                               \"]+\", re.UNICODE)\n",
    "    return re.sub(emoji_pattern, '', string)"
   ]
  },
  {
   "cell_type": "code",
   "execution_count": 28,
   "id": "3a4793ba-8299-4b23-ad30-145b79118f1c",
   "metadata": {},
   "outputs": [
    {
     "data": {
      "text/plain": [
       "'¡Hasta pronto! '"
      ]
     },
     "execution_count": 28,
     "metadata": {},
     "output_type": "execute_result"
    }
   ],
   "source": [
    "remove_emojis(emoji_sample_text)"
   ]
  },
  {
   "cell_type": "markdown",
   "id": "f80879b1-4d6a-4ddb-a676-a9b9dae631de",
   "metadata": {},
   "source": [
    "El problema de esta función es que debemos asegurarnos de que contiene el listado completo de códigos, el cual cambia ya que cada cierto tiempo se añaden nuevos emojis al catálogo. También nos da la flexibilidad de poder especificar cuáles queremos eliminar por si solo quisiéramos quitar algunos en concreto.\n",
    "\n",
    "Podemos consultar las diferentes versiones del listado completo de emojis en [Unicode.org](http://unicode.org/Public/emoji/) y el listado de la última versión en [Full Emoji List, v14.0](http://www.unicode.org/emoji/charts/full-emoji-list.html). "
   ]
  },
  {
   "cell_type": "code",
   "execution_count": 29,
   "id": "0be7e447-a288-4070-841d-a01a3aef89ef",
   "metadata": {},
   "outputs": [
    {
     "name": "stdout",
     "output_type": "stream",
     "text": [
      "Hola @Iberia. He hecho check in con la app, después de muchos meses y la experiencia ha sido brutalmente buena. 👌🙂👏🏻\n",
      "\n",
      "Hola @Iberia. He hecho check in con la app, después de muchos meses y la experiencia ha sido brutalmente buena. \n"
     ]
    }
   ],
   "source": [
    "df_t['text_clean'] = df_t['text'].apply(remove_emojis)\n",
    "\n",
    "print(df_t.loc[52, 'text'])\n",
    "print()\n",
    "print(df_t.loc[52, 'text_clean'])"
   ]
  },
  {
   "cell_type": "markdown",
   "id": "b458f33d-2526-4d2c-a7c1-3ac7e9dc1ed0",
   "metadata": {},
   "source": [
    "### Usando la librería `emot`\n",
    "\n",
    "Esta librería nos permite trabajar tanto con emojis como con emoticonos. Para poder usarla necesitamos instalarla previamente.\n",
    "\n",
    "Puedes consultar más información sobre esta librería en su repositorio de [GitHub](https://github.com/NeelShah18/emot)."
   ]
  },
  {
   "cell_type": "code",
   "execution_count": 30,
   "id": "8367fa13-b599-45fc-ad1f-0f3c1d6152bc",
   "metadata": {},
   "outputs": [],
   "source": [
    "# !pip install emot --upgrade"
   ]
  },
  {
   "cell_type": "code",
   "execution_count": 31,
   "id": "f1b51918-2dfb-4810-b9be-476204ed3a5b",
   "metadata": {},
   "outputs": [],
   "source": [
    "# Importamos la librería\n",
    "import emot"
   ]
  },
  {
   "cell_type": "code",
   "execution_count": 32,
   "id": "66027933-f994-44c5-8891-d25d7a31c676",
   "metadata": {},
   "outputs": [],
   "source": [
    "# Instanciamos objeto emot\n",
    "emot_obj = emot.core.emot()"
   ]
  },
  {
   "cell_type": "markdown",
   "id": "cc3b9858-f548-4b51-9314-2ace6136d3d2",
   "metadata": {},
   "source": [
    "#### Convertir emoticonos a texto"
   ]
  },
  {
   "cell_type": "code",
   "execution_count": 33,
   "id": "61e54c9e-f297-49e9-818a-2783b46aa907",
   "metadata": {},
   "outputs": [],
   "source": [
    "def convert_emoticons_to_text(text):\n",
    "    emoticons_dict = emot_obj.emoticons(text)\n",
    "\n",
    "    for i, emoticon in enumerate(emoticons_dict.get('value')):\n",
    "        text = re.sub(re.escape(emoticon), emoticons_dict['mean'][i], text)\n",
    "\n",
    "    return text"
   ]
  },
  {
   "cell_type": "code",
   "execution_count": 34,
   "id": "a0ab8ee8-f0b8-4021-863b-1376b9fea349",
   "metadata": {},
   "outputs": [],
   "source": [
    "emoticon_sample_text = \"¡Hasta luego! :‑) :-*\""
   ]
  },
  {
   "cell_type": "code",
   "execution_count": 35,
   "id": "163e94e5-a5bc-4eeb-8d77-f42fd6081443",
   "metadata": {},
   "outputs": [
    {
     "data": {
      "text/plain": [
       "'¡Hasta luego! Happy face or smiley Kiss'"
      ]
     },
     "execution_count": 35,
     "metadata": {},
     "output_type": "execute_result"
    }
   ],
   "source": [
    "convert_emoticons_to_text(emoticon_sample_text)"
   ]
  },
  {
   "cell_type": "markdown",
   "id": "8ff214b6-b797-4ca5-8604-02c9070ec62f",
   "metadata": {
    "tags": []
   },
   "source": [
    "#### Eliminar emoticonos del texto"
   ]
  },
  {
   "cell_type": "code",
   "execution_count": 36,
   "id": "6d49b51f-c756-43b8-afc9-6f8bbe4511b0",
   "metadata": {},
   "outputs": [],
   "source": [
    "def remove_emoticons_from_text(text):\n",
    "    emoticons_dict = emot_obj.emoticons(text)\n",
    "\n",
    "    for i, emoticon in enumerate(emoticons_dict.get('value')):\n",
    "        text = re.sub(re.escape(emoticon), '', text)\n",
    "\n",
    "    return text"
   ]
  },
  {
   "cell_type": "code",
   "execution_count": 37,
   "id": "0f852ce2-84e2-4395-ab81-c412f138c97a",
   "metadata": {},
   "outputs": [
    {
     "data": {
      "text/plain": [
       "'¡Hasta luego!  '"
      ]
     },
     "execution_count": 37,
     "metadata": {},
     "output_type": "execute_result"
    }
   ],
   "source": [
    "remove_emoticons_from_text(emoticon_sample_text)"
   ]
  },
  {
   "cell_type": "markdown",
   "id": "59fa9df7-4ff9-4d5d-bfe1-44ab847c07c1",
   "metadata": {},
   "source": [
    "Si queremos ver el listado de emoticonos disponibles en esta librería podemos hacer lo siguiente:"
   ]
  },
  {
   "cell_type": "code",
   "execution_count": 38,
   "id": "d0972afb-4bad-498a-a85b-d7959b4392d1",
   "metadata": {},
   "outputs": [],
   "source": [
    "from emot.emo_unicode import EMOTICONS_EMO"
   ]
  },
  {
   "cell_type": "code",
   "execution_count": 39,
   "id": "aeda53cb-12b8-4d55-82c0-2feb76d2e569",
   "metadata": {
    "scrolled": true,
    "tags": []
   },
   "outputs": [],
   "source": [
    "# Descomenta esta línea para ver el listado completo\n",
    "# EMOTICONS_EMO"
   ]
  },
  {
   "cell_type": "markdown",
   "id": "5c09ad1b-126b-4a78-a14c-f476e881c7d5",
   "metadata": {},
   "source": [
    "#### Convertir emojis a texto"
   ]
  },
  {
   "cell_type": "code",
   "execution_count": 40,
   "id": "30f6a528-c8ce-45c2-b7ac-9361daf7804b",
   "metadata": {},
   "outputs": [],
   "source": [
    "emot_obj = emot.core.emot()\n",
    "\n",
    "\n",
    "def convert_emojis_to_text(text):\n",
    "    emojis_dict = emot_obj.emoji(text)\n",
    "\n",
    "    for i, emoji in enumerate(emojis_dict.get('value')):\n",
    "        text = re.sub(emoji, emojis_dict['mean'][i].replace(\n",
    "            '_', ' ').replace(':', ' '), text)\n",
    "\n",
    "    return text"
   ]
  },
  {
   "cell_type": "code",
   "execution_count": 41,
   "id": "a0f69559-3cc4-4272-8611-abd17d091af6",
   "metadata": {},
   "outputs": [],
   "source": [
    "emojis_sample_text = \"¡Hasta luego! 👋😘\""
   ]
  },
  {
   "cell_type": "code",
   "execution_count": 42,
   "id": "ea0a9678-6aff-45d2-8709-8f05d8498f92",
   "metadata": {},
   "outputs": [
    {
     "data": {
      "text/plain": [
       "'¡Hasta luego!  waving hand  face blowing a kiss '"
      ]
     },
     "execution_count": 42,
     "metadata": {},
     "output_type": "execute_result"
    }
   ],
   "source": [
    "convert_emojis_to_text(emojis_sample_text)"
   ]
  },
  {
   "cell_type": "markdown",
   "id": "75aafbb5-099b-431d-8e0a-f292fd37d7e7",
   "metadata": {
    "tags": []
   },
   "source": [
    "#### Eliminar emojis del texto"
   ]
  },
  {
   "cell_type": "code",
   "execution_count": 43,
   "id": "48864a8a-9827-4a1f-b673-9012b69d2fb6",
   "metadata": {},
   "outputs": [],
   "source": [
    "def remove_emojis_from_text(text):\n",
    "    emojis_dict = emot_obj.emoji(text)\n",
    "\n",
    "    for i, emoji in enumerate(emojis_dict.get('value')):\n",
    "        text = re.sub(emoji, '', text)\n",
    "\n",
    "    return text"
   ]
  },
  {
   "cell_type": "code",
   "execution_count": 44,
   "id": "399b6f89-d262-4357-b222-f03a2b4693de",
   "metadata": {},
   "outputs": [
    {
     "data": {
      "text/plain": [
       "'¡Hasta luego! '"
      ]
     },
     "execution_count": 44,
     "metadata": {},
     "output_type": "execute_result"
    }
   ],
   "source": [
    "remove_emojis_from_text(emojis_sample_text)"
   ]
  },
  {
   "cell_type": "markdown",
   "id": "7e4acb46-8d43-47d6-ac11-c97182dcda78",
   "metadata": {},
   "source": [
    "Si queremos ver el listado de emojis disponibles en esta librería podemos hacer lo siguiente:"
   ]
  },
  {
   "cell_type": "code",
   "execution_count": 45,
   "id": "ad2c1530-b95c-47da-b021-77056f27fce0",
   "metadata": {},
   "outputs": [],
   "source": [
    "from emot.emo_unicode import EMOJI_UNICODE"
   ]
  },
  {
   "cell_type": "code",
   "execution_count": 46,
   "id": "6a76d91f-f2cd-4418-a03e-12e44c1c6f58",
   "metadata": {
    "scrolled": true,
    "tags": []
   },
   "outputs": [],
   "source": [
    "# Descomenta esta línea para ver el listado completo\n",
    "# EMOJI_UNICODE"
   ]
  },
  {
   "cell_type": "markdown",
   "id": "9503c9dc-e5a8-45b3-b252-973d064a6694",
   "metadata": {},
   "source": [
    "Para aplicar cualquiera de las funciones anteriores a nuestro dataset, solo tenemos que hacer lo siguiente:"
   ]
  },
  {
   "cell_type": "code",
   "execution_count": 47,
   "id": "e19509b3-745a-45b2-8a8d-08992b7bd6d5",
   "metadata": {},
   "outputs": [
    {
     "name": "stdout",
     "output_type": "stream",
     "text": [
      "Por allí estaremos la semana que viene! Mucha suerte a todos los participantes :3 https://t.co/1N2BrpQlvj\n",
      "\n",
      "Por allí estaremos la semana que viene! Mucha suerte a todos los participantes Happy face smiley httpsSkeptical, annoyed, undecided, uneasy or hesitant/t.co/1N2BrpQlvj\n"
     ]
    }
   ],
   "source": [
    "df_t['text_clean'] = df_t['text'].apply(convert_emoticons_to_text)\n",
    "\n",
    "print(df_t.loc[385, 'text'])\n",
    "print()\n",
    "print(df_t.loc[385, 'text_clean'])"
   ]
  },
  {
   "cell_type": "code",
   "execution_count": 48,
   "id": "7241cd0e-b5c6-4913-8843-957f85893b02",
   "metadata": {},
   "outputs": [
    {
     "name": "stdout",
     "output_type": "stream",
     "text": [
      "Hola @Iberia. He hecho check in con la app, después de muchos meses y la experiencia ha sido brutalmente buena. 👌🙂👏🏻\n",
      "\n",
      "Hola @Iberia. He hecho check in con la app, después de muchos meses y la experiencia ha sido brutalmente buena.  OK hand  slightly smiling face  clapping hands light skin tone \n"
     ]
    }
   ],
   "source": [
    "df_t['text_clean'] = df_t['text'].apply(convert_emojis_to_text)\n",
    "\n",
    "print(df_t.loc[52, 'text'])\n",
    "print()\n",
    "print(df_t.loc[52, 'text_clean'])"
   ]
  },
  {
   "cell_type": "markdown",
   "id": "95b9d39c-39f2-4fe7-812f-f931bfb9c091",
   "metadata": {},
   "source": [
    "### Usando la librería `emoji`\n",
    "\n",
    "Como podemos ver, con las funciones anteriores conseguimos hacer las sustituciones correctamente, pero el problema es que la traducción que nos devuelve para emojis y emoticonos está en inglés.\n",
    "\n",
    "Si necesitamos que esté en castellano podemos usar la librería `emoji`, pero como indica su propio nombre solo funciona con los emojis y no con los emoticonos.\n",
    "\n",
    "Al igual que en el caso anterior, también tendremos que instalar esta librería antes de poder usarla.\n",
    "\n",
    "Puedes consultar más información sobre esta librería en su repositorio de [GitHub](https://github.com/carpedm20/emoji/)."
   ]
  },
  {
   "cell_type": "code",
   "execution_count": 49,
   "id": "5032d673-f1a4-4a67-9234-def0ae579c82",
   "metadata": {},
   "outputs": [],
   "source": [
    "# !pip install emoji --upgrade"
   ]
  },
  {
   "cell_type": "code",
   "execution_count": 50,
   "id": "0099c631-71e4-4854-bb0f-a0c6632f22bc",
   "metadata": {},
   "outputs": [],
   "source": [
    "import emoji"
   ]
  },
  {
   "cell_type": "code",
   "execution_count": 51,
   "id": "bf6beaee-8e0f-4f4d-bc28-37b22dee9ab3",
   "metadata": {},
   "outputs": [],
   "source": [
    "emojis_sample_text = \"¡Hasta luego! 👋😘\""
   ]
  },
  {
   "cell_type": "code",
   "execution_count": 52,
   "id": "ddc5398f-6897-46a6-b88f-b4daee6beef0",
   "metadata": {},
   "outputs": [
    {
     "data": {
      "text/plain": [
       "'¡Hasta luego! :mano_saludando::cara_lanzando_un_beso:'"
      ]
     },
     "execution_count": 52,
     "metadata": {},
     "output_type": "execute_result"
    }
   ],
   "source": [
    "emoji.demojize(emojis_sample_text, language='es')"
   ]
  },
  {
   "cell_type": "code",
   "execution_count": 53,
   "id": "d0517cd9-7b11-4ebf-b27c-cca25414a802",
   "metadata": {},
   "outputs": [
    {
     "name": "stdout",
     "output_type": "stream",
     "text": [
      "Hola @Iberia. He hecho check in con la app, después de muchos meses y la experiencia ha sido brutalmente buena. 👌🙂👏🏻\n",
      "\n",
      "Hola @Iberia. He hecho check in con la app, después de muchos meses y la experiencia ha sido brutalmente buena. :señal_de_aprobación_con_la_mano::cara_sonriendo_ligeramente::manos_aplaudiendo_tono_de_piel_claro:\n"
     ]
    }
   ],
   "source": [
    "df_t['text_clean'] = df_t['text'].apply(lambda x: emoji.demojize(x, language='es'))\n",
    "\n",
    "print(df_t.loc[52, 'text'])\n",
    "print()\n",
    "print(df_t.loc[52, 'text_clean'])"
   ]
  },
  {
   "cell_type": "markdown",
   "id": "6b35318d-8f64-4cea-a5d5-e2fc9d411118",
   "metadata": {},
   "source": [
    "## Eliminar menciones y hashtags\n",
    "\n",
    "En ocasiones, querremos eliminar las menciones o los hashtags de los textos porque no nos aportan información útil para nuestro problema. A continuación, veremos como eliminarlos."
   ]
  },
  {
   "cell_type": "code",
   "execution_count": 54,
   "id": "2b4054a6-e9c6-4bef-a42d-50e6630c661b",
   "metadata": {},
   "outputs": [],
   "source": [
    "hastags_sample_text = '¡Participa en nuestro #sorteo_navidad!'"
   ]
  },
  {
   "cell_type": "code",
   "execution_count": 55,
   "id": "778aa21c-ee97-49e3-868a-c0b3076fcdb3",
   "metadata": {},
   "outputs": [
    {
     "data": {
      "text/plain": [
       "'¡Participa en nuestro !'"
      ]
     },
     "execution_count": 55,
     "metadata": {},
     "output_type": "execute_result"
    }
   ],
   "source": [
    "hastags_sample_text_clean = re.sub(r'#(\\w+)', '', hastags_sample_text)\n",
    "hastags_sample_text_clean"
   ]
  },
  {
   "cell_type": "code",
   "execution_count": 56,
   "id": "ab38c7e3-68f0-40fc-961e-f1a834523005",
   "metadata": {},
   "outputs": [
    {
     "name": "stdout",
     "output_type": "stream",
     "text": [
      "Barómetro #Business: Iberia (57%) y Vueling (61%) son las compañías aéreas más utilizadas en los #viajes de… https://t.co/jl80ib9JYr\n",
      "\n",
      "Barómetro : Iberia (57%) y Vueling (61%) son las compañías aéreas más utilizadas en los  de… https://t.co/jl80ib9JYr\n"
     ]
    }
   ],
   "source": [
    "df_t['text_clean'] = df_t['text'].str.replace(r'#(\\w+)', '', regex=True)\n",
    "\n",
    "print(df_t.loc[7, 'text'])\n",
    "print()\n",
    "print(df_t.loc[7, 'text_clean'])"
   ]
  },
  {
   "cell_type": "code",
   "execution_count": 57,
   "id": "4d829e92-da16-466b-b8e2-73c055d7f154",
   "metadata": {},
   "outputs": [],
   "source": [
    "mentions_sample_text = 'Hola, soy @Sam715. ¿Es este el grupo de NLP?'"
   ]
  },
  {
   "cell_type": "code",
   "execution_count": 58,
   "id": "32b061d3-2e35-4fb3-9936-1b460edeac32",
   "metadata": {},
   "outputs": [
    {
     "data": {
      "text/plain": [
       "'Hola, soy . ¿Es este el grupo de NLP?'"
      ]
     },
     "execution_count": 58,
     "metadata": {},
     "output_type": "execute_result"
    }
   ],
   "source": [
    "mentions_sample_text_clean = re.sub(r'@(\\w+)', '', mentions_sample_text)\n",
    "mentions_sample_text_clean"
   ]
  },
  {
   "cell_type": "code",
   "execution_count": 59,
   "id": "8ea0decc-fa21-42ae-9ecb-2504fa514236",
   "metadata": {},
   "outputs": [
    {
     "name": "stdout",
     "output_type": "stream",
     "text": [
      "@Iberia @FIONAFERRER Cuando gusten en Cancún se viaja y disfruta de manera sin igual\n",
      "\n",
      "  Cuando gusten en Cancún se viaja y disfruta de manera sin igual\n"
     ]
    }
   ],
   "source": [
    "df_t['text_clean'] = df_t['text'].str.replace(r'@(\\w+)', '', regex=True)\n",
    "\n",
    "print(df_t.loc[1, 'text'])\n",
    "print()\n",
    "print(df_t.loc[1, 'text_clean'])"
   ]
  },
  {
   "cell_type": "markdown",
   "id": "c9c50b7f-fd8d-47f9-a513-c5cfc6ac6d03",
   "metadata": {},
   "source": [
    "## Eliminar urls e emails\n",
    "\n",
    "Generalmente, tanto las urls como los emails que podemos encontrar en los textos no nos aportan información útil para nuestro problema. Para eliminarlos, haremos lo siguiente."
   ]
  },
  {
   "cell_type": "code",
   "execution_count": 60,
   "id": "889eb4f7-29ca-46d4-944b-fbd0944b4227",
   "metadata": {},
   "outputs": [],
   "source": [
    "url_sample_text = 'Si tienes dudas de programación consulta https://stackoverflow.com/questions/'"
   ]
  },
  {
   "cell_type": "code",
   "execution_count": 61,
   "id": "c4b4314a-8ca1-4497-acf0-8cda4191720e",
   "metadata": {},
   "outputs": [],
   "source": [
    "url_regex = r'(https?:\\/\\/)?(www\\.)?[-a-zA-Z0-9@:%._\\+~#=]{1,256}\\.[a-zA-Z0-9()]{1,6}\\b([-a-zA-Z0-9()@:%_\\+.~#?&//=]*)'"
   ]
  },
  {
   "cell_type": "code",
   "execution_count": 62,
   "id": "12f17a7f-ac8c-4057-a1e3-38f697675f75",
   "metadata": {},
   "outputs": [
    {
     "data": {
      "text/plain": [
       "'Si tienes dudas de programación consulta '"
      ]
     },
     "execution_count": 62,
     "metadata": {},
     "output_type": "execute_result"
    }
   ],
   "source": [
    "url_sample_text_clean = re.sub(url_regex, '', url_sample_text)\n",
    "url_sample_text_clean"
   ]
  },
  {
   "cell_type": "code",
   "execution_count": 63,
   "id": "b11c9a2b-4899-41cc-b366-ed91748609df",
   "metadata": {},
   "outputs": [
    {
     "name": "stdout",
     "output_type": "stream",
     "text": [
      "Así fue el accidente del vuelo 5022 de Spanair, el más letal en España en 2 décadas [VIDEO] https://t.co/eiq5JFzWJh\n",
      "\n",
      "Así fue el accidente del vuelo 5022 de Spanair, el más letal en España en 2 décadas [VIDEO] \n"
     ]
    }
   ],
   "source": [
    "df_t['text_clean'] = df_t['text'].str.replace(url_regex, '', regex=True)\n",
    "\n",
    "print(df_t.loc[72, 'text'])\n",
    "print()\n",
    "print(df_t.loc[72, 'text_clean'])"
   ]
  },
  {
   "cell_type": "code",
   "execution_count": 64,
   "id": "b5a0d0b6-4643-4bbc-931a-04cfa213e51c",
   "metadata": {},
   "outputs": [],
   "source": [
    "email_regex = r'''(?:[a-z0-9!#$%&'*+/=?^_`{|}~-]+(?:\\.[a-z0-9!#$%&'*+/=?^_`{|}~-]+)*|\"(?:[\\x01-\\x08\\x0b\\x0c\\x0e-\\x1f\\x21\\x23-\\x5b\\x5d-\\x7f]|\\\\[\\x01-\\x09\\x0b\\x0c\\x0e-\\x7f])*\")@(?:(?:[a-z0-9](?:[a-z0-9-]*[a-z0-9])?\\.)+[a-z0-9](?:[a-z0-9-]*[a-z0-9])?|\\[(?:(?:25[0-5]|2[0-4][0-9]|[01]?[0-9][0-9]?)\\.){3}(?:25[0-5]|2[0-4][0-9]|[01]?[0-9][0-9]?|[a-z0-9-]*[a-z0-9]:(?:[\\x01-\\x08\\x0b\\x0c\\x0e-\\x1f\\x21-\\x5a\\x53-\\x7f]|\\\\[\\x01-\\x09\\x0b\\x0c\\x0e-\\x7f])+)\\])'''"
   ]
  },
  {
   "cell_type": "code",
   "execution_count": 65,
   "id": "12a759b9-09c5-45dc-8983-d5aebc9c5633",
   "metadata": {},
   "outputs": [],
   "source": [
    "email_sample_text = 'El email de contacto es info@saturdays.ai'"
   ]
  },
  {
   "cell_type": "code",
   "execution_count": 66,
   "id": "8f50a9e5-9f86-4d0b-9bc2-8c272c1f7e7d",
   "metadata": {},
   "outputs": [
    {
     "data": {
      "text/plain": [
       "'El email de contacto es '"
      ]
     },
     "execution_count": 66,
     "metadata": {},
     "output_type": "execute_result"
    }
   ],
   "source": [
    "email_sample_text_clean = re.sub(email_regex, '', email_sample_text)\n",
    "email_sample_text_clean"
   ]
  },
  {
   "cell_type": "code",
   "execution_count": 67,
   "id": "178205b9-f82f-4a0e-b088-34fb08aba87b",
   "metadata": {},
   "outputs": [
    {
     "name": "stdout",
     "output_type": "stream",
     "text": [
      "@Ryanair_ES NO TENGO RESPUESTA POR PARTE DE refund@ryanair.com TENGO PENDIENTE 2 REEMBOLSOS COMO PODRÁN COMPRENDER,… https://t.co/FtQ4qoFKxx\n",
      "\n",
      "@Ryanair_ES NO TENGO RESPUESTA POR PARTE DE  TENGO PENDIENTE 2 REEMBOLSOS COMO PODRÁN COMPRENDER,… https://t.co/FtQ4qoFKxx\n"
     ]
    }
   ],
   "source": [
    "df_t['text_clean'] = df_t['text'].str.replace(email_regex, '', regex=True)\n",
    "\n",
    "print(df_t.loc[1264, 'text'])\n",
    "print()\n",
    "print(df_t.loc[1264, 'text_clean'])"
   ]
  },
  {
   "cell_type": "markdown",
   "id": "4b534687-1983-4233-b18c-6d5b827f6f22",
   "metadata": {},
   "source": [
    "## Eliminar etiquetas HTML\n",
    "\n",
    "Una librería muy útil para eliminar etiquetas HTML que se hayan podido colar en nuestros textos es `BeautifulSoup`. Esta librería hace mucho más que solo esto, por ejemplo se usa mucho para hacer _web scraping_.\n",
    "\n",
    "Para más información de esta librería puedes consultar su página oficial [Beautiful Soup Documentation](https://www.crummy.com/software/BeautifulSoup/bs4/doc/)."
   ]
  },
  {
   "cell_type": "code",
   "execution_count": 68,
   "id": "daf23820-285d-45b3-9664-1d2855738148",
   "metadata": {},
   "outputs": [],
   "source": [
    "from bs4 import BeautifulSoup"
   ]
  },
  {
   "cell_type": "code",
   "execution_count": 69,
   "id": "d4cbbd56-3c66-4c5a-a322-9476caa0f5ed",
   "metadata": {},
   "outputs": [],
   "source": [
    "html_sample_text = \"\"\"<div>\n",
    "                          <h1>AI Saturdays</h1>\n",
    "                          <p>Consulta toda la información en <a href=\"https://saturdays.ai\">su página oficial.</a></p>\n",
    "                      </div>\"\"\""
   ]
  },
  {
   "cell_type": "code",
   "execution_count": 70,
   "id": "d0655e03-b457-453b-8b21-9519326d065b",
   "metadata": {},
   "outputs": [
    {
     "data": {
      "text/plain": [
       "'\\nAI Saturdays\\nConsulta toda la información en su página oficial.\\n'"
      ]
     },
     "execution_count": 70,
     "metadata": {},
     "output_type": "execute_result"
    }
   ],
   "source": [
    "html_sample_text_clean = BeautifulSoup(html_sample_text).text\n",
    "html_sample_text_clean"
   ]
  },
  {
   "cell_type": "code",
   "execution_count": 71,
   "id": "d4eb107f-a7e3-4816-a512-af05845ce208",
   "metadata": {},
   "outputs": [
    {
     "name": "stdout",
     "output_type": "stream",
     "text": [
      "\n",
      "AI Saturdays\n",
      "Consulta toda la información en su página oficial.\n",
      "\n"
     ]
    }
   ],
   "source": [
    "print(html_sample_text_clean)"
   ]
  },
  {
   "cell_type": "markdown",
   "id": "c8dd73f7-62ca-4d6d-8122-5be8d68c431b",
   "metadata": {},
   "source": [
    "## Eliminar stopwords\n",
    "\n",
    "_Stopwords_ o palabras vacías es el nombre que reciben aquellas palabras que no tienen un significado por sí solas, sino que modifican o acompañan a otras, y este grupo suele estar conformado por artículos, pronombres, preposiciones, adverbios e incluso algunos verbos, es decir, palabras muy comunes en cualquier lenguaje.\n",
    "\n",
    "Dado que no nos aportan significado, en muchos casos será necesario filtrarlas durante el preprocesamiento de los textos, y antes de entrenar los modelos de aprendizaje automático, para reducir el ruido y centrarnos en la información importante.\n",
    "\n",
    "La eliminación de palabras vacías reducirá el tamaño del conjunto de datos y, por lo tanto, el tiempo de entrenamiento debido a la menor cantidad de tokens involucrados en el entrenamiento.\n",
    "\n",
    "Pero, ¿debemos siempre eliminar las palabras vacías? La respuesta es no, no siempre eliminaremos las palabras vacías. La eliminación de palabras vacías depende en gran medida de la tarea que estamos realizando y del objetivo que queremos lograr.\n",
    "\n",
    "Por ejemplo, si estamos entrenando un modelo para realizar análisis de sentimientos, es posible que no nos convenga eliminar las palabras vacías. Sin embargo, tareas como la clasificación de textos generalmente no necesitan palabras vacías, ya que las otras palabras presentes en el conjunto de datos son más importantes y dan una idea general del texto.\n",
    "\n",
    "En pocas palabras, en NLP hay muchas tareas que no se pueden realizar correctamente después de eliminar las palabras vacías, por lo que debemos tenerlo claro para nuestro problema concreto antes de realizar este paso.\n",
    "\n",
    "El problema aquí además es que ninguna regla es universal y ninguna lista de palabras vacías es universal. Una lista que no transmite información importante a una tarea puede transmitir mucha información a otra tarea, lo que hará que en muchas ocasiones debamos crear listas de palabras vacías específicas para ciertas tareas.\n",
    "\n",
    "Todas las principales librerías de NLP cuentan con un listado de palabras vacías, vamos a ver algunas de ellas."
   ]
  },
  {
   "cell_type": "markdown",
   "id": "91a41a48-7c3c-4eea-ac01-30a0a1b3eda2",
   "metadata": {},
   "source": [
    "### Usando la librería NLTK"
   ]
  },
  {
   "cell_type": "code",
   "execution_count": 72,
   "id": "815949e5-f4c2-401b-8980-94060af6cfd7",
   "metadata": {},
   "outputs": [],
   "source": [
    "# Importamos las palabras vacías desde la librería\n",
    "from nltk.corpus import stopwords"
   ]
  },
  {
   "cell_type": "markdown",
   "id": "b5720558-e9ed-41fa-816c-8ca2caa33382",
   "metadata": {},
   "source": [
    "Vamos a crear un listado con las palabras vacías en castellano de esta librería."
   ]
  },
  {
   "cell_type": "code",
   "execution_count": 73,
   "id": "4f868019-918f-4cc7-803e-0375985110c6",
   "metadata": {},
   "outputs": [
    {
     "name": "stdout",
     "output_type": "stream",
     "text": [
      "['de', 'la', 'que', 'el', 'en', 'y', 'a', 'los', 'del', 'se', 'las', 'por', 'un', 'para', 'con', 'no', 'una', 'su', 'al', 'lo', 'como', 'más', 'pero', 'sus', 'le', 'ya', 'o', 'este', 'sí', 'porque', 'esta', 'entre', 'cuando', 'muy', 'sin', 'sobre', 'también', 'me', 'hasta', 'hay', 'donde', 'quien', 'desde', 'todo', 'nos', 'durante', 'todos', 'uno', 'les', 'ni', 'contra', 'otros', 'ese', 'eso', 'ante', 'ellos', 'e', 'esto', 'mí', 'antes', 'algunos', 'qué', 'unos', 'yo', 'otro', 'otras', 'otra', 'él', 'tanto', 'esa', 'estos', 'mucho', 'quienes', 'nada', 'muchos', 'cual', 'poco', 'ella', 'estar', 'estas', 'algunas', 'algo', 'nosotros', 'mi', 'mis', 'tú', 'te', 'ti', 'tu', 'tus', 'ellas', 'nosotras', 'vosotros', 'vosotras', 'os', 'mío', 'mía', 'míos', 'mías', 'tuyo', 'tuya', 'tuyos', 'tuyas', 'suyo', 'suya', 'suyos', 'suyas', 'nuestro', 'nuestra', 'nuestros', 'nuestras', 'vuestro', 'vuestra', 'vuestros', 'vuestras', 'esos', 'esas', 'estoy', 'estás', 'está', 'estamos', 'estáis', 'están', 'esté', 'estés', 'estemos', 'estéis', 'estén', 'estaré', 'estarás', 'estará', 'estaremos', 'estaréis', 'estarán', 'estaría', 'estarías', 'estaríamos', 'estaríais', 'estarían', 'estaba', 'estabas', 'estábamos', 'estabais', 'estaban', 'estuve', 'estuviste', 'estuvo', 'estuvimos', 'estuvisteis', 'estuvieron', 'estuviera', 'estuvieras', 'estuviéramos', 'estuvierais', 'estuvieran', 'estuviese', 'estuvieses', 'estuviésemos', 'estuvieseis', 'estuviesen', 'estando', 'estado', 'estada', 'estados', 'estadas', 'estad', 'he', 'has', 'ha', 'hemos', 'habéis', 'han', 'haya', 'hayas', 'hayamos', 'hayáis', 'hayan', 'habré', 'habrás', 'habrá', 'habremos', 'habréis', 'habrán', 'habría', 'habrías', 'habríamos', 'habríais', 'habrían', 'había', 'habías', 'habíamos', 'habíais', 'habían', 'hube', 'hubiste', 'hubo', 'hubimos', 'hubisteis', 'hubieron', 'hubiera', 'hubieras', 'hubiéramos', 'hubierais', 'hubieran', 'hubiese', 'hubieses', 'hubiésemos', 'hubieseis', 'hubiesen', 'habiendo', 'habido', 'habida', 'habidos', 'habidas', 'soy', 'eres', 'es', 'somos', 'sois', 'son', 'sea', 'seas', 'seamos', 'seáis', 'sean', 'seré', 'serás', 'será', 'seremos', 'seréis', 'serán', 'sería', 'serías', 'seríamos', 'seríais', 'serían', 'era', 'eras', 'éramos', 'erais', 'eran', 'fui', 'fuiste', 'fue', 'fuimos', 'fuisteis', 'fueron', 'fuera', 'fueras', 'fuéramos', 'fuerais', 'fueran', 'fuese', 'fueses', 'fuésemos', 'fueseis', 'fuesen', 'sintiendo', 'sentido', 'sentida', 'sentidos', 'sentidas', 'siente', 'sentid', 'tengo', 'tienes', 'tiene', 'tenemos', 'tenéis', 'tienen', 'tenga', 'tengas', 'tengamos', 'tengáis', 'tengan', 'tendré', 'tendrás', 'tendrá', 'tendremos', 'tendréis', 'tendrán', 'tendría', 'tendrías', 'tendríamos', 'tendríais', 'tendrían', 'tenía', 'tenías', 'teníamos', 'teníais', 'tenían', 'tuve', 'tuviste', 'tuvo', 'tuvimos', 'tuvisteis', 'tuvieron', 'tuviera', 'tuvieras', 'tuviéramos', 'tuvierais', 'tuvieran', 'tuviese', 'tuvieses', 'tuviésemos', 'tuvieseis', 'tuviesen', 'teniendo', 'tenido', 'tenida', 'tenidos', 'tenidas', 'tened']\n"
     ]
    }
   ],
   "source": [
    "STOPWORDS_NLTK = stopwords.words('spanish')\n",
    "print(STOPWORDS_NLTK)"
   ]
  },
  {
   "cell_type": "markdown",
   "id": "7a68b84e-ea71-4491-9116-b9cc90519e03",
   "metadata": {},
   "source": [
    "A continuación, definimos una función para eliminar las palabras vacías."
   ]
  },
  {
   "cell_type": "code",
   "execution_count": 74,
   "id": "3e5d22e0-7c0f-4e5b-9592-2425694ab96a",
   "metadata": {},
   "outputs": [],
   "source": [
    "def remove_stopwords(text):\n",
    "    return ' '.join([word for word in str(text).split() if word not in STOPWORDS_NLTK])"
   ]
  },
  {
   "cell_type": "code",
   "execution_count": 75,
   "id": "0150a04e-e67f-4530-a99f-c99b33675c92",
   "metadata": {},
   "outputs": [
    {
     "data": {
      "text/plain": [
       "'Hace muchos años, en un lugar muy lejano, había un Rey al que todos consideraban muy sabio. Gobernaba con gran justicia 9 aldeas. Las 9 eran vecinas y en perfecta armonía todas convivían. El Rey se ocupaba de que todas las aldeas tuvieran agua, comida y una bonita escuela. Las 9 aldeas estaban rodeadas por 9 riachuelos. Y el Rey construyo 9 molinos y 9 puentes para que todos pudieran cruzar de un lado a otro sin correr ningún riesgo.'"
      ]
     },
     "execution_count": 75,
     "metadata": {},
     "output_type": "execute_result"
    }
   ],
   "source": [
    "sample_text"
   ]
  },
  {
   "cell_type": "code",
   "execution_count": 76,
   "id": "e30f3656-32ad-4fd7-be64-ee7048de7b01",
   "metadata": {},
   "outputs": [
    {
     "data": {
      "text/plain": [
       "'Hace años, lugar lejano, Rey consideraban sabio. Gobernaba gran justicia 9 aldeas. Las 9 vecinas perfecta armonía todas convivían. El Rey ocupaba todas aldeas agua, comida bonita escuela. Las 9 aldeas rodeadas 9 riachuelos. Y Rey construyo 9 molinos 9 puentes pudieran cruzar lado correr ningún riesgo.'"
      ]
     },
     "execution_count": 76,
     "metadata": {},
     "output_type": "execute_result"
    }
   ],
   "source": [
    "remove_stopwords(sample_text)"
   ]
  },
  {
   "cell_type": "code",
   "execution_count": 77,
   "id": "50e6f38a-d6ac-4f71-a04b-fb6cbdeb11bc",
   "metadata": {},
   "outputs": [
    {
     "name": "stdout",
     "output_type": "stream",
     "text": [
      "Por allí estaremos la semana que viene! Mucha suerte a todos los participantes :3 https://t.co/1N2BrpQlvj\n",
      "\n",
      "Por allí semana viene! Mucha suerte participantes :3 https://t.co/1N2BrpQlvj\n"
     ]
    }
   ],
   "source": [
    "df_t['text_clean'] = df_t['text'].apply(remove_stopwords)\n",
    "\n",
    "print(df_t.loc[385, 'text'])\n",
    "print()\n",
    "print(df_t.loc[385, 'text_clean'])"
   ]
  },
  {
   "cell_type": "markdown",
   "id": "330886bf-8611-4b70-926c-aa0b9a54db08",
   "metadata": {},
   "source": [
    "Si queremos eliminar o añadir stopwords al listado de NLTK podemos hacer lo siguiente:"
   ]
  },
  {
   "cell_type": "code",
   "execution_count": 78,
   "id": "ac7f99d3-2a0a-4856-8806-480aab820192",
   "metadata": {},
   "outputs": [
    {
     "name": "stdout",
     "output_type": "stream",
     "text": [
      "['de', 'la', 'que', 'el', 'en', 'y', 'a', 'los', 'del', 'se', 'las', 'por', 'un', 'para', 'con', 'una', 'su', 'al', 'lo', 'como', 'más', 'pero', 'sus', 'le', 'ya', 'o', 'este', 'sí', 'porque', 'esta', 'entre', 'cuando', 'muy', 'sobre', 'también', 'me', 'hasta', 'hay', 'donde', 'quien', 'desde', 'todo', 'nos', 'durante', 'todos', 'uno', 'les', 'contra', 'otros', 'ese', 'eso', 'ante', 'ellos', 'e', 'esto', 'mí', 'antes', 'algunos', 'qué', 'unos', 'yo', 'otro', 'otras', 'otra', 'él', 'tanto', 'esa', 'estos', 'mucho', 'quienes', 'nada', 'muchos', 'cual', 'poco', 'ella', 'estar', 'estas', 'algunas', 'algo', 'nosotros', 'mi', 'mis', 'tú', 'te', 'ti', 'tu', 'tus', 'ellas', 'nosotras', 'vosotros', 'vosotras', 'os', 'mío', 'mía', 'míos', 'mías', 'tuyo', 'tuya', 'tuyos', 'tuyas', 'suyo', 'suya', 'suyos', 'suyas', 'nuestro', 'nuestra', 'nuestros', 'nuestras', 'vuestro', 'vuestra', 'vuestros', 'vuestras', 'esos', 'esas', 'estoy', 'estás', 'está', 'estamos', 'estáis', 'están', 'esté', 'estés', 'estemos', 'estéis', 'estén', 'estaré', 'estarás', 'estará', 'estaremos', 'estaréis', 'estarán', 'estaría', 'estarías', 'estaríamos', 'estaríais', 'estarían', 'estaba', 'estabas', 'estábamos', 'estabais', 'estaban', 'estuve', 'estuviste', 'estuvo', 'estuvimos', 'estuvisteis', 'estuvieron', 'estuviera', 'estuvieras', 'estuviéramos', 'estuvierais', 'estuvieran', 'estuviese', 'estuvieses', 'estuviésemos', 'estuvieseis', 'estuviesen', 'estando', 'estado', 'estada', 'estados', 'estadas', 'estad', 'he', 'has', 'ha', 'hemos', 'habéis', 'han', 'haya', 'hayas', 'hayamos', 'hayáis', 'hayan', 'habré', 'habrás', 'habrá', 'habremos', 'habréis', 'habrán', 'habría', 'habrías', 'habríamos', 'habríais', 'habrían', 'había', 'habías', 'habíamos', 'habíais', 'habían', 'hube', 'hubiste', 'hubo', 'hubimos', 'hubisteis', 'hubieron', 'hubiera', 'hubieras', 'hubiéramos', 'hubierais', 'hubieran', 'hubiese', 'hubieses', 'hubiésemos', 'hubieseis', 'hubiesen', 'habiendo', 'habido', 'habida', 'habidos', 'habidas', 'soy', 'eres', 'es', 'somos', 'sois', 'son', 'sea', 'seas', 'seamos', 'seáis', 'sean', 'seré', 'serás', 'será', 'seremos', 'seréis', 'serán', 'sería', 'serías', 'seríamos', 'seríais', 'serían', 'era', 'eras', 'éramos', 'erais', 'eran', 'fui', 'fuiste', 'fue', 'fuimos', 'fuisteis', 'fueron', 'fuera', 'fueras', 'fuéramos', 'fuerais', 'fueran', 'fuese', 'fueses', 'fuésemos', 'fueseis', 'fuesen', 'sintiendo', 'sentido', 'sentida', 'sentidos', 'sentidas', 'siente', 'sentid', 'tengo', 'tienes', 'tiene', 'tenemos', 'tenéis', 'tienen', 'tenga', 'tengas', 'tengamos', 'tengáis', 'tengan', 'tendré', 'tendrás', 'tendrá', 'tendremos', 'tendréis', 'tendrán', 'tendría', 'tendrías', 'tendríamos', 'tendríais', 'tendrían', 'tenía', 'tenías', 'teníamos', 'teníais', 'tenían', 'tuve', 'tuviste', 'tuvo', 'tuvimos', 'tuvisteis', 'tuvieron', 'tuviera', 'tuvieras', 'tuviéramos', 'tuvierais', 'tuvieran', 'tuviese', 'tuvieses', 'tuviésemos', 'tuvieseis', 'tuviesen', 'teniendo', 'tenido', 'tenida', 'tenidos', 'tenidas', 'tened', 'gracias', 'hola', 'adiós']\n"
     ]
    }
   ],
   "source": [
    "# Para añadir una palabra vacía al listado\n",
    "STOPWORDS_NLTK.append('gracias')\n",
    "\n",
    "# Para añadir varias palabras vacías al listado\n",
    "STOPWORDS_NLTK.extend(['hola', 'adiós'])\n",
    "\n",
    "# Para eliminar una sola palabra vacía del listado\n",
    "STOPWORDS_NLTK.remove('no')\n",
    "\n",
    "# Para eliminar una lista de palabras vacías\n",
    "to_delete = ['ni', 'sin']\n",
    "STOPWORDS_NLTK = [sw for sw in STOPWORDS_NLTK if sw not in to_delete]\n",
    "\n",
    "print(STOPWORDS_NLTK)"
   ]
  },
  {
   "cell_type": "markdown",
   "id": "0cb68598-5889-4104-a03c-a32e80fca47e",
   "metadata": {},
   "source": [
    "Un ejemplo del riesgo que puede tener eliminar las palabras vacías sin más es el siguiente:"
   ]
  },
  {
   "cell_type": "code",
   "execution_count": 79,
   "id": "04cbee38-0522-4bc3-b1ed-b29b43fd5fc3",
   "metadata": {},
   "outputs": [],
   "source": [
    "bad_review = 'La película no fue nada buena'"
   ]
  },
  {
   "cell_type": "code",
   "execution_count": 80,
   "id": "5e3a8eda-94db-4d15-b7d8-434812277344",
   "metadata": {},
   "outputs": [
    {
     "data": {
      "text/plain": [
       "'La película no buena'"
      ]
     },
     "execution_count": 80,
     "metadata": {},
     "output_type": "execute_result"
    }
   ],
   "source": [
    "remove_stopwords(bad_review)"
   ]
  },
  {
   "cell_type": "markdown",
   "id": "47593a14-1f02-4fad-9e44-307002fadcad",
   "metadata": {},
   "source": [
    "Como vemos, el significado de la frase ha cambiado completamente, y si estamos realizando un análisis de sentimientos esto haría que nuestra aplicación no funcionase correctamente. "
   ]
  },
  {
   "cell_type": "markdown",
   "id": "d938658f-fc64-48dd-b3bd-20c7fcb6cc8b",
   "metadata": {},
   "source": [
    "### Usando la librería spaCy"
   ]
  },
  {
   "cell_type": "code",
   "execution_count": 81,
   "id": "cc3abe48-529b-4224-b6bc-94a60ca902e0",
   "metadata": {},
   "outputs": [],
   "source": [
    "import spacy"
   ]
  },
  {
   "cell_type": "code",
   "execution_count": 82,
   "id": "72c90810-582e-4de8-b667-e6eb3a0cce3a",
   "metadata": {},
   "outputs": [
    {
     "name": "stdout",
     "output_type": "stream",
     "text": [
      "{'uno', 'no', 'fueron', 'vamos', 'luego', 'fuera', 'esos', 'mejor', 'breve', 'tambien', 'saben', 'poner', 'poder', 'mismas', 'claro', 'actualmente', 'la', 'aquélla', 'dejó', 'aqui', 'gueno', 'tuya', 'intentan', 'peor', 'podeis', 'posible', 'tanto', 'durante', 'quizas', 'sabeis', 'usted', 'detrás', 'sido', 'sí', 'realizar', 'trabajan', 'pero', 'aquella', 'medio', 'informo', 'tiene', 'ejemplo', 'eramos', 'bueno', 'le', 'algunas', 'propias', 'través', 'tenga', 'mayor', 'buenas', 'mío', 'vuestros', 'hecho', 'indicó', 'asi', 'esto', 'explicó', 'dicen', 'despues', 'sino', 'fuimos', 'pocos', 'tenía', 'sus', 'llegó', 'hacemos', 'nunca', 'proximo', 'estamos', 'cierto', 'éstas', 'sabe', 'general', 'estará', 'ésa', 'pueda', 'respecto', 'ha', 'arriba', 'cuales', 'hacia', 'dicho', 'nosotras', 'habia', 'podrian', 'trata', 'que', 'aún', 'podriamos', 'mismo', 'comentó', 'grandes', 'ambos', 'decir', 'usa', 'próximo', 'mal', 'conseguir', 'cinco', 'qué', 'será', 'igual', 'dice', 'manera', 'ultimo', 'sobre', 'bien', 'dia', 'cual', 'ahi', 'un', 'todas', 'aun', 'atras', 'ella', 'habían', 'podriais', 'aseguró', 'así', 'trabajais', 'sean', 'últimas', 'despacio', 'existe', 'nuevos', 'parte', 'ciertos', 'habrá', 'eso', 'cómo', 'aunque', 'sois', 'añadió', 'tenemos', 'este', 'algo', 'final', 'cada', 'conocer', 'nuevo', 'quien', 'siendo', 'tercera', 'tuyo', 'ante', 'cualquier', 'dan', 'tendrá', 'su', 'pudo', 'soyos', 'después', 'tuyas', 'consigue', 'usamos', 'empleas', 'cerca', 'ayer', 'todavia', 'él', 'haber', 'contra', 'pasada', 'sera', 'entre', 'mio', 'estais', 'emplean', 'sin', 'eran', 'señaló', 'mis', 'suyas', 'se', 'vez', 'unas', 'haceis', 'sé', 'serán', 'esa', 'algunos', 'pesar', 'estaban', 'nadie', 'puede', 'tres', 'afirmó', 'lleva', 'vuestras', 'quién', 'sabemos', 'otras', 'mas', 'quiere', 'hemos', 'consigo', 'hacen', 'pocas', 'ex', 'todos', 'vosotras', 'adrede', 'nuestro', 'me', 'cuánto', 'lejos', 'dónde', 'tampoco', 'nos', 'pasado', 'incluso', 'demás', 'momento', 'cuántas', 'tan', 'habla', 'había', 'lugar', 'pueden', 'sabes', 'podría', 'mucha', 'manifestó', 'mias', 'alguna', 'siguiente', 'solos', 'haces', 'supuesto', 'ninguna', 'con', 'tienen', 'parece', 'primeros', 'paìs', 'estoy', 'horas', 'hace', 'nada', 'tus', 'debajo', 'ésos', 'toda', 'segun', 'tiempo', 'menos', 'agregó', 'además', 'segunda', 'ellas', 'suyo', 'mismos', 'sea', 'eras', 'quienes', 'podrias', 'era', 'ir', 'quiza', 'considera', 'ningún', 'primero', 'tal', 'apenas', 'ahora', 'acuerdo', 'hubo', 'modo', 'arribaabajo', 'ningunas', 'total', 'tengo', 'estar', 'voy', 'delante', 'podemos', 'del', 'cuantas', 'diferentes', 'intentar', 'según', 'tú', 'antaño', 'mediante', 'quizá', 'hay', 'detras', 'soy', 'míos', 'vuestra', 'sólo', 'mía', 'van', 'cuál', 'por', 'cosas', 'hasta', 'conmigo', 'éstos', 'mí', 'estan', 'todavía', 'es', 'dijo', 'trabaja', 'intento', 'aquéllos', 'tuyos', 'ver', 'verdadera', 'hoy', 'alrededor', 'verdad', 'estaba', 'propios', 'lo', 'quedó', 'principalmente', 'aquéllas', 'ciertas', 'fui', 'sola', 'como', 'ocho', 'haya', 'de', 'las', 'nueva', 'siete', 'unos', 'teneis', 'gran', 'ustedes', 'días', 'para', 'próximos', 'nuestra', 'porque', 'raras', 'enseguida', 'somos', 'intentas', 'tras', 'alguno', 'al', 'casi', 'cuatro', 'ni', 'dio', 'te', 'ese', 'podrían', 'allí', 'podrán', 'otro', 'estados', 'anterior', 'contigo', 'lado', 'si', 'muchas', 'bajo', 'en', 'intenta', 'tu', 'saber', 'el', 'hacerlo', 'hablan', 'dieron', 'algún', 'estado', 'cuando', 'ningunos', 'usan', 'aproximadamente', 'deprisa', 'tendrán', 'antes', 'usais', 'hacer', 'va', 'veces', 'cuánta', 'otros', 'mucho', 'donde', 'usar', 'bastante', 'ése', 'buen', 'hizo', 'cuantos', 'estuvo', 'poco', 'dijeron', 'solamente', 'están', 'vuestro', 'dias', 'consiguen', 'cuáles', 'trabajamos', 'mia', 'encuentra', 'realizó', 'ademas', 'temprano', 'fue', 'tarde', 'éste', 'podrá', 'vosotros', 'consigues', 'cuenta', 'junto', 'encima', 'primera', 'cuántos', 'más', 'repente', 'empleais', 'sigue', 'quiénes', 'buenos', 'dar', 'podria', 'quizás', 'hago', 'esta', 'cuanto', 'antano', 'ya', 'yo', 'haciendo', 'partir', 'ninguno', 'vais', 'solas', 'aquel', 'ellos', 'dos', 'varios', 'son', 'informó', 'todo', 'desde', 'otra', 'alli', 'embargo', 'da', 'solo', 'puedo', 'primer', 'os', 'buena', 'ti', 'mencionó', 'esas', 'poca', 'nuestras', 'excepto', 'largo', 'mios', 'dentro', 'ésta', 'llevar', 'trabajar', 'he', 'menudo', 'queremos', 'sería', 'tener', 'propia', 'enfrente', 'valor', 'tenido', 'una', 'han', 'usas', 'varias', 'misma', 'ampleamos', 'expresó', 'aquellas', 'muchos', 'cierta', 'tuvo', 'nuevas', 'mi', 'propio', 'cuanta', 'existen', 'estos', 'verdadero', 'empleo', 'nosotros', 'ello', 'deben', 'vaya', 'intentais', 'pais', 'pues', 'segundo', 'trabajo', 'consideró', 'creo', 'estas', 'nuestros', 'los', 'mías', 'fin', 'uso', 'ahí', 'conseguimos', 'debido', 'entonces', 'pronto', 'está', 'también', 'salvo', 'diferente', 'mientras', 'día', 'qeu', 'emplear', 'aquél', 'siempre', 'muy', 'hicieron', 'ésas', 'últimos', 'trabajas', 'aquello', 'última', 'dado', 'demasiado', 'último', 'intentamos', 'eres', 'aquellos', 'suya', 'ser', 'debe', 'adelante', 'cuándo', 'aquí', 'seis', 'realizado', 'les'}\n"
     ]
    }
   ],
   "source": [
    "# Cargamos el modelo en castellano\n",
    "nlp_es = spacy.load('es_core_news_sm')\n",
    "\n",
    "# Creamos el listado con las palabras vacías\n",
    "STOPWORDS_SPACY = nlp_es.Defaults.stop_words\n",
    "print(STOPWORDS_SPACY)"
   ]
  },
  {
   "cell_type": "markdown",
   "id": "5d176828-b058-4fa2-b6f4-d94d69a5e6b9",
   "metadata": {},
   "source": [
    "Como vemos, la librería spaCy tiene más palabras vacías que NLTK, pero se usaría igual que en el caso de NLTK. Si queremos eliminar o añadir stopwords al conjunto de spaCy podemos hacer lo siguiente:"
   ]
  },
  {
   "cell_type": "code",
   "execution_count": 83,
   "id": "3775a2c2-6245-40dc-9808-8aa243431ae5",
   "metadata": {},
   "outputs": [
    {
     "name": "stdout",
     "output_type": "stream",
     "text": [
      "{'uno', 'fueron', 'vamos', 'luego', 'fuera', 'esos', 'mejor', 'breve', 'tambien', 'saben', 'poner', 'poder', 'mismas', 'claro', 'actualmente', 'la', 'aquélla', 'dejó', 'aqui', 'gueno', 'tuya', 'intentan', 'peor', 'podeis', 'posible', 'tanto', 'durante', 'quizas', 'sabeis', 'usted', 'detrás', 'sido', 'sí', 'realizar', 'trabajan', 'pero', 'aquella', 'medio', 'informo', 'tiene', 'ejemplo', 'eramos', 'bueno', 'le', 'algunas', 'propias', 'través', 'tenga', 'mayor', 'buenas', 'mío', 'vuestros', 'hecho', 'indicó', 'asi', 'esto', 'explicó', 'dicen', 'despues', 'sino', 'fuimos', 'pocos', 'tenía', 'sus', 'llegó', 'hacemos', 'nunca', 'proximo', 'estamos', 'cierto', 'éstas', 'sabe', 'general', 'estará', 'ésa', 'pueda', 'respecto', 'ha', 'arriba', 'cuales', 'hacia', 'dicho', 'nosotras', 'habia', 'podrian', 'trata', 'que', 'gracias', 'aún', 'podriamos', 'mismo', 'comentó', 'grandes', 'ambos', 'decir', 'usa', 'próximo', 'mal', 'conseguir', 'cinco', 'qué', 'será', 'igual', 'dice', 'manera', 'ultimo', 'sobre', 'bien', 'dia', 'cual', 'ahi', 'un', 'todas', 'aun', 'atras', 'ella', 'habían', 'podriais', 'aseguró', 'así', 'trabajais', 'sean', 'últimas', 'despacio', 'existe', 'nuevos', 'parte', 'ciertos', 'habrá', 'eso', 'cómo', 'aunque', 'sois', 'añadió', 'tenemos', 'este', 'algo', 'final', 'cada', 'conocer', 'nuevo', 'quien', 'siendo', 'tercera', 'tuyo', 'ante', 'cualquier', 'dan', 'tendrá', 'su', 'pudo', 'soyos', 'después', 'tuyas', 'consigue', 'usamos', 'empleas', 'cerca', 'ayer', 'todavia', 'él', 'haber', 'contra', 'pasada', 'sera', 'entre', 'mio', 'estais', 'emplean', 'eran', 'señaló', 'mis', 'suyas', 'se', 'vez', 'unas', 'haceis', 'sé', 'serán', 'esa', 'algunos', 'pesar', 'estaban', 'nadie', 'puede', 'tres', 'afirmó', 'lleva', 'vuestras', 'quién', 'sabemos', 'otras', 'mas', 'quiere', 'hemos', 'consigo', 'hacen', 'pocas', 'ex', 'todos', 'vosotras', 'adrede', 'nuestro', 'me', 'cuánto', 'lejos', 'dónde', 'tampoco', 'nos', 'pasado', 'incluso', 'demás', 'momento', 'cuántas', 'tan', 'habla', 'había', 'lugar', 'pueden', 'sabes', 'podría', 'mucha', 'manifestó', 'mias', 'alguna', 'siguiente', 'solos', 'haces', 'supuesto', 'ninguna', 'con', 'tienen', 'parece', 'primeros', 'paìs', 'estoy', 'horas', 'hace', 'nada', 'tus', 'debajo', 'ésos', 'toda', 'segun', 'tiempo', 'adiós', 'menos', 'agregó', 'además', 'segunda', 'ellas', 'suyo', 'mismos', 'sea', 'eras', 'quienes', 'podrias', 'era', 'ir', 'quiza', 'considera', 'ningún', 'primero', 'tal', 'apenas', 'ahora', 'acuerdo', 'hubo', 'modo', 'arribaabajo', 'ningunas', 'total', 'tengo', 'estar', 'voy', 'delante', 'podemos', 'del', 'cuantas', 'diferentes', 'intentar', 'según', 'tú', 'antaño', 'mediante', 'quizá', 'hay', 'detras', 'soy', 'míos', 'vuestra', 'sólo', 'mía', 'van', 'cuál', 'por', 'cosas', 'hasta', 'conmigo', 'éstos', 'mí', 'estan', 'todavía', 'es', 'dijo', 'trabaja', 'intento', 'aquéllos', 'tuyos', 'ver', 'verdadera', 'hoy', 'alrededor', 'verdad', 'estaba', 'propios', 'lo', 'quedó', 'principalmente', 'aquéllas', 'ciertas', 'fui', 'sola', 'como', 'ocho', 'haya', 'de', 'las', 'nueva', 'siete', 'unos', 'teneis', 'gran', 'ustedes', 'días', 'para', 'próximos', 'nuestra', 'porque', 'raras', 'enseguida', 'somos', 'intentas', 'tras', 'alguno', 'al', 'casi', 'cuatro', 'dio', 'te', 'ese', 'podrían', 'allí', 'podrán', 'otro', 'estados', 'anterior', 'contigo', 'lado', 'si', 'muchas', 'bajo', 'en', 'intenta', 'tu', 'saber', 'el', 'hacerlo', 'hablan', 'dieron', 'algún', 'estado', 'cuando', 'ningunos', 'usan', 'aproximadamente', 'deprisa', 'tendrán', 'antes', 'usais', 'hacer', 'va', 'veces', 'cuánta', 'otros', 'mucho', 'donde', 'usar', 'bastante', 'ése', 'buen', 'hizo', 'cuantos', 'estuvo', 'poco', 'dijeron', 'solamente', 'están', 'vuestro', 'dias', 'consiguen', 'cuáles', 'trabajamos', 'mia', 'encuentra', 'realizó', 'ademas', 'temprano', 'fue', 'tarde', 'éste', 'podrá', 'vosotros', 'consigues', 'cuenta', 'junto', 'encima', 'primera', 'cuántos', 'más', 'repente', 'empleais', 'sigue', 'quiénes', 'buenos', 'dar', 'podria', 'quizás', 'hago', 'esta', 'cuanto', 'antano', 'ya', 'yo', 'haciendo', 'partir', 'ninguno', 'vais', 'solas', 'aquel', 'ellos', 'dos', 'varios', 'son', 'informó', 'todo', 'desde', 'otra', 'alli', 'embargo', 'da', 'solo', 'puedo', 'primer', 'os', 'buena', 'ti', 'mencionó', 'esas', 'poca', 'nuestras', 'excepto', 'largo', 'mios', 'hola', 'dentro', 'ésta', 'llevar', 'trabajar', 'he', 'menudo', 'queremos', 'sería', 'tener', 'propia', 'enfrente', 'valor', 'tenido', 'una', 'han', 'usas', 'varias', 'misma', 'ampleamos', 'expresó', 'aquellas', 'muchos', 'cierta', 'tuvo', 'nuevas', 'mi', 'propio', 'cuanta', 'existen', 'estos', 'verdadero', 'empleo', 'nosotros', 'ello', 'deben', 'vaya', 'intentais', 'pais', 'pues', 'segundo', 'trabajo', 'consideró', 'creo', 'estas', 'nuestros', 'los', 'mías', 'fin', 'uso', 'ahí', 'conseguimos', 'debido', 'entonces', 'pronto', 'está', 'también', 'salvo', 'diferente', 'mientras', 'día', 'qeu', 'emplear', 'aquél', 'siempre', 'muy', 'hicieron', 'ésas', 'últimos', 'trabajas', 'aquello', 'última', 'dado', 'demasiado', 'último', 'intentamos', 'eres', 'aquellos', 'suya', 'ser', 'debe', 'adelante', 'cuándo', 'aquí', 'seis', 'realizado', 'les'}\n"
     ]
    }
   ],
   "source": [
    "# Para añadir una palabra vacía al conjunto\n",
    "STOPWORDS_SPACY.add('gracias')\n",
    "\n",
    "# Para añadir varias palabras vacías al conjunto\n",
    "STOPWORDS_SPACY.update(['hola', 'adiós'])\n",
    "\n",
    "# Para eliminar una sola palabra vacía del conjunto\n",
    "STOPWORDS_SPACY.discard('no')\n",
    "\n",
    "# Para eliminar una lista de palabras vacías\n",
    "to_delete = ['ni', 'sin']\n",
    "STOPWORDS_SPACY.difference_update(to_delete)\n",
    "\n",
    "print(STOPWORDS_SPACY)"
   ]
  },
  {
   "cell_type": "markdown",
   "id": "71607683-dc5e-4931-887d-2c9e312f690c",
   "metadata": {
    "tags": []
   },
   "source": [
    "## Detectar idioma de los textos\n",
    "\n",
    "Si tenemos textos en varios idiomas y queremos detectar en qué idioma está escrito cada uno de ellos, una librería que funciona muy bien es `langdetect` que permite diferenciar entre 52 idiomas.\n",
    "\n",
    "Para más información sobre esta librería consulta su repositorio de [GitHub](https://github.com/Mimino666/langdetect)."
   ]
  },
  {
   "cell_type": "code",
   "execution_count": 84,
   "id": "37713bfa-13ad-44a9-b674-d1eac97dd258",
   "metadata": {},
   "outputs": [],
   "source": [
    "# !pip install langdetect"
   ]
  },
  {
   "cell_type": "code",
   "execution_count": 85,
   "id": "98f8e9bc-0c03-4a5e-8c73-b80a27d758fb",
   "metadata": {},
   "outputs": [],
   "source": [
    "from langdetect import detect"
   ]
  },
  {
   "cell_type": "code",
   "execution_count": 86,
   "id": "918567db-bcb5-49b7-8ef9-0ffb5f7809c8",
   "metadata": {},
   "outputs": [
    {
     "data": {
      "text/plain": [
       "'es'"
      ]
     },
     "execution_count": 86,
     "metadata": {},
     "output_type": "execute_result"
    }
   ],
   "source": [
    "# Texto en español\n",
    "sample_text_es = '¡Quiero ser un buen programador! Por eso practico casi todos los días.'\n",
    "detect(sample_text_es)"
   ]
  },
  {
   "cell_type": "code",
   "execution_count": 87,
   "id": "c1c13c9c-dd95-4f66-aff9-a5fa152de03a",
   "metadata": {},
   "outputs": [
    {
     "data": {
      "text/plain": [
       "'ca'"
      ]
     },
     "execution_count": 87,
     "metadata": {},
     "output_type": "execute_result"
    }
   ],
   "source": [
    "# Texto en catalán\n",
    "sample_text_ca = 'Vull ser un bon programador! Per això practico gairebé cada dia.'\n",
    "detect(sample_text_ca)"
   ]
  },
  {
   "cell_type": "code",
   "execution_count": 88,
   "id": "31c554af-730a-43da-ac1a-f5e8de1f473d",
   "metadata": {},
   "outputs": [
    {
     "name": "stdout",
     "output_type": "stream",
     "text": [
      "Hola @Iberia. He hecho check in con la app, después de muchos meses y la experiencia ha sido brutalmente buena. 👌🙂👏🏻\n",
      "\n",
      "es\n"
     ]
    }
   ],
   "source": [
    "# Esto puede tardar unos minutos en ejecutarse\n",
    "df_t['text_lang'] = df_t['text'].apply(detect)\n",
    "\n",
    "print(df_t.loc[52, 'text'])\n",
    "print()\n",
    "print(df_t.loc[52, 'text_lang'])"
   ]
  },
  {
   "cell_type": "markdown",
   "id": "b8bd8931-4d84-46d9-b148-7f7eeb8607dc",
   "metadata": {},
   "source": [
    "Esta librería no es ni mucho menos infalible y dependiendo de la calidad y la longitud de los textos que le pasemos el resultado será mejor o peor. En este caso, al ser los textos de los tweets bastante cortos y contener gran cantidad de menciones y hashtags que generan ruido no funciona especialmente bien, por lo que sería mejor pasar el detector después de haber eliminado estos, si es que para trabajar en tu problema no los necesitas."
   ]
  },
  {
   "cell_type": "markdown",
   "id": "28db222a-a8bb-4d58-8ca3-422920f052a1",
   "metadata": {},
   "source": [
    "## Describir los textos\n",
    "\n",
    "A la hora de estudiar nuestro dataset, hay un conjunto de características que nos puede resultar muy útil conocer para caracterizar así mejor los textos con los que vamos a trabajar, e incluso usarlas como variables para entrenar nuestro modelo.\n",
    "\n",
    "Esto incluye cosas como conocer la longitud de los textos, el número de palabras o frases que los conforman, si contienen números, signos de interrogación... \n",
    "\n",
    "A continuación, vamos a crear una función que nos permita describir nuestros textos con algunas de las informaciones que creemos que pueden resultar más útiles."
   ]
  },
  {
   "cell_type": "code",
   "execution_count": 89,
   "id": "cf07488f-f071-4541-8023-26bc63c821a7",
   "metadata": {},
   "outputs": [],
   "source": [
    "def extract_features(text):\n",
    "\n",
    "    features = {}\n",
    "\n",
    "    # Eliminar signos de puntuación\n",
    "    punct_es = r'.,;:\"#$%&\\'()*+-/<=>@[\\\\]^_`{|}~¿?¡!ºª'\n",
    "    traslator = str.maketrans('', '', punct_es)\n",
    "    text_wo_punctuation = text.translate(traslator)\n",
    "\n",
    "    # Obtener tokens\n",
    "    text_wo_punctuation_tokens = text_wo_punctuation.split(' ')\n",
    "\n",
    "    # Dividir en frases\n",
    "    pattern = re.compile(r'([A-Z][^\\.!?]*[\\.!?])', re.M)\n",
    "    sentences = re.findall(pattern, text)\n",
    "    sentence_character_count = [len(sentence) for sentence in sentences]\n",
    "    sentence_words_counts = [len(sentence.split(' '))for sentence in sentences]\n",
    "\n",
    "    features['characters_count'] = len(text)\n",
    "    features['words_count'] = len(text_wo_punctuation_tokens)\n",
    "    features['unique_words_count'] = len(set(text_wo_punctuation_tokens))\n",
    "    features['sentences_count'] = len(sentences)\n",
    "    features['new_lines_count'] = len([char for char in text if char == '\\n'])\n",
    "    features['punctuatino_marks_count'] = len([char for char in text if char in punct_es])\n",
    "    features['average_words_per_sentence'] = round(len(text_wo_punctuation_tokens)/len(sentences), 2)\n",
    "    features['average_word_length'] = round(sum([len(token) for token in text_wo_punctuation_tokens])/len(text_wo_punctuation_tokens), 2)\n",
    "    features['maximum_characters_in_sentence'] = max(sentence_character_count)\n",
    "    features['minimum_characters_in_sentence'] = min(sentence_character_count)\n",
    "    features['maximum_words_in_sentence'] = max(sentence_words_counts)\n",
    "    features['minimum_words_in_sentence'] = min(sentence_words_counts)\n",
    "    features['contains_numbers'] = any(char.isdigit() for char in text)\n",
    "    features['contains_unicode_characters'] = any([ord(char) > 255] for char in text)\n",
    "    features['contains_questions'] = '?' in text\n",
    "    features['contains_exclamations'] = '!' in text\n",
    "    features['uppercase_words_count'] = len([word for word in text.split() if word.isupper()])\n",
    "\n",
    "    STOPWORDS_NLTK = stopwords.words('spanish')\n",
    "    features['stopwords_count'] = len([word for word in str(text).split() if word not in STOPWORDS_NLTK])\n",
    "\n",
    "    return features"
   ]
  },
  {
   "cell_type": "code",
   "execution_count": 90,
   "id": "10feccde-9fc6-42cd-b364-19fb57e76653",
   "metadata": {},
   "outputs": [
    {
     "data": {
      "text/plain": [
       "'Hace muchos años, en un lugar muy lejano, había un Rey al que todos consideraban muy sabio. Gobernaba con gran justicia 9 aldeas. Las 9 eran vecinas y en perfecta armonía todas convivían. El Rey se ocupaba de que todas las aldeas tuvieran agua, comida y una bonita escuela. Las 9 aldeas estaban rodeadas por 9 riachuelos. Y el Rey construyo 9 molinos y 9 puentes para que todos pudieran cruzar de un lado a otro sin correr ningún riesgo. ¡FUE UN BUEN REY!'"
      ]
     },
     "execution_count": 90,
     "metadata": {},
     "output_type": "execute_result"
    }
   ],
   "source": [
    "# Creamos un texto simple de muestra\n",
    "sample_text = 'Hace muchos años, en un lugar muy lejano, había un Rey al que todos consideraban muy sabio. Gobernaba con gran justicia 9 aldeas. Las 9 eran vecinas y en perfecta armonía todas convivían. El Rey se ocupaba de que todas las aldeas tuvieran agua, comida y una bonita escuela. Las 9 aldeas estaban rodeadas por 9 riachuelos. Y el Rey construyo 9 molinos y 9 puentes para que todos pudieran cruzar de un lado a otro sin correr ningún riesgo. ¡FUE UN BUEN REY!'\n",
    "sample_text"
   ]
  },
  {
   "cell_type": "code",
   "execution_count": 91,
   "id": "44577652-12be-4b37-bb56-82c2ab1a0ee6",
   "metadata": {},
   "outputs": [
    {
     "data": {
      "text/plain": [
       "{'characters_count': 455,\n",
       " 'words_count': 84,\n",
       " 'unique_words_count': 63,\n",
       " 'sentences_count': 7,\n",
       " 'new_lines_count': 0,\n",
       " 'punctuatino_marks_count': 11,\n",
       " 'average_words_per_sentence': 12.0,\n",
       " 'average_word_length': 4.3,\n",
       " 'maximum_characters_in_sentence': 115,\n",
       " 'minimum_characters_in_sentence': 16,\n",
       " 'maximum_words_in_sentence': 23,\n",
       " 'minimum_words_in_sentence': 4,\n",
       " 'contains_numbers': True,\n",
       " 'contains_unicode_characters': True,\n",
       " 'contains_questions': False,\n",
       " 'contains_exclamations': True,\n",
       " 'uppercase_words_count': 5,\n",
       " 'stopwords_count': 51}"
      ]
     },
     "execution_count": 91,
     "metadata": {},
     "output_type": "execute_result"
    }
   ],
   "source": [
    "extract_features(sample_text)"
   ]
  },
  {
   "cell_type": "markdown",
   "id": "d3a90e49-4683-428f-8405-bef15372a74f",
   "metadata": {},
   "source": [
    "Si quisieras aplicar la extracción de características a un conjunto de textos, una forma de hacerlo es ir extrayendo cada una de ellas por separado y añadirla al conjunto de datos como una columnas más. Vamos a ver un ejemplo."
   ]
  },
  {
   "cell_type": "code",
   "execution_count": 92,
   "id": "389c54eb-ded2-48db-b140-a1265304a523",
   "metadata": {},
   "outputs": [
    {
     "data": {
      "text/html": [
       "<div>\n",
       "<style scoped>\n",
       "    .dataframe tbody tr th:only-of-type {\n",
       "        vertical-align: middle;\n",
       "    }\n",
       "\n",
       "    .dataframe tbody tr th {\n",
       "        vertical-align: top;\n",
       "    }\n",
       "\n",
       "    .dataframe thead th {\n",
       "        text-align: right;\n",
       "    }\n",
       "</style>\n",
       "<table border=\"1\" class=\"dataframe\">\n",
       "  <thead>\n",
       "    <tr style=\"text-align: right;\">\n",
       "      <th></th>\n",
       "      <th>airline_sentiment</th>\n",
       "      <th>is_reply</th>\n",
       "      <th>reply_count</th>\n",
       "      <th>retweet_count</th>\n",
       "      <th>text</th>\n",
       "      <th>tweet_coord</th>\n",
       "      <th>tweet_created</th>\n",
       "      <th>tweet_id</th>\n",
       "      <th>tweet_location</th>\n",
       "      <th>user_timezone</th>\n",
       "      <th>text_clean</th>\n",
       "      <th>text_lang</th>\n",
       "      <th>characters_count</th>\n",
       "    </tr>\n",
       "  </thead>\n",
       "  <tbody>\n",
       "    <tr>\n",
       "      <th>0</th>\n",
       "      <td>neutral</td>\n",
       "      <td>False</td>\n",
       "      <td>0</td>\n",
       "      <td>0</td>\n",
       "      <td>Trabajar en #Ryanair como #TMA: https://t.co/...</td>\n",
       "      <td>NaN</td>\n",
       "      <td>Fri Nov 03 12:05:12 +0000 2017</td>\n",
       "      <td>926419989107798016</td>\n",
       "      <td>NaN</td>\n",
       "      <td>Madrid</td>\n",
       "      <td>Trabajar #Ryanair #TMA: https://t.co/ruUArBe1t...</td>\n",
       "      <td>es</td>\n",
       "      <td>64</td>\n",
       "    </tr>\n",
       "    <tr>\n",
       "      <th>1</th>\n",
       "      <td>neutral</td>\n",
       "      <td>True</td>\n",
       "      <td>0</td>\n",
       "      <td>0</td>\n",
       "      <td>@Iberia @FIONAFERRER Cuando gusten en Cancún s...</td>\n",
       "      <td>NaN</td>\n",
       "      <td>Sun Nov 26 18:40:28 +0000 2017</td>\n",
       "      <td>934854385577943041</td>\n",
       "      <td>NaN</td>\n",
       "      <td>Mexico City</td>\n",
       "      <td>@Iberia @FIONAFERRER Cuando gusten Cancún viaj...</td>\n",
       "      <td>es</td>\n",
       "      <td>84</td>\n",
       "    </tr>\n",
       "    <tr>\n",
       "      <th>2</th>\n",
       "      <td>negative</td>\n",
       "      <td>False</td>\n",
       "      <td>0</td>\n",
       "      <td>0</td>\n",
       "      <td>Sabiais que @Iberia te trata muy bien en santi...</td>\n",
       "      <td>NaN</td>\n",
       "      <td>Mon Dec 25 15:40:45 +0000 2017</td>\n",
       "      <td>945318406441635840</td>\n",
       "      <td>NaN</td>\n",
       "      <td>Madrid</td>\n",
       "      <td>Sabiais @Iberia trata bien santiago chile?Te c...</td>\n",
       "      <td>es</td>\n",
       "      <td>140</td>\n",
       "    </tr>\n",
       "    <tr>\n",
       "      <th>3</th>\n",
       "      <td>negative</td>\n",
       "      <td>False</td>\n",
       "      <td>0</td>\n",
       "      <td>0</td>\n",
       "      <td>NUNCA NUNCA NUNCA pidáis el café de Ryanair.\\r...</td>\n",
       "      <td>NaN</td>\n",
       "      <td>Mon Nov 06 14:18:35 +0000 2017</td>\n",
       "      <td>927540721296568320</td>\n",
       "      <td>NaN</td>\n",
       "      <td>Pacific Time (US &amp; Canada)</td>\n",
       "      <td>NUNCA NUNCA NUNCA pidáis café Ryanair. Bueno, ...</td>\n",
       "      <td>pt</td>\n",
       "      <td>77</td>\n",
       "    </tr>\n",
       "    <tr>\n",
       "      <th>4</th>\n",
       "      <td>positive</td>\n",
       "      <td>True</td>\n",
       "      <td>0</td>\n",
       "      <td>0</td>\n",
       "      <td>@cris_tortu @dakar @Iberia @Mitsubishi_ES @BFG...</td>\n",
       "      <td>NaN</td>\n",
       "      <td>Mon Jan 01 23:00:57 +0000 2018</td>\n",
       "      <td>947965901332197376</td>\n",
       "      <td>NaN</td>\n",
       "      <td>Buenos Aires</td>\n",
       "      <td>@cris_tortu @dakar @Iberia @Mitsubishi_ES @BFG...</td>\n",
       "      <td>en</td>\n",
       "      <td>140</td>\n",
       "    </tr>\n",
       "  </tbody>\n",
       "</table>\n",
       "</div>"
      ],
      "text/plain": [
       "  airline_sentiment  is_reply  reply_count  retweet_count  \\\n",
       "0           neutral     False            0              0   \n",
       "1           neutral      True            0              0   \n",
       "2          negative     False            0              0   \n",
       "3          negative     False            0              0   \n",
       "4          positive      True            0              0   \n",
       "\n",
       "                                                text tweet_coord  \\\n",
       "0   Trabajar en #Ryanair como #TMA: https://t.co/...         NaN   \n",
       "1  @Iberia @FIONAFERRER Cuando gusten en Cancún s...         NaN   \n",
       "2  Sabiais que @Iberia te trata muy bien en santi...         NaN   \n",
       "3  NUNCA NUNCA NUNCA pidáis el café de Ryanair.\\r...         NaN   \n",
       "4  @cris_tortu @dakar @Iberia @Mitsubishi_ES @BFG...         NaN   \n",
       "\n",
       "                    tweet_created            tweet_id tweet_location  \\\n",
       "0  Fri Nov 03 12:05:12 +0000 2017  926419989107798016            NaN   \n",
       "1  Sun Nov 26 18:40:28 +0000 2017  934854385577943041            NaN   \n",
       "2  Mon Dec 25 15:40:45 +0000 2017  945318406441635840            NaN   \n",
       "3  Mon Nov 06 14:18:35 +0000 2017  927540721296568320            NaN   \n",
       "4  Mon Jan 01 23:00:57 +0000 2018  947965901332197376            NaN   \n",
       "\n",
       "                user_timezone  \\\n",
       "0                      Madrid   \n",
       "1                 Mexico City   \n",
       "2                      Madrid   \n",
       "3  Pacific Time (US & Canada)   \n",
       "4                Buenos Aires   \n",
       "\n",
       "                                          text_clean text_lang  \\\n",
       "0  Trabajar #Ryanair #TMA: https://t.co/ruUArBe1t...        es   \n",
       "1  @Iberia @FIONAFERRER Cuando gusten Cancún viaj...        es   \n",
       "2  Sabiais @Iberia trata bien santiago chile?Te c...        es   \n",
       "3  NUNCA NUNCA NUNCA pidáis café Ryanair. Bueno, ...        pt   \n",
       "4  @cris_tortu @dakar @Iberia @Mitsubishi_ES @BFG...        en   \n",
       "\n",
       "   characters_count  \n",
       "0                64  \n",
       "1                84  \n",
       "2               140  \n",
       "3                77  \n",
       "4               140  "
      ]
     },
     "execution_count": 92,
     "metadata": {},
     "output_type": "execute_result"
    }
   ],
   "source": [
    "df_t['characters_count'] = df_t['text'].str.len()\n",
    "df_t.head()"
   ]
  },
  {
   "cell_type": "markdown",
   "id": "711e51a8-be30-46db-bc80-fd46e75b116d",
   "metadata": {},
   "source": [
    "## Distribución longitudes textos\n",
    "\n",
    "También puede resultar muy interesante mostrar en un gráfico como se distribuyen las longitudes de los textos, sobre todo en función de la clase a la que pertenecen."
   ]
  },
  {
   "cell_type": "code",
   "execution_count": 93,
   "id": "93f24976-2ee1-4311-9473-7f413f19e1f9",
   "metadata": {},
   "outputs": [],
   "source": [
    "import matplotlib.pyplot as plt\n",
    "import seaborn as sns"
   ]
  },
  {
   "cell_type": "code",
   "execution_count": 94,
   "id": "41c3afa3-d911-40aa-90c9-e2f4a4002c71",
   "metadata": {},
   "outputs": [
    {
     "data": {
      "text/plain": [
       "negative    3769\n",
       "neutral     2609\n",
       "positive    1489\n",
       "Name: airline_sentiment, dtype: int64"
      ]
     },
     "execution_count": 94,
     "metadata": {},
     "output_type": "execute_result"
    },
    {
     "data": {
      "image/png": "[encoded data removed]",
      "text/plain": [
       "<Figure size 432x288 with 1 Axes>"
      ]
     },
     "metadata": {
      "needs_background": "light"
     },
     "output_type": "display_data"
    }
   ],
   "source": [
    "# Primero mostramos cómo se distribuyen las clases de salida\n",
    "sns.countplot(x='airline_sentiment', data=df_t)\n",
    "df_t['airline_sentiment'].value_counts()"
   ]
  },
  {
   "cell_type": "code",
   "execution_count": 95,
   "id": "4bce90cb-f9f5-450b-b994-28270d16c03d",
   "metadata": {},
   "outputs": [
    {
     "data": {
      "image/png": "[encoded data removed]",
      "text/plain": [
       "<Figure size 576x432 with 1 Axes>"
      ]
     },
     "metadata": {
      "needs_background": "light"
     },
     "output_type": "display_data"
    }
   ],
   "source": [
    "# Mostramos la distribución de la longitud de los textos\n",
    "plt.figure(figsize=[8, 6])\n",
    "sns.histplot(data=df_t,\n",
    "             x=df_t['text'].str.len(),\n",
    "             hue='airline_sentiment',\n",
    "             bins=50);"
   ]
  },
  {
   "cell_type": "markdown",
   "id": "16c4cdcc-8a57-4c7a-872f-26afe6289e55",
   "metadata": {},
   "source": [
    "En principio esta distribución no debería sorprendernos, ya que estamos trabajando con textos de tweets que sabemos que por defecto tienen 140 caracteres como máximo, o por lo menos antes era así. Pero esto nos permite hacernos una idea de lo informativo que puede ser un gráfico de este tipo."
   ]
  },
  {
   "cell_type": "markdown",
   "id": "6ccaa056-f3b0-4b2e-88f1-ec7197eb92ad",
   "metadata": {},
   "source": [
    "## Practice"
   ]
  },
  {
   "cell_type": "markdown",
   "id": "406fd078-cf15-47e6-a131-ee5cf8d4c8ae",
   "metadata": {},
   "source": [
    "**Selecciona o escribe un texto que incluya varias freses, signos de interrogación y/o exclamación, números, caracteres no ASCII, emojis y alguna URL y guárdalo en una variable llamada `my_text`.**"
   ]
  },
  {
   "cell_type": "code",
   "execution_count": 96,
   "id": "6a970a8a-6700-4ae2-a8cc-d2ed0ae16792",
   "metadata": {},
   "outputs": [
    {
     "name": "stdout",
     "output_type": "stream",
     "text": [
      "El burro Pelayo hoy cumple 4 años y su madre y su padre le han levantado con canciones y muchos regalos 🎁🎁🎁.¡Qué contento está Pelayo! Con 4 años, ya es un burro grande y puede ir él solito a recoger agua, arar la tierra y pasear por la pradera hasta las 4 de la tarde.\n",
      "El granjero le carga 4 jarras y se van juntos paseando para llenarlas de agua en el pozo del pueblo más cercano.\n",
      "Por el camino Pelayo y el granjero se encuentran con 4 burros y sus 4 dueños que vuelven de recoger agua por el camino del pueblo.\n",
      "Todos felicitan a Pelayo por su 4º cumpleaños.- ¡Qué bien te veo Pelayo! ¡Felicidades🎉! – le dicen todos sus amigos.\n",
      "Cuando vuelven a casa, su madre le ha preparado una tarta de zanahorias. Una tarta con 4 pisos de bizcocho y 4 velas preciosas.\n",
      "Pero Pelayo se disgusta un poco al no ver a sus 4 amigos en su fiesta de cumpleaños.\n",
      "De repente, escucha un ruido extraño que viene del granero. Se acerca y, al abrir la puerta, sus 4 amigos gritan al mismo tiempo- ¡Sorpresa! ¡Feliz cumpleaños, Pelayo!\n",
      "Sus amigos le dan 4 regalos y se toman 4 trozos de la deliciosa tarta de cumpleaños.\n",
      "Todos cantan y bailan sin cesar y al caer la noche todos se van a sus granjas para descansar.\n",
      "Ha sido una fiesta estupenda y el burrito ya sueña con su próximo cumpleaños. ¡Descansa Pelayo, que todavía te queda un año!\n",
      "Fuente: www.cuentosyrecetas.com\n"
     ]
    }
   ],
   "source": [
    "my_text = '''El burro Pelayo hoy cumple 4 años y su madre y su padre le han levantado con canciones y muchos regalos 🎁🎁🎁.¡Qué contento está Pelayo! Con 4 años, ya es un burro grande y puede ir él solito a recoger agua, arar la tierra y pasear por la pradera hasta las 4 de la tarde.\n",
    "El granjero le carga 4 jarras y se van juntos paseando para llenarlas de agua en el pozo del pueblo más cercano.\n",
    "Por el camino Pelayo y el granjero se encuentran con 4 burros y sus 4 dueños que vuelven de recoger agua por el camino del pueblo.\n",
    "Todos felicitan a Pelayo por su 4º cumpleaños.- ¡Qué bien te veo Pelayo! ¡Felicidades🎉! – le dicen todos sus amigos.\n",
    "Cuando vuelven a casa, su madre le ha preparado una tarta de zanahorias. Una tarta con 4 pisos de bizcocho y 4 velas preciosas.\n",
    "Pero Pelayo se disgusta un poco al no ver a sus 4 amigos en su fiesta de cumpleaños.\n",
    "De repente, escucha un ruido extraño que viene del granero. Se acerca y, al abrir la puerta, sus 4 amigos gritan al mismo tiempo- ¡Sorpresa! ¡Feliz cumpleaños, Pelayo!\n",
    "Sus amigos le dan 4 regalos y se toman 4 trozos de la deliciosa tarta de cumpleaños.\n",
    "Todos cantan y bailan sin cesar y al caer la noche todos se van a sus granjas para descansar.\n",
    "Ha sido una fiesta estupenda y el burrito ya sueña con su próximo cumpleaños. ¡Descansa Pelayo, que todavía te queda un año!\n",
    "Fuente: www.cuentosyrecetas.com'''\n",
    "print(my_text)"
   ]
  },
  {
   "cell_type": "markdown",
   "id": "c321df02-12c1-4f1a-a633-da921efe6058",
   "metadata": {},
   "source": [
    "**Clasifica el texto según el idioma en el que está escrito.**"
   ]
  },
  {
   "cell_type": "code",
   "execution_count": 97,
   "id": "024fce68-0b85-4cd0-b884-a4f0bfcb7aa1",
   "metadata": {},
   "outputs": [],
   "source": [
    "# Importa la librería necesaria\n",
    "from langdetect import detect"
   ]
  },
  {
   "cell_type": "code",
   "execution_count": 98,
   "id": "bd914770-c27a-4374-9409-e36159b84581",
   "metadata": {},
   "outputs": [
    {
     "data": {
      "text/plain": [
       "'es'"
      ]
     },
     "execution_count": 98,
     "metadata": {},
     "output_type": "execute_result"
    }
   ],
   "source": [
    "# Detecta el idioma\n",
    "detect(my_text)"
   ]
  },
  {
   "cell_type": "markdown",
   "id": "da78f433-a856-48d2-a6d6-ea23d48b499c",
   "metadata": {},
   "source": [
    "**Crea una función `extract_features()` con 3 características del texto que te resulten interesantes.**"
   ]
  },
  {
   "cell_type": "code",
   "execution_count": 99,
   "id": "4bd5803c-9c35-40b2-b5e5-5a85b22182ac",
   "metadata": {},
   "outputs": [],
   "source": [
    "# Importa la librería necesaria\n",
    "from nltk.corpus import stopwords"
   ]
  },
  {
   "cell_type": "code",
   "execution_count": 100,
   "id": "2c7154ef-8952-45e6-99e4-df076810119e",
   "metadata": {},
   "outputs": [],
   "source": [
    "# Define la función\n",
    "def extract_features(text):\n",
    "    features = {}\n",
    "    \n",
    "    features['characters_count'] = len(text)\n",
    "    features['contains_unicode_characters'] = any([ord(char) > 255] for char in text)\n",
    "    \n",
    "    STOPWORDS_NLTK = stopwords.words('spanish')\n",
    "    features['stopwords_count'] = len([word for word in str(text).split() if word not in STOPWORDS_NLTK])\n",
    "\n",
    "    return features"
   ]
  },
  {
   "cell_type": "code",
   "execution_count": 101,
   "id": "f2ffdd69-e532-4faa-9f52-c0cdd83f809a",
   "metadata": {},
   "outputs": [
    {
     "data": {
      "text/plain": [
       "{'characters_count': 1347,\n",
       " 'contains_unicode_characters': True,\n",
       " 'stopwords_count': 150}"
      ]
     },
     "execution_count": 101,
     "metadata": {},
     "output_type": "execute_result"
    }
   ],
   "source": [
    "# Extrae las características del texto\n",
    "extract_features(my_text)"
   ]
  },
  {
   "cell_type": "markdown",
   "id": "37cb525d-4377-4077-9276-a4a8d987c824",
   "metadata": {},
   "source": [
    "**Pon el texto en minúsculas.**"
   ]
  },
  {
   "cell_type": "code",
   "execution_count": 102,
   "id": "9e959ef6-3b40-4891-8a6e-5c6914f8f2dd",
   "metadata": {},
   "outputs": [
    {
     "data": {
      "text/plain": [
       "'el burro pelayo hoy cumple 4 años y su madre y su padre le han levantado con canciones y muchos regalos 🎁🎁🎁.¡qué contento está pelayo! con 4 años, ya es un burro grande y puede ir él solito a recoger agua, arar la tierra y pasear por la pradera hasta las 4 de la tarde.\\nel granjero le carga 4 jarras y se van juntos paseando para llenarlas de agua en el pozo del pueblo más cercano.\\npor el camino pelayo y el granjero se encuentran con 4 burros y sus 4 dueños que vuelven de recoger agua por el camino del pueblo.\\ntodos felicitan a pelayo por su 4º cumpleaños.- ¡qué bien te veo pelayo! ¡felicidades🎉! – le dicen todos sus amigos.\\ncuando vuelven a casa, su madre le ha preparado una tarta de zanahorias. una tarta con 4 pisos de bizcocho y 4 velas preciosas.\\npero pelayo se disgusta un poco al no ver a sus 4 amigos en su fiesta de cumpleaños.\\nde repente, escucha un ruido extraño que viene del granero. se acerca y, al abrir la puerta, sus 4 amigos gritan al mismo tiempo- ¡sorpresa! ¡feliz cumpleaños, pelayo!\\nsus amigos le dan 4 regalos y se toman 4 trozos de la deliciosa tarta de cumpleaños.\\ntodos cantan y bailan sin cesar y al caer la noche todos se van a sus granjas para descansar.\\nha sido una fiesta estupenda y el burrito ya sueña con su próximo cumpleaños. ¡descansa pelayo, que todavía te queda un año!\\nfuente: www.cuentosyrecetas.com'"
      ]
     },
     "execution_count": 102,
     "metadata": {},
     "output_type": "execute_result"
    }
   ],
   "source": [
    "my_text_clean = my_text.lower()\n",
    "my_text_clean"
   ]
  },
  {
   "cell_type": "markdown",
   "id": "5971ad09-20aa-4647-aaca-f3ae3dff3448",
   "metadata": {},
   "source": [
    "**Sustituye los números por un espacio.**"
   ]
  },
  {
   "cell_type": "code",
   "execution_count": 103,
   "id": "44a03783-02dc-464a-8a19-b35cf57c764a",
   "metadata": {},
   "outputs": [],
   "source": [
    "# Importa la librería necesaria\n",
    "import re"
   ]
  },
  {
   "cell_type": "code",
   "execution_count": 104,
   "id": "e020f2c6-0d39-41a6-9582-4cf3cbb661dc",
   "metadata": {},
   "outputs": [
    {
     "data": {
      "text/plain": [
       "'el burro pelayo hoy cumple   años y su madre y su padre le han levantado con canciones y muchos regalos 🎁🎁🎁.¡qué contento está pelayo! con   años, ya es un burro grande y puede ir él solito a recoger agua, arar la tierra y pasear por la pradera hasta las   de la tarde.\\nel granjero le carga   jarras y se van juntos paseando para llenarlas de agua en el pozo del pueblo más cercano.\\npor el camino pelayo y el granjero se encuentran con   burros y sus   dueños que vuelven de recoger agua por el camino del pueblo.\\ntodos felicitan a pelayo por su  º cumpleaños.- ¡qué bien te veo pelayo! ¡felicidades🎉! – le dicen todos sus amigos.\\ncuando vuelven a casa, su madre le ha preparado una tarta de zanahorias. una tarta con   pisos de bizcocho y   velas preciosas.\\npero pelayo se disgusta un poco al no ver a sus   amigos en su fiesta de cumpleaños.\\nde repente, escucha un ruido extraño que viene del granero. se acerca y, al abrir la puerta, sus   amigos gritan al mismo tiempo- ¡sorpresa! ¡feliz cumpleaños, pelayo!\\nsus amigos le dan   regalos y se toman   trozos de la deliciosa tarta de cumpleaños.\\ntodos cantan y bailan sin cesar y al caer la noche todos se van a sus granjas para descansar.\\nha sido una fiesta estupenda y el burrito ya sueña con su próximo cumpleaños. ¡descansa pelayo, que todavía te queda un año!\\nfuente: www.cuentosyrecetas.com'"
      ]
     },
     "execution_count": 104,
     "metadata": {},
     "output_type": "execute_result"
    }
   ],
   "source": [
    "# Realiza la sustitución\n",
    "my_text_clean = re.sub(r'\\d+', ' ', my_text_clean)\n",
    "my_text_clean"
   ]
  },
  {
   "cell_type": "markdown",
   "id": "ce44afbf-54d3-4df7-9a1d-04dd950cf68c",
   "metadata": {},
   "source": [
    "**Elimina las URL del texto.**"
   ]
  },
  {
   "cell_type": "code",
   "execution_count": 105,
   "id": "d2dbddf8-7a73-48b7-869f-589cf4bce4ae",
   "metadata": {},
   "outputs": [],
   "source": [
    "# Define la expresión regular para detectar URLs\n",
    "url_regex = r'(https?:\\/\\/)?(www\\.)?[-a-zA-Z0-9@:%._\\+~#=]{1,256}\\.[a-zA-Z0-9()]{1,6}\\b([-a-zA-Z0-9()@:%_\\+.~#?&//=]*)'"
   ]
  },
  {
   "cell_type": "code",
   "execution_count": 106,
   "id": "e5de55be-750d-486f-b6cc-f38077b921fb",
   "metadata": {},
   "outputs": [
    {
     "data": {
      "text/plain": [
       "'el burro pelayo hoy cumple   años y su madre y su padre le han levantado con canciones y muchos regalos 🎁🎁🎁.¡qué contento está pelayo! con   años, ya es un burro grande y puede ir él solito a recoger agua, arar la tierra y pasear por la pradera hasta las   de la tarde.\\nel granjero le carga   jarras y se van juntos paseando para llenarlas de agua en el pozo del pueblo más cercano.\\npor el camino pelayo y el granjero se encuentran con   burros y sus   dueños que vuelven de recoger agua por el camino del pueblo.\\ntodos felicitan a pelayo por su  º cumpleaños.- ¡qué bien te veo pelayo! ¡felicidades🎉! – le dicen todos sus amigos.\\ncuando vuelven a casa, su madre le ha preparado una tarta de zanahorias. una tarta con   pisos de bizcocho y   velas preciosas.\\npero pelayo se disgusta un poco al no ver a sus   amigos en su fiesta de cumpleaños.\\nde repente, escucha un ruido extraño que viene del granero. se acerca y, al abrir la puerta, sus   amigos gritan al mismo tiempo- ¡sorpresa! ¡feliz cumpleaños, pelayo!\\nsus amigos le dan   regalos y se toman   trozos de la deliciosa tarta de cumpleaños.\\ntodos cantan y bailan sin cesar y al caer la noche todos se van a sus granjas para descansar.\\nha sido una fiesta estupenda y el burrito ya sueña con su próximo cumpleaños. ¡descansa pelayo, que todavía te queda un año!\\nfuente: '"
      ]
     },
     "execution_count": 106,
     "metadata": {},
     "output_type": "execute_result"
    }
   ],
   "source": [
    "# Elimina la URL\n",
    "my_text_clean = re.sub(url_regex, '', my_text_clean)\n",
    "my_text_clean"
   ]
  },
  {
   "cell_type": "markdown",
   "id": "1fc2424e-b3a2-45fc-a29f-5f4d956ebc11",
   "metadata": {},
   "source": [
    "**Sustituye los emojis por su forma textual.**"
   ]
  },
  {
   "cell_type": "code",
   "execution_count": 107,
   "id": "49e8f77f-817f-4d29-9c97-fbae3cbd1f1e",
   "metadata": {},
   "outputs": [],
   "source": [
    "# Importa la librería necesaria\n",
    "import emoji"
   ]
  },
  {
   "cell_type": "code",
   "execution_count": 108,
   "id": "70df89da-4190-429f-802b-c142951cbdc3",
   "metadata": {},
   "outputs": [
    {
     "data": {
      "text/plain": [
       "'el burro pelayo hoy cumple   años y su madre y su padre le han levantado con canciones y muchos regalos :regalo::regalo::regalo:.¡qué contento está pelayo! con   años, ya es un burro grande y puede ir él solito a recoger agua, arar la tierra y pasear por la pradera hasta las   de la tarde.\\nel granjero le carga   jarras y se van juntos paseando para llenarlas de agua en el pozo del pueblo más cercano.\\npor el camino pelayo y el granjero se encuentran con   burros y sus   dueños que vuelven de recoger agua por el camino del pueblo.\\ntodos felicitan a pelayo por su  º cumpleaños.- ¡qué bien te veo pelayo! ¡felicidades:cañón_de_confeti:! – le dicen todos sus amigos.\\ncuando vuelven a casa, su madre le ha preparado una tarta de zanahorias. una tarta con   pisos de bizcocho y   velas preciosas.\\npero pelayo se disgusta un poco al no ver a sus   amigos en su fiesta de cumpleaños.\\nde repente, escucha un ruido extraño que viene del granero. se acerca y, al abrir la puerta, sus   amigos gritan al mismo tiempo- ¡sorpresa! ¡feliz cumpleaños, pelayo!\\nsus amigos le dan   regalos y se toman   trozos de la deliciosa tarta de cumpleaños.\\ntodos cantan y bailan sin cesar y al caer la noche todos se van a sus granjas para descansar.\\nha sido una fiesta estupenda y el burrito ya sueña con su próximo cumpleaños. ¡descansa pelayo, que todavía te queda un año!\\nfuente: '"
      ]
     },
     "execution_count": 108,
     "metadata": {},
     "output_type": "execute_result"
    }
   ],
   "source": [
    "# Realiza la sustitución\n",
    "my_text_clean = emoji.demojize(my_text_clean, language='es')\n",
    "my_text_clean"
   ]
  },
  {
   "cell_type": "markdown",
   "id": "23d15c78-1e1c-431f-8030-7b5fc2bd57eb",
   "metadata": {},
   "source": [
    "**Quita los acentos y otros caracteres no ASCII del texto.**"
   ]
  },
  {
   "cell_type": "code",
   "execution_count": 109,
   "id": "f8274735-56c8-4f73-86bd-acb807c7a35d",
   "metadata": {},
   "outputs": [],
   "source": [
    "# Importa la librería necesaria\n",
    "from unidecode import unidecode"
   ]
  },
  {
   "cell_type": "code",
   "execution_count": 110,
   "id": "5fa28921-f8e5-41c5-8822-f6c2dde83812",
   "metadata": {},
   "outputs": [
    {
     "data": {
      "text/plain": [
       "'el burro pelayo hoy cumple   anos y su madre y su padre le han levantado con canciones y muchos regalos :regalo::regalo::regalo:.!que contento esta pelayo! con   anos, ya es un burro grande y puede ir el solito a recoger agua, arar la tierra y pasear por la pradera hasta las   de la tarde.\\nel granjero le carga   jarras y se van juntos paseando para llenarlas de agua en el pozo del pueblo mas cercano.\\npor el camino pelayo y el granjero se encuentran con   burros y sus   duenos que vuelven de recoger agua por el camino del pueblo.\\ntodos felicitan a pelayo por su  o cumpleanos.- !que bien te veo pelayo! !felicidades:canon_de_confeti:! - le dicen todos sus amigos.\\ncuando vuelven a casa, su madre le ha preparado una tarta de zanahorias. una tarta con   pisos de bizcocho y   velas preciosas.\\npero pelayo se disgusta un poco al no ver a sus   amigos en su fiesta de cumpleanos.\\nde repente, escucha un ruido extrano que viene del granero. se acerca y, al abrir la puerta, sus   amigos gritan al mismo tiempo- !sorpresa! !feliz cumpleanos, pelayo!\\nsus amigos le dan   regalos y se toman   trozos de la deliciosa tarta de cumpleanos.\\ntodos cantan y bailan sin cesar y al caer la noche todos se van a sus granjas para descansar.\\nha sido una fiesta estupenda y el burrito ya suena con su proximo cumpleanos. !descansa pelayo, que todavia te queda un ano!\\nfuente: '"
      ]
     },
     "execution_count": 110,
     "metadata": {},
     "output_type": "execute_result"
    }
   ],
   "source": [
    "# Elimina los caracteres no ASCII\n",
    "my_text_clean = unidecode(my_text_clean)\n",
    "my_text_clean"
   ]
  },
  {
   "cell_type": "markdown",
   "id": "e2668eb3-1025-474a-a1cd-dd359d160a3b",
   "metadata": {},
   "source": [
    "**Sustituye lo signos de puntuación por un espacio.**"
   ]
  },
  {
   "cell_type": "code",
   "execution_count": 111,
   "id": "498d1dde-b275-41d7-acfe-8ba7da22bdc5",
   "metadata": {},
   "outputs": [],
   "source": [
    "# Instancia los signos de puntuación\n",
    "punct_es = r'.,;:\"#$%&\\'()*+-/<=>@[\\\\]^_`{|}~¿?¡!ºª'"
   ]
  },
  {
   "cell_type": "code",
   "execution_count": 112,
   "id": "e6db08fa-f911-4161-ae05-7d2fcf214d82",
   "metadata": {},
   "outputs": [
    {
     "data": {
      "text/plain": [
       "'el burro pelayo hoy cumple   anos y su madre y su padre le han levantado con canciones y muchos regalos  regalo  regalo  regalo   que contento esta pelayo  con   anos  ya es un burro grande y puede ir el solito a recoger agua  arar la tierra y pasear por la pradera hasta las   de la tarde \\nel granjero le carga   jarras y se van juntos paseando para llenarlas de agua en el pozo del pueblo mas cercano \\npor el camino pelayo y el granjero se encuentran con   burros y sus   duenos que vuelven de recoger agua por el camino del pueblo \\ntodos felicitan a pelayo por su  o cumpleanos    que bien te veo pelayo   felicidades canon de confeti     le dicen todos sus amigos \\ncuando vuelven a casa  su madre le ha preparado una tarta de zanahorias  una tarta con   pisos de bizcocho y   velas preciosas \\npero pelayo se disgusta un poco al no ver a sus   amigos en su fiesta de cumpleanos \\nde repente  escucha un ruido extrano que viene del granero  se acerca y  al abrir la puerta  sus   amigos gritan al mismo tiempo   sorpresa   feliz cumpleanos  pelayo \\nsus amigos le dan   regalos y se toman   trozos de la deliciosa tarta de cumpleanos \\ntodos cantan y bailan sin cesar y al caer la noche todos se van a sus granjas para descansar \\nha sido una fiesta estupenda y el burrito ya suena con su proximo cumpleanos   descansa pelayo  que todavia te queda un ano \\nfuente  '"
      ]
     },
     "execution_count": 112,
     "metadata": {},
     "output_type": "execute_result"
    }
   ],
   "source": [
    "# Crea la tabla de mapeo\n",
    "traslator = str.maketrans(punct_es, ' '*len(punct_es))\n",
    "\n",
    "# Haz los reemplazos\n",
    "my_text_clean = my_text_clean.translate(traslator)\n",
    "my_text_clean"
   ]
  },
  {
   "cell_type": "markdown",
   "id": "fcac2e2b-ec07-4ac4-954d-96d9faac96a3",
   "metadata": {},
   "source": [
    "**Limpia los espacios innecesarios, quitando también los saltos de línea.**"
   ]
  },
  {
   "cell_type": "code",
   "execution_count": 113,
   "id": "dcea679a-3e82-4c78-b01e-c8b19eb143c9",
   "metadata": {},
   "outputs": [
    {
     "data": {
      "text/plain": [
       "'el burro pelayo hoy cumple anos y su madre y su padre le han levantado con canciones y muchos regalos regalo regalo regalo que contento esta pelayo con anos ya es un burro grande y puede ir el solito a recoger agua arar la tierra y pasear por la pradera hasta las de la tarde el granjero le carga jarras y se van juntos paseando para llenarlas de agua en el pozo del pueblo mas cercano por el camino pelayo y el granjero se encuentran con burros y sus duenos que vuelven de recoger agua por el camino del pueblo todos felicitan a pelayo por su o cumpleanos que bien te veo pelayo felicidades canon de confeti le dicen todos sus amigos cuando vuelven a casa su madre le ha preparado una tarta de zanahorias una tarta con pisos de bizcocho y velas preciosas pero pelayo se disgusta un poco al no ver a sus amigos en su fiesta de cumpleanos de repente escucha un ruido extrano que viene del granero se acerca y al abrir la puerta sus amigos gritan al mismo tiempo sorpresa feliz cumpleanos pelayo sus amigos le dan regalos y se toman trozos de la deliciosa tarta de cumpleanos todos cantan y bailan sin cesar y al caer la noche todos se van a sus granjas para descansar ha sido una fiesta estupenda y el burrito ya suena con su proximo cumpleanos descansa pelayo que todavia te queda un ano fuente'"
      ]
     },
     "execution_count": 113,
     "metadata": {},
     "output_type": "execute_result"
    }
   ],
   "source": [
    "# Limpia los espacios de los extremos\n",
    "my_text_clean = my_text_clean.strip()\n",
    "\n",
    "# Limpia los espacios del interior\n",
    "my_text_clean = re.sub(r'\\s{2,}', ' ', my_text_clean)\n",
    "my_text_clean"
   ]
  },
  {
   "cell_type": "markdown",
   "id": "8bbbd9e6-3b16-47db-8551-07953a61395e",
   "metadata": {},
   "source": [
    "**Quita las stopwords.**"
   ]
  },
  {
   "cell_type": "code",
   "execution_count": 114,
   "id": "5e0b7485-b3e9-4cb7-824c-b27b556b3a16",
   "metadata": {},
   "outputs": [],
   "source": [
    "# Importa las palabras vacías desde la librería\n",
    "from nltk.corpus import stopwords"
   ]
  },
  {
   "cell_type": "code",
   "execution_count": 115,
   "id": "79eff01b-3d1f-43e8-b82f-8e5c07126130",
   "metadata": {},
   "outputs": [],
   "source": [
    "# Guarda el listado de palabras vacías en una variable\n",
    "STOPWORDS_NLTK = stopwords.words('spanish')"
   ]
  },
  {
   "cell_type": "code",
   "execution_count": 116,
   "id": "af87a854-edf6-45df-969d-432c1fb0d5d6",
   "metadata": {},
   "outputs": [],
   "source": [
    "# Crea función para eliminar palabras vacías\n",
    "def remove_stopwords(text):\n",
    "    return ' '.join([word for word in str(text).split() if word not in STOPWORDS_NLTK])"
   ]
  },
  {
   "cell_type": "code",
   "execution_count": 117,
   "id": "f60184fe-c491-461d-aabb-4215f3301a89",
   "metadata": {},
   "outputs": [
    {
     "data": {
      "text/plain": [
       "'burro pelayo hoy cumple anos madre padre levantado canciones regalos regalo regalo regalo contento pelayo anos burro grande puede ir solito recoger agua arar tierra pasear pradera tarde granjero carga jarras van juntos paseando llenarlas agua pozo pueblo mas cercano camino pelayo granjero encuentran burros duenos vuelven recoger agua camino pueblo felicitan pelayo cumpleanos bien veo pelayo felicidades canon confeti dicen amigos vuelven casa madre preparado tarta zanahorias tarta pisos bizcocho velas preciosas pelayo disgusta ver amigos fiesta cumpleanos repente escucha ruido extrano viene granero acerca abrir puerta amigos gritan mismo tiempo sorpresa feliz cumpleanos pelayo amigos dan regalos toman trozos deliciosa tarta cumpleanos cantan bailan cesar caer noche van granjas descansar sido fiesta estupenda burrito suena proximo cumpleanos descansa pelayo todavia queda ano fuente'"
      ]
     },
     "execution_count": 117,
     "metadata": {},
     "output_type": "execute_result"
    }
   ],
   "source": [
    "# Elimina las palabras vacías\n",
    "my_text_clean = remove_stopwords(my_text_clean)\n",
    "my_text_clean"
   ]
  },
  {
   "cell_type": "code",
   "execution_count": null,
   "id": "1073edcf-8e29-402c-8a8a-d3b68c679beb",
   "metadata": {},
   "outputs": [],
   "source": []
  }
 ],
 "metadata": {
  "kernelspec": {
   "display_name": "ai_env",
   "language": "python",
   "name": "ai_env"
  },
  "language_info": {
   "codemirror_mode": {
    "name": "ipython",
    "version": 3
   },
   "file_extension": ".py",
   "mimetype": "text/x-python",
   "name": "python",
   "nbconvert_exporter": "python",
   "pygments_lexer": "ipython3",
   "version": "3.9.6"
  }
 },
 "nbformat": 4,
 "nbformat_minor": 5
}
