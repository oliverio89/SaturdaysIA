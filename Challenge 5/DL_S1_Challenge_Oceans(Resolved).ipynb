{
 "cells": [
  {
   "cell_type": "markdown",
   "metadata": {
    "colab_type": "text",
    "id": "cVtZXn9Yq-d-"
   },
   "source": [
    "# **AISaturdays Ocean Proximity Challenge**\n",
    "\n",
    "![AISaturdays](https://www.saturdays.ai/assets/images/ai-saturdays-122x122.png)\n",
    "\n",
    "Bienvenido al reto de **AISaturdays** de Inteligencia Artificial del curso de Deep Learning.\n",
    "\n",
    "En este ejercicio trataremos de predecir la proximidad del océano con respecto a un conjunto de viviendas.\n",
    "\n",
    "**Enlaces:**\n",
    "- AISaturdays Deep Learning [temario clase 1](https://app.eduflow.com/courses/d4d36f90-f65e-4ede-b8f3-16f498ce3a33/flows/98016aaa-4e29-428f-a8f9-d5d9477d7274/activities/d9f00e62-0403-4a21-bdae-c6a3ea2984e5).\n",
    "- Ejercicio Kaggle: https://www.kaggle.com/camnugent/california-housing-prices\n",
    "\n",
    "**Instrucciones:**\n",
    "- Se usará el lenguaje de programación Python 3.\n",
    "- Se usarán las librerías de python: *Pandas, MatPlotLib, Numpy, Scikit-learn, Keras,TensorFlow*.\n",
    "\n",
    "**Mediante este ejercicio, aprenderemos:**\n",
    "- Entender y ejecutar los NoteBooks con Python.\n",
    "- Ser capaz de utilizar funciones de Python y librerías adicionales.\n",
    "- Dataset:\n",
    " - Obtener el dataset y previsualizar la información del dataset.\n",
    " - Limpiar y normalizar la información del dataset.\n",
    " - Representar y analizar la información del dataset.\n",
    "- Crear y entender el concepto de \"*Conjunto de datos de entrenamiento*\" y \"*Conjuntos de datos de test*\"\n",
    "- Crear y entender el concepto de \"*Modelo de redes neuronales*\" para procesar los datos,  predecir y obtener conclusiones.\n",
    "- Mejorar la predicción y evitar overfitting.\n",
    "\n",
    "\n",
    "¡Empecemos!"
   ]
  },
  {
   "cell_type": "markdown",
   "metadata": {
    "colab_type": "text",
    "id": "gG-uG10H7MJP"
   },
   "source": [
    "#1. Importación de librerías\n"
   ]
  },
  {
   "cell_type": "markdown",
   "metadata": {
    "colab_type": "text",
    "id": "Gb23ryIM7O6F"
   },
   "source": [
    "*Importaremos* las herramientas que vamos a utilizar.\n",
    "Para ejecutar cada celda(caja), pulsa el play de la izquierda o **Ctrl + Enter**."
   ]
  },
  {
   "cell_type": "code",
   "execution_count": 2,
   "metadata": {
    "colab": {
     "base_uri": "https://localhost:8080/",
     "height": 80
    },
    "colab_type": "code",
    "id": "ck6EgsF4QM20",
    "outputId": "cdabb583-b72d-4067-a168-e542a24f46fe"
   },
   "outputs": [],
   "source": [
    "import numpy as np\n",
    "import pandas as pd\n",
    "import matplotlib.pyplot as plt\n",
    "from sklearn import preprocessing\n",
    "from sklearn.model_selection import train_test_split\n",
    "from tensorflow.keras.utils import to_categorical\n",
    "import tensorflow as tf\n",
    "import seaborn as sns"
   ]
  },
  {
   "cell_type": "markdown",
   "metadata": {
    "colab_type": "text",
    "id": "mjLIB37q7YfV"
   },
   "source": [
    "#2. Dataset\n",
    "![texto alternativo](https://i.imgur.com/TMvhIbd.png)"
   ]
  },
  {
   "cell_type": "markdown",
   "metadata": {
    "colab_type": "text",
    "id": "MOduCoeM7gJM"
   },
   "source": [
    "### Obtener el dataset y previsualizar la información del dataset."
   ]
  },
  {
   "cell_type": "markdown",
   "metadata": {
    "colab_type": "text",
    "id": "4z2qf6qV7jHe"
   },
   "source": [
    "¡Nuestra tabla! Para poder visualizar y limpiar los datos convertiremos el archivo CSV.\n",
    "\n",
    "Los datos se almacenarán en un dataframe llamado **df**."
   ]
  },
  {
   "cell_type": "code",
   "execution_count": 3,
   "metadata": {
    "colab": {},
    "colab_type": "code",
    "id": "D59xF6NcVkLh"
   },
   "outputs": [],
   "source": [
    "# Sólo con una línea de código\n",
    "df = pd.read_csv(r'housing.csv')"
   ]
  },
  {
   "cell_type": "markdown",
   "metadata": {
    "colab_type": "text",
    "id": "Ip5Tr_yO82v1"
   },
   "source": [
    "1. Tu turno. Muestra los primeros valores del archivo CSV para hacernos una idea del contenido de la tabla con el código: df.head()\n",
    "\n",
    "\n",
    "---"
   ]
  },
  {
   "cell_type": "code",
   "execution_count": 5,
   "metadata": {
    "colab": {
     "base_uri": "https://localhost:8080/",
     "height": 204
    },
    "colab_type": "code",
    "id": "hE1nZKr-85Z0",
    "outputId": "9ccfcd77-6bfd-494a-de2a-ecdc23f68a24"
   },
   "outputs": [
    {
     "data": {
      "text/html": [
       "<div>\n",
       "<style scoped>\n",
       "    .dataframe tbody tr th:only-of-type {\n",
       "        vertical-align: middle;\n",
       "    }\n",
       "\n",
       "    .dataframe tbody tr th {\n",
       "        vertical-align: top;\n",
       "    }\n",
       "\n",
       "    .dataframe thead th {\n",
       "        text-align: right;\n",
       "    }\n",
       "</style>\n",
       "<table border=\"1\" class=\"dataframe\">\n",
       "  <thead>\n",
       "    <tr style=\"text-align: right;\">\n",
       "      <th></th>\n",
       "      <th>longitude</th>\n",
       "      <th>latitude</th>\n",
       "      <th>housing_median_age</th>\n",
       "      <th>total_rooms</th>\n",
       "      <th>total_bedrooms</th>\n",
       "      <th>population</th>\n",
       "      <th>households</th>\n",
       "      <th>median_income</th>\n",
       "      <th>median_house_value</th>\n",
       "      <th>ocean_proximity</th>\n",
       "    </tr>\n",
       "  </thead>\n",
       "  <tbody>\n",
       "    <tr>\n",
       "      <th>0</th>\n",
       "      <td>-122.23</td>\n",
       "      <td>37.88</td>\n",
       "      <td>41.0</td>\n",
       "      <td>880.0</td>\n",
       "      <td>129.0</td>\n",
       "      <td>322.0</td>\n",
       "      <td>126.0</td>\n",
       "      <td>8.3252</td>\n",
       "      <td>452600.0</td>\n",
       "      <td>NEAR BAY</td>\n",
       "    </tr>\n",
       "    <tr>\n",
       "      <th>1</th>\n",
       "      <td>-122.22</td>\n",
       "      <td>37.86</td>\n",
       "      <td>21.0</td>\n",
       "      <td>7099.0</td>\n",
       "      <td>1106.0</td>\n",
       "      <td>2401.0</td>\n",
       "      <td>1138.0</td>\n",
       "      <td>8.3014</td>\n",
       "      <td>358500.0</td>\n",
       "      <td>NEAR BAY</td>\n",
       "    </tr>\n",
       "    <tr>\n",
       "      <th>2</th>\n",
       "      <td>-122.24</td>\n",
       "      <td>37.85</td>\n",
       "      <td>52.0</td>\n",
       "      <td>1467.0</td>\n",
       "      <td>190.0</td>\n",
       "      <td>496.0</td>\n",
       "      <td>177.0</td>\n",
       "      <td>7.2574</td>\n",
       "      <td>352100.0</td>\n",
       "      <td>NEAR BAY</td>\n",
       "    </tr>\n",
       "    <tr>\n",
       "      <th>3</th>\n",
       "      <td>-122.25</td>\n",
       "      <td>37.85</td>\n",
       "      <td>52.0</td>\n",
       "      <td>1274.0</td>\n",
       "      <td>235.0</td>\n",
       "      <td>558.0</td>\n",
       "      <td>219.0</td>\n",
       "      <td>5.6431</td>\n",
       "      <td>341300.0</td>\n",
       "      <td>NEAR BAY</td>\n",
       "    </tr>\n",
       "    <tr>\n",
       "      <th>4</th>\n",
       "      <td>-122.25</td>\n",
       "      <td>37.85</td>\n",
       "      <td>52.0</td>\n",
       "      <td>1627.0</td>\n",
       "      <td>280.0</td>\n",
       "      <td>565.0</td>\n",
       "      <td>259.0</td>\n",
       "      <td>3.8462</td>\n",
       "      <td>342200.0</td>\n",
       "      <td>NEAR BAY</td>\n",
       "    </tr>\n",
       "  </tbody>\n",
       "</table>\n",
       "</div>"
      ],
      "text/plain": [
       "   longitude  latitude  housing_median_age  total_rooms  total_bedrooms  \\\n",
       "0    -122.23     37.88                41.0        880.0           129.0   \n",
       "1    -122.22     37.86                21.0       7099.0          1106.0   \n",
       "2    -122.24     37.85                52.0       1467.0           190.0   \n",
       "3    -122.25     37.85                52.0       1274.0           235.0   \n",
       "4    -122.25     37.85                52.0       1627.0           280.0   \n",
       "\n",
       "   population  households  median_income  median_house_value ocean_proximity  \n",
       "0       322.0       126.0         8.3252            452600.0        NEAR BAY  \n",
       "1      2401.0      1138.0         8.3014            358500.0        NEAR BAY  \n",
       "2       496.0       177.0         7.2574            352100.0        NEAR BAY  \n",
       "3       558.0       219.0         5.6431            341300.0        NEAR BAY  \n",
       "4       565.0       259.0         3.8462            342200.0        NEAR BAY  "
      ]
     },
     "execution_count": 5,
     "metadata": {},
     "output_type": "execute_result"
    }
   ],
   "source": [
    "# Sólo con una línea de código\n",
    "df.head()"
   ]
  },
  {
   "cell_type": "markdown",
   "metadata": {
    "colab_type": "text",
    "id": "vzU3111m-MV2"
   },
   "source": [
    "### Variables\n",
    "\n",
    "* **longitude:** Valor longitude de la coordenada.\n",
    "* **latitude:** Valor latitude de la coordenada.\n",
    "* **housing_median_age:** Edad media de las viviendas de esta zona.\n",
    "* **total_rooms:** Total de habitaciones.\n",
    "* **total_bedrooms:** Total de camas.\n",
    "* **population:** Población en esta zona. Importante denotar que también es un valor total.\n",
    "* **households:** Viviendas en esta zona. Importante denotar que también es un valor total.\n",
    "* **median_income:** Salario medio de las personas de esta zona.\n",
    "* **median_house_value:** Valor medio de la vivienda de esta zona.\n",
    "* **ocean_proximity:**  ¡El resultado! Significa la proximidad del océano con respecto a las viviendas de esta zona. Si nos fijamos, este campo contiene valores de cadena (etiquetas) para determinar la proximidad.\n",
    "\n"
   ]
  },
  {
   "cell_type": "markdown",
   "metadata": {
    "colab_type": "text",
    "id": "Dek_DLDHDqwP"
   },
   "source": [
    "### Analizar dataset:\n",
    "\n",
    "Para entender la distribución de los datos, vamos a observar:\n",
    "\n",
    "- La cantidad de datos (count)\n",
    "- La distribución de los datos mediante cuartiles (25%,50%,75%)\n",
    "- Media de los datos (mean)\n",
    "- Mínimos y máximos (min, max)\n",
    "- Varianza (std)\n",
    "- ..."
   ]
  },
  {
   "cell_type": "markdown",
   "metadata": {
    "colab_type": "text",
    "id": "AzQbGrCyDt8N"
   },
   "source": [
    "2. Utiliza la función .describe() para analizar la distribución de los datos\n",
    "\n",
    "\n",
    "---"
   ]
  },
  {
   "cell_type": "code",
   "execution_count": 6,
   "metadata": {
    "colab": {
     "base_uri": "https://localhost:8080/",
     "height": 297
    },
    "colab_type": "code",
    "id": "Bw4pU84Ocst5",
    "outputId": "96ee3176-da9a-4fad-bfff-dc12e8d946b6"
   },
   "outputs": [
    {
     "data": {
      "text/html": [
       "<div>\n",
       "<style scoped>\n",
       "    .dataframe tbody tr th:only-of-type {\n",
       "        vertical-align: middle;\n",
       "    }\n",
       "\n",
       "    .dataframe tbody tr th {\n",
       "        vertical-align: top;\n",
       "    }\n",
       "\n",
       "    .dataframe thead th {\n",
       "        text-align: right;\n",
       "    }\n",
       "</style>\n",
       "<table border=\"1\" class=\"dataframe\">\n",
       "  <thead>\n",
       "    <tr style=\"text-align: right;\">\n",
       "      <th></th>\n",
       "      <th>longitude</th>\n",
       "      <th>latitude</th>\n",
       "      <th>housing_median_age</th>\n",
       "      <th>total_rooms</th>\n",
       "      <th>total_bedrooms</th>\n",
       "      <th>population</th>\n",
       "      <th>households</th>\n",
       "      <th>median_income</th>\n",
       "      <th>median_house_value</th>\n",
       "    </tr>\n",
       "  </thead>\n",
       "  <tbody>\n",
       "    <tr>\n",
       "      <th>count</th>\n",
       "      <td>20640.000000</td>\n",
       "      <td>20640.000000</td>\n",
       "      <td>20640.000000</td>\n",
       "      <td>20640.000000</td>\n",
       "      <td>20433.000000</td>\n",
       "      <td>20640.000000</td>\n",
       "      <td>20640.000000</td>\n",
       "      <td>20640.000000</td>\n",
       "      <td>20640.000000</td>\n",
       "    </tr>\n",
       "    <tr>\n",
       "      <th>mean</th>\n",
       "      <td>-119.569704</td>\n",
       "      <td>35.631861</td>\n",
       "      <td>28.639486</td>\n",
       "      <td>2635.763081</td>\n",
       "      <td>537.870553</td>\n",
       "      <td>1425.476744</td>\n",
       "      <td>499.539680</td>\n",
       "      <td>3.870671</td>\n",
       "      <td>206855.816909</td>\n",
       "    </tr>\n",
       "    <tr>\n",
       "      <th>std</th>\n",
       "      <td>2.003532</td>\n",
       "      <td>2.135952</td>\n",
       "      <td>12.585558</td>\n",
       "      <td>2181.615252</td>\n",
       "      <td>421.385070</td>\n",
       "      <td>1132.462122</td>\n",
       "      <td>382.329753</td>\n",
       "      <td>1.899822</td>\n",
       "      <td>115395.615874</td>\n",
       "    </tr>\n",
       "    <tr>\n",
       "      <th>min</th>\n",
       "      <td>-124.350000</td>\n",
       "      <td>32.540000</td>\n",
       "      <td>1.000000</td>\n",
       "      <td>2.000000</td>\n",
       "      <td>1.000000</td>\n",
       "      <td>3.000000</td>\n",
       "      <td>1.000000</td>\n",
       "      <td>0.499900</td>\n",
       "      <td>14999.000000</td>\n",
       "    </tr>\n",
       "    <tr>\n",
       "      <th>25%</th>\n",
       "      <td>-121.800000</td>\n",
       "      <td>33.930000</td>\n",
       "      <td>18.000000</td>\n",
       "      <td>1447.750000</td>\n",
       "      <td>296.000000</td>\n",
       "      <td>787.000000</td>\n",
       "      <td>280.000000</td>\n",
       "      <td>2.563400</td>\n",
       "      <td>119600.000000</td>\n",
       "    </tr>\n",
       "    <tr>\n",
       "      <th>50%</th>\n",
       "      <td>-118.490000</td>\n",
       "      <td>34.260000</td>\n",
       "      <td>29.000000</td>\n",
       "      <td>2127.000000</td>\n",
       "      <td>435.000000</td>\n",
       "      <td>1166.000000</td>\n",
       "      <td>409.000000</td>\n",
       "      <td>3.534800</td>\n",
       "      <td>179700.000000</td>\n",
       "    </tr>\n",
       "    <tr>\n",
       "      <th>75%</th>\n",
       "      <td>-118.010000</td>\n",
       "      <td>37.710000</td>\n",
       "      <td>37.000000</td>\n",
       "      <td>3148.000000</td>\n",
       "      <td>647.000000</td>\n",
       "      <td>1725.000000</td>\n",
       "      <td>605.000000</td>\n",
       "      <td>4.743250</td>\n",
       "      <td>264725.000000</td>\n",
       "    </tr>\n",
       "    <tr>\n",
       "      <th>max</th>\n",
       "      <td>-114.310000</td>\n",
       "      <td>41.950000</td>\n",
       "      <td>52.000000</td>\n",
       "      <td>39320.000000</td>\n",
       "      <td>6445.000000</td>\n",
       "      <td>35682.000000</td>\n",
       "      <td>6082.000000</td>\n",
       "      <td>15.000100</td>\n",
       "      <td>500001.000000</td>\n",
       "    </tr>\n",
       "  </tbody>\n",
       "</table>\n",
       "</div>"
      ],
      "text/plain": [
       "          longitude      latitude  housing_median_age   total_rooms  \\\n",
       "count  20640.000000  20640.000000        20640.000000  20640.000000   \n",
       "mean    -119.569704     35.631861           28.639486   2635.763081   \n",
       "std        2.003532      2.135952           12.585558   2181.615252   \n",
       "min     -124.350000     32.540000            1.000000      2.000000   \n",
       "25%     -121.800000     33.930000           18.000000   1447.750000   \n",
       "50%     -118.490000     34.260000           29.000000   2127.000000   \n",
       "75%     -118.010000     37.710000           37.000000   3148.000000   \n",
       "max     -114.310000     41.950000           52.000000  39320.000000   \n",
       "\n",
       "       total_bedrooms    population    households  median_income  \\\n",
       "count    20433.000000  20640.000000  20640.000000   20640.000000   \n",
       "mean       537.870553   1425.476744    499.539680       3.870671   \n",
       "std        421.385070   1132.462122    382.329753       1.899822   \n",
       "min          1.000000      3.000000      1.000000       0.499900   \n",
       "25%        296.000000    787.000000    280.000000       2.563400   \n",
       "50%        435.000000   1166.000000    409.000000       3.534800   \n",
       "75%        647.000000   1725.000000    605.000000       4.743250   \n",
       "max       6445.000000  35682.000000   6082.000000      15.000100   \n",
       "\n",
       "       median_house_value  \n",
       "count        20640.000000  \n",
       "mean        206855.816909  \n",
       "std         115395.615874  \n",
       "min          14999.000000  \n",
       "25%         119600.000000  \n",
       "50%         179700.000000  \n",
       "75%         264725.000000  \n",
       "max         500001.000000  "
      ]
     },
     "execution_count": 6,
     "metadata": {},
     "output_type": "execute_result"
    }
   ],
   "source": [
    "# Sólo con una línea de código\n",
    "df.describe()"
   ]
  },
  {
   "cell_type": "markdown",
   "metadata": {
    "colab_type": "text",
    "id": "EctvUGXza5wt"
   },
   "source": [
    "Visualicemos el contenido para hacernos una idea de la distribución de las viviendas por población y precio.\n",
    "\n",
    "*   Es la zona de California, y al suroeste donde terminan los círculos, comieza el océano.\n",
    "![California](https://california.azureedge.net/cdt/CAgovPortal/images/Uploads/menu-living.jpg)\n",
    "*   El precio se indica con color rojo para las viviendas más caras.\n",
    "*   Las viviendas más cercanas al océano se encuentran por lo tanto en la costa de California.\n",
    "\n",
    "\n"
   ]
  },
  {
   "cell_type": "code",
   "execution_count": 7,
   "metadata": {},
   "outputs": [
    {
     "data": {
      "text/plain": [
       "<matplotlib.legend.Legend at 0x1c267803f98>"
      ]
     },
     "execution_count": 7,
     "metadata": {},
     "output_type": "execute_result"
    },
    {
     "data": {
      "text/plain": [
       "<Figure size 720x504 with 0 Axes>"
      ]
     },
     "metadata": {},
     "output_type": "display_data"
    },
    {
     "data": {
      "image/png": "[encoded data removed]",
      "text/plain": [
       "<Figure size 1080x576 with 2 Axes>"
      ]
     },
     "metadata": {},
     "output_type": "display_data"
    }
   ],
   "source": [
    "# Ejecutar el siguiente código\n",
    "plt.figure(figsize=(10,7))\n",
    "plotter = df.copy()\n",
    "plotter.plot(kind=\"scatter\", x=\"longitude\", y=\"latitude\", alpha=0.4, s=plotter[\"population\"]/100, label=\"population\", figsize=(15,8), c=\"median_house_value\", cmap=plt.get_cmap(\"jet\"),colorbar=True, )\n",
    "plt.legend()"
   ]
  },
  {
   "cell_type": "markdown",
   "metadata": {
    "colab_type": "text",
    "id": "EgM114S_PXCA"
   },
   "source": [
    "### Limpiar y normalizar la información del dataset\n",
    "![texto alternativo](https://i.imgur.com/8u4xTI7.png)\n",
    "\n",
    "En este apartado se pretende corregir y mejorar información en el dataset que pueda faltar, sea inconsistente o no sea correcta.\n",
    "\n",
    "Este paso es necesario para mejorar cualquier predicción futura que se realice con el dataset.\n",
    "\n",
    "Existen diferentes técnicas para corregir y mejorar la calidad e integridad de información de nuestro dataset. \n",
    "\n",
    "Como futura lectura, recomendamos el siguiente enlace con [técnicas de mejora del dato](https://www.kaggle.com/pavansanagapati/simple-tutorial-how-to-handle-missing-data).\n",
    "\n"
   ]
  },
  {
   "cell_type": "markdown",
   "metadata": {
    "colab_type": "text",
    "id": "pPv3a-JOHYRt"
   },
   "source": [
    "3. Muestra el sumatorio de los valores nulos del dataset: df.isnull()...\n",
    "[Documentación](https://datascience.stackexchange.com/questions/12645/how-to-count-the-number-of-missing-values-in-each-row-in-pandas-dataframe)\n",
    "\n",
    "\n",
    "---"
   ]
  },
  {
   "cell_type": "code",
   "execution_count": 8,
   "metadata": {
    "colab": {
     "base_uri": "https://localhost:8080/",
     "height": 204
    },
    "colab_type": "code",
    "id": "SSVCQSO4WL23",
    "outputId": "08c138a6-12fd-4f55-84f1-85419e1d1f73"
   },
   "outputs": [
    {
     "data": {
      "text/plain": [
       "longitude               0\n",
       "latitude                0\n",
       "housing_median_age      0\n",
       "total_rooms             0\n",
       "total_bedrooms        207\n",
       "population              0\n",
       "households              0\n",
       "median_income           0\n",
       "median_house_value      0\n",
       "ocean_proximity         0\n",
       "dtype: int64"
      ]
     },
     "execution_count": 8,
     "metadata": {},
     "output_type": "execute_result"
    }
   ],
   "source": [
    "# Sólo con una línea de código\n",
    "df.isnull().sum()"
   ]
  },
  {
   "cell_type": "markdown",
   "metadata": {
    "colab_type": "text",
    "id": "4_G5wmrMHnYE"
   },
   "source": [
    "4. Elimina las filas que tengan valores a 0: df.dropna(...) [Documentación](https://pandas.pydata.org/pandas-docs/stable/reference/api/pandas.DataFrame.dropna.html)\n",
    "\n",
    "---"
   ]
  },
  {
   "cell_type": "code",
   "execution_count": 9,
   "metadata": {
    "colab": {},
    "colab_type": "code",
    "id": "Yq-fw6ZfWTtH"
   },
   "outputs": [],
   "source": [
    "# Sólo con una línea de código\n",
    "df = df.dropna()"
   ]
  },
  {
   "cell_type": "code",
   "execution_count": 10,
   "metadata": {},
   "outputs": [
    {
     "data": {
      "text/plain": [
       "longitude             0\n",
       "latitude              0\n",
       "housing_median_age    0\n",
       "total_rooms           0\n",
       "total_bedrooms        0\n",
       "population            0\n",
       "households            0\n",
       "median_income         0\n",
       "median_house_value    0\n",
       "ocean_proximity       0\n",
       "dtype: int64"
      ]
     },
     "execution_count": 10,
     "metadata": {},
     "output_type": "execute_result"
    }
   ],
   "source": [
    "#test\n",
    "df.isnull().sum()"
   ]
  },
  {
   "cell_type": "markdown",
   "metadata": {
    "colab_type": "text",
    "id": "ubrT1Kc0b3eH"
   },
   "source": [
    "### Analizar relaciones de la información del dataset"
   ]
  },
  {
   "cell_type": "markdown",
   "metadata": {
    "colab_type": "text",
    "id": "s3e4MXHDcvhF"
   },
   "source": [
    "5. ¿Cual de estas variables está relacionada con la proxímidad del océano y cúal no? ¿Están relacionadas entre sí? **Explícalo a continuación**\n",
    "\n",
    "---"
   ]
  },
  {
   "cell_type": "markdown",
   "metadata": {
    "colab_type": "text",
    "id": "7u7rso4_hGpP"
   },
   "source": [
    "A mayor cercanía de la costa, mayor valor.\n",
    "\n",
    "\n"
   ]
  },
  {
   "cell_type": "markdown",
   "metadata": {
    "colab_type": "text",
    "id": "chgdJhO0hh0o"
   },
   "source": [
    "---"
   ]
  },
  {
   "cell_type": "markdown",
   "metadata": {
    "colab_type": "text",
    "id": "6onWAUyycrGG"
   },
   "source": [
    "Crear una matriz de correlación visual. [Pista](https://datascienceplus.com/visualize-correlation-matrices-in-python/)"
   ]
  },
  {
   "cell_type": "markdown",
   "metadata": {
    "colab_type": "text",
    "id": "2CuoeTlgclvF"
   },
   "source": [
    "6. Crea una matriz de correlación visual usando .corr()\n",
    "\n",
    "\n",
    "---"
   ]
  },
  {
   "cell_type": "code",
   "execution_count": 11,
   "metadata": {
    "colab": {
     "base_uri": "https://localhost:8080/",
     "height": 229
    },
    "colab_type": "code",
    "id": "6nM77XsEWZmH",
    "outputId": "58bf977b-00b5-4a77-c498-620bce04db69"
   },
   "outputs": [
    {
     "data": {
      "image/png": "[encoded data removed]",
      "text/plain": [
       "<Figure size 720x576 with 2 Axes>"
      ]
     },
     "metadata": {},
     "output_type": "display_data"
    }
   ],
   "source": [
    "# Dos líneas de código\n",
    "corr_matrix = df.corr()\n",
    "\n",
    "# Create a heatmap to visualize the correlation matrix\n",
    "plt.figure(figsize=(10, 8))  # Set the figure size (optional)\n",
    "sns.heatmap(corr_matrix, annot=True, cmap='coolwarm', square=True)\n",
    "plt.title('Correlation Plot')  # Add a title to the heatmap\n",
    "plt.show()"
   ]
  },
  {
   "cell_type": "markdown",
   "metadata": {
    "colab_type": "text",
    "id": "w8j-64Y2QxrH"
   },
   "source": [
    "! Fíjate en todas posibles feature de la tabla de arriba que indican \"**valores  totales**\". (Pista: algunas de ellas no llevan el prefijo *total_* )\n",
    "\n",
    "Estas features de totales nos indican los valores en una zona concreta de un grupo de viviendas. Para mejorar la predicción de nuestro modelo, nos conviene obtener los valores individuales por vivienda.\n",
    "\n",
    "Los datasets no suelen ser perfectos, hay datos incompletos e incorrectos que reducen la eficiencia del modelo. Por ello necesitamos limpiarlo. [Pista](https://new.paradigmadigital.com/wp-content/uploads/2019/02/Pandas_cheatsheet.pdf)"
   ]
  },
  {
   "cell_type": "markdown",
   "metadata": {
    "colab_type": "text",
    "id": "2GnJ_B3WS4p-"
   },
   "source": [
    "7. ¿Qué features están agrupadas por totales? ¿Con qué feature se agrupan y tienen más relación? (Pista: hay tres)\n",
    "\n",
    "---"
   ]
  },
  {
   "cell_type": "code",
   "execution_count": 12,
   "metadata": {
    "colab": {},
    "colab_type": "code",
    "id": "0DHqkBwPXjud"
   },
   "outputs": [
    {
     "data": {
      "text/html": [
       "<div>\n",
       "<style scoped>\n",
       "    .dataframe tbody tr th:only-of-type {\n",
       "        vertical-align: middle;\n",
       "    }\n",
       "\n",
       "    .dataframe tbody tr th {\n",
       "        vertical-align: top;\n",
       "    }\n",
       "\n",
       "    .dataframe thead th {\n",
       "        text-align: right;\n",
       "    }\n",
       "</style>\n",
       "<table border=\"1\" class=\"dataframe\">\n",
       "  <thead>\n",
       "    <tr style=\"text-align: right;\">\n",
       "      <th></th>\n",
       "      <th>total_bedrooms</th>\n",
       "      <th>total_rooms</th>\n",
       "      <th>population</th>\n",
       "      <th>households</th>\n",
       "    </tr>\n",
       "  </thead>\n",
       "  <tbody>\n",
       "    <tr>\n",
       "      <th>longitude</th>\n",
       "      <td>0.069608</td>\n",
       "      <td>0.045480</td>\n",
       "      <td>0.100270</td>\n",
       "      <td>0.056513</td>\n",
       "    </tr>\n",
       "    <tr>\n",
       "      <th>latitude</th>\n",
       "      <td>-0.066983</td>\n",
       "      <td>-0.036667</td>\n",
       "      <td>-0.108997</td>\n",
       "      <td>-0.071774</td>\n",
       "    </tr>\n",
       "    <tr>\n",
       "      <th>housing_median_age</th>\n",
       "      <td>-0.320451</td>\n",
       "      <td>-0.360628</td>\n",
       "      <td>-0.295787</td>\n",
       "      <td>-0.302768</td>\n",
       "    </tr>\n",
       "    <tr>\n",
       "      <th>total_rooms</th>\n",
       "      <td>0.930380</td>\n",
       "      <td>1.000000</td>\n",
       "      <td>0.857281</td>\n",
       "      <td>0.918992</td>\n",
       "    </tr>\n",
       "    <tr>\n",
       "      <th>total_bedrooms</th>\n",
       "      <td>1.000000</td>\n",
       "      <td>0.930380</td>\n",
       "      <td>0.877747</td>\n",
       "      <td>0.979728</td>\n",
       "    </tr>\n",
       "    <tr>\n",
       "      <th>population</th>\n",
       "      <td>0.877747</td>\n",
       "      <td>0.857281</td>\n",
       "      <td>1.000000</td>\n",
       "      <td>0.907186</td>\n",
       "    </tr>\n",
       "    <tr>\n",
       "      <th>households</th>\n",
       "      <td>0.979728</td>\n",
       "      <td>0.918992</td>\n",
       "      <td>0.907186</td>\n",
       "      <td>1.000000</td>\n",
       "    </tr>\n",
       "    <tr>\n",
       "      <th>median_income</th>\n",
       "      <td>-0.007723</td>\n",
       "      <td>0.197882</td>\n",
       "      <td>0.005087</td>\n",
       "      <td>0.013434</td>\n",
       "    </tr>\n",
       "    <tr>\n",
       "      <th>median_house_value</th>\n",
       "      <td>0.049686</td>\n",
       "      <td>0.133294</td>\n",
       "      <td>-0.025300</td>\n",
       "      <td>0.064894</td>\n",
       "    </tr>\n",
       "  </tbody>\n",
       "</table>\n",
       "</div>"
      ],
      "text/plain": [
       "                    total_bedrooms  total_rooms  population  households\n",
       "longitude                 0.069608     0.045480    0.100270    0.056513\n",
       "latitude                 -0.066983    -0.036667   -0.108997   -0.071774\n",
       "housing_median_age       -0.320451    -0.360628   -0.295787   -0.302768\n",
       "total_rooms               0.930380     1.000000    0.857281    0.918992\n",
       "total_bedrooms            1.000000     0.930380    0.877747    0.979728\n",
       "population                0.877747     0.857281    1.000000    0.907186\n",
       "households                0.979728     0.918992    0.907186    1.000000\n",
       "median_income            -0.007723     0.197882    0.005087    0.013434\n",
       "median_house_value        0.049686     0.133294   -0.025300    0.064894"
      ]
     },
     "execution_count": 12,
     "metadata": {},
     "output_type": "execute_result"
    }
   ],
   "source": [
    "corr_matrix[['total_bedrooms', 'total_rooms', 'population', 'households']]"
   ]
  },
  {
   "cell_type": "markdown",
   "metadata": {
    "colab_type": "text",
    "id": "GS-W5PIId4jX"
   },
   "source": [
    "8. De las feature agrupadas por totales, obtén las feature invididuales dividiéndolas por las que las agrupa, y añádelas al dataframe\n",
    "---"
   ]
  },
  {
   "cell_type": "code",
   "execution_count": 13,
   "metadata": {
    "colab": {},
    "colab_type": "code",
    "id": "ALL9uxc_YIbF"
   },
   "outputs": [],
   "source": [
    "# Tres líneas de código\n",
    "df['bedrooms'] = df['total_bedrooms']/df['households']\n",
    "df['rooms'] = df['total_rooms']/df['households']\n",
    "df['population'] = df['population']/df['households']"
   ]
  },
  {
   "cell_type": "markdown",
   "metadata": {
    "colab_type": "text",
    "id": "MxP6J_UaeZ31"
   },
   "source": [
    "9. Elimina del dataset las feature de totales agrupadas\n",
    "---"
   ]
  },
  {
   "cell_type": "code",
   "execution_count": 14,
   "metadata": {
    "colab": {},
    "colab_type": "code",
    "id": "2CD73liWeYxO"
   },
   "outputs": [],
   "source": [
    "# Sólo con una línea de código\n",
    "df.drop(['total_bedrooms', 'total_rooms'], axis=1, inplace=True)"
   ]
  },
  {
   "cell_type": "markdown",
   "metadata": {
    "colab_type": "text",
    "id": "tTcm5qfQiIz1"
   },
   "source": [
    "10. Crea de nuevo una matriz de correlación visual usando .corr() para ver las nuevas feature añadidas y su correlación\n",
    "\n",
    "\n",
    "---"
   ]
  },
  {
   "cell_type": "code",
   "execution_count": 16,
   "metadata": {
    "colab": {
     "base_uri": "https://localhost:8080/",
     "height": 208
    },
    "colab_type": "code",
    "id": "kUQc3-UIYbe_",
    "outputId": "d5c25e27-8a6e-4456-df1b-25f2240ee782"
   },
   "outputs": [
    {
     "data": {
      "image/png": "[encoded data removed]",
      "text/plain": [
       "<Figure size 720x576 with 2 Axes>"
      ]
     },
     "metadata": {},
     "output_type": "display_data"
    }
   ],
   "source": [
    "# Dos líneas de código\n",
    "corr_matrix = df.corr()\n",
    "\n",
    "# Create a heatmap to visualize the correlation matrix\n",
    "plt.figure(figsize=(10, 8))  # Set the figure size (optional)\n",
    "sns.heatmap(corr_matrix, annot=True, cmap='coolwarm', square=True)\n",
    "plt.title('Correlation Plot')  # Add a title to the heatmap\n",
    "plt.show()"
   ]
  },
  {
   "cell_type": "markdown",
   "metadata": {
    "colab_type": "text",
    "id": "sLUGV34FiX3l"
   },
   "source": [
    "! Fíjate como ahora al haber procesado y quitado las feature de totales, hemos eliminado algunas correlaciones y la matriz nos muestra correlaciones más coherentes que nos ayudarán a mejorar la predicción de nuestro modelo.\n",
    "\n"
   ]
  },
  {
   "cell_type": "markdown",
   "metadata": {
    "colab_type": "text",
    "id": "t1Qe2wrBzZI2"
   },
   "source": [
    "13. Obtén los valores únicos de la feature de la que queremos obtener la predicción (ocean_proximity)\n",
    "\n",
    "\n",
    "---"
   ]
  },
  {
   "cell_type": "code",
   "execution_count": 17,
   "metadata": {
    "colab": {
     "base_uri": "https://localhost:8080/",
     "height": 51
    },
    "colab_type": "code",
    "id": "v1AvID2eyfmY",
    "outputId": "53a3e4d2-a222-4965-db51-f63f9ba2ae64"
   },
   "outputs": [
    {
     "data": {
      "text/plain": [
       "array(['NEAR BAY', '<1H OCEAN', 'INLAND', 'NEAR OCEAN', 'ISLAND'],\n",
       "      dtype=object)"
      ]
     },
     "execution_count": 17,
     "metadata": {},
     "output_type": "execute_result"
    }
   ],
   "source": [
    "# Dos líneas de código\n",
    "df['ocean_proximity'].unique()"
   ]
  },
  {
   "cell_type": "markdown",
   "metadata": {
    "colab_type": "text",
    "id": "TCOAsvqSzpL4"
   },
   "source": [
    "*14*. Explica qué ves en los valores anteriores. \n",
    "\n",
    "\n",
    "---"
   ]
  },
  {
   "cell_type": "markdown",
   "metadata": {
    "colab_type": "text",
    "id": "awXQJZVj0AHd"
   },
   "source": [
    "*   Explica aquí qué ves en los valores anteriores que deba mejorarse\n",
    "    -Es necesario eliminar los caracteres especiales y sustituir espacios.\n",
    "\n"
   ]
  },
  {
   "cell_type": "markdown",
   "metadata": {
    "colab_type": "text",
    "id": "VLu-zYlLz-PV"
   },
   "source": [
    "---"
   ]
  },
  {
   "cell_type": "markdown",
   "metadata": {
    "colab_type": "text",
    "id": "0edpZ4qT0Jdd"
   },
   "source": [
    "15. Mejora el dataframe con el análisis anterior\n",
    "\n",
    "\n",
    "---"
   ]
  },
  {
   "cell_type": "code",
   "execution_count": 18,
   "metadata": {
    "colab": {},
    "colab_type": "code",
    "id": "OI5kVUcLzSBG"
   },
   "outputs": [],
   "source": [
    "# Sólo con una línea de código\n",
    "df['ocean_proximity'] = df['ocean_proximity'].str.replace(' ', '-', regex=False).str.replace('<', '', regex=False)"
   ]
  },
  {
   "cell_type": "markdown",
   "metadata": {
    "colab_type": "text",
    "id": "_MohTJvooR_e"
   },
   "source": [
    "### Normalizar las feature para nuestro modelo\n",
    "\n",
    "![texto alternativo](https://i.imgur.com/o7YvGRe.png)"
   ]
  },
  {
   "cell_type": "markdown",
   "metadata": {
    "colab_type": "text",
    "id": "N4AnSiMqmLpH"
   },
   "source": [
    "\n",
    "Ahora deberemos proceder a normalizar el resto de variables para que la escala de valores entre ellas sea similar y facilite el procesamiento a nuestro modelo y se logre mejorar la predicción (*Feature Scaling*).\n",
    "Este paso es fundamental antes de entrenar nuestro modelo.\n",
    "\n",
    "Puesto que la **función de activación** de nuestro modelo será '**softmax**', cuyos valores son de una escala entre -1 a 1, debemos normalizar las feature en este intervalo. [Pista](https://books.google.es/books?id=M5RRDwAAQBAJ&pg=PA137&lpg=PA137&dq=scaler.fit_transform+values.reshape&source=bl&ots=zzDuEQUdQR&sig=ACfU3U1NPGvTLq46zc-pJwcexE3wGKHQPw&hl=es&sa=X&ved=2ahUKEwi1qtPZ9MDnAhXdDWMBHc-MB0UQ6AEwDXoECAgQAQ#v=onepage&q=scaler.fit_transform%20values.reshape&f=false)"
   ]
  },
  {
   "cell_type": "markdown",
   "metadata": {
    "colab_type": "text",
    "id": "E8SVkwkKtSy_"
   },
   "source": [
    "16. Normaliza las feature a la escala de softmax y añádelas al dataframe.\n",
    "\n",
    "\n",
    "---"
   ]
  },
  {
   "cell_type": "code",
   "execution_count": 21,
   "metadata": {
    "colab": {},
    "colab_type": "code",
    "id": "jxWDrBS5YlHY"
   },
   "outputs": [
    {
     "data": {
      "text/plain": [
       "Index(['longitude', 'latitude', 'housing_median_age', 'population',\n",
       "       'households', 'median_income', 'median_house_value', 'bedrooms',\n",
       "       'rooms'],\n",
       "      dtype='object')"
      ]
     },
     "execution_count": 21,
     "metadata": {},
     "output_type": "execute_result"
    }
   ],
   "source": [
    "# Seis líneas de código (cómo mínimo)\n",
    "from sklearn.preprocessing import MinMaxScaler\n",
    "scaler = MinMaxScaler(feature_range=(-1, 1))\n",
    "columns = df.select_dtypes(include=['int64', 'float64']).columns\n",
    "df[columns] = scaler.fit_transform(df[columns])\n",
    "columns"
   ]
  },
  {
   "cell_type": "markdown",
   "metadata": {
    "colab_type": "text",
    "id": "L8uHwFQQxnMA"
   },
   "source": [
    "17. Utiliza la función .describe() para analizar la distribución de los datos\n",
    "\n",
    "\n",
    "---"
   ]
  },
  {
   "cell_type": "code",
   "execution_count": 22,
   "metadata": {
    "colab": {
     "base_uri": "https://localhost:8080/",
     "height": 0
    },
    "colab_type": "code",
    "id": "87Fa9SY-b0pc",
    "outputId": "4f898bff-28f5-4618-cc58-f485bfaa9051"
   },
   "outputs": [
    {
     "data": {
      "text/html": [
       "<div>\n",
       "<style scoped>\n",
       "    .dataframe tbody tr th:only-of-type {\n",
       "        vertical-align: middle;\n",
       "    }\n",
       "\n",
       "    .dataframe tbody tr th {\n",
       "        vertical-align: top;\n",
       "    }\n",
       "\n",
       "    .dataframe thead th {\n",
       "        text-align: right;\n",
       "    }\n",
       "</style>\n",
       "<table border=\"1\" class=\"dataframe\">\n",
       "  <thead>\n",
       "    <tr style=\"text-align: right;\">\n",
       "      <th></th>\n",
       "      <th>longitude</th>\n",
       "      <th>latitude</th>\n",
       "      <th>housing_median_age</th>\n",
       "      <th>population</th>\n",
       "      <th>households</th>\n",
       "      <th>median_income</th>\n",
       "      <th>median_house_value</th>\n",
       "      <th>bedrooms</th>\n",
       "      <th>rooms</th>\n",
       "    </tr>\n",
       "  </thead>\n",
       "  <tbody>\n",
       "    <tr>\n",
       "      <th>count</th>\n",
       "      <td>20433.000000</td>\n",
       "      <td>20433.000000</td>\n",
       "      <td>20433.000000</td>\n",
       "      <td>20433.000000</td>\n",
       "      <td>20433.000000</td>\n",
       "      <td>20433.000000</td>\n",
       "      <td>20433.000000</td>\n",
       "      <td>20433.000000</td>\n",
       "      <td>20433.000000</td>\n",
       "    </tr>\n",
       "    <tr>\n",
       "      <th>mean</th>\n",
       "      <td>-0.047946</td>\n",
       "      <td>-0.342567</td>\n",
       "      <td>0.083651</td>\n",
       "      <td>-0.996171</td>\n",
       "      <td>-0.836069</td>\n",
       "      <td>-0.535005</td>\n",
       "      <td>-0.208806</td>\n",
       "      <td>-0.954720</td>\n",
       "      <td>-0.934991</td>\n",
       "    </tr>\n",
       "    <tr>\n",
       "      <th>std</th>\n",
       "      <td>0.399119</td>\n",
       "      <td>0.454059</td>\n",
       "      <td>0.493796</td>\n",
       "      <td>0.016800</td>\n",
       "      <td>0.125736</td>\n",
       "      <td>0.261968</td>\n",
       "      <td>0.476021</td>\n",
       "      <td>0.028228</td>\n",
       "      <td>0.035203</td>\n",
       "    </tr>\n",
       "    <tr>\n",
       "      <th>min</th>\n",
       "      <td>-1.000000</td>\n",
       "      <td>-1.000000</td>\n",
       "      <td>-1.000000</td>\n",
       "      <td>-1.000000</td>\n",
       "      <td>-1.000000</td>\n",
       "      <td>-1.000000</td>\n",
       "      <td>-1.000000</td>\n",
       "      <td>-1.000000</td>\n",
       "      <td>-1.000000</td>\n",
       "    </tr>\n",
       "    <tr>\n",
       "      <th>25%</th>\n",
       "      <td>-0.492032</td>\n",
       "      <td>-0.704570</td>\n",
       "      <td>-0.333333</td>\n",
       "      <td>-0.997205</td>\n",
       "      <td>-0.908239</td>\n",
       "      <td>-0.715342</td>\n",
       "      <td>-0.569070</td>\n",
       "      <td>-0.960117</td>\n",
       "      <td>-0.949026</td>\n",
       "    </tr>\n",
       "    <tr>\n",
       "      <th>50%</th>\n",
       "      <td>0.167331</td>\n",
       "      <td>-0.634431</td>\n",
       "      <td>0.098039</td>\n",
       "      <td>-0.996579</td>\n",
       "      <td>-0.865812</td>\n",
       "      <td>-0.581164</td>\n",
       "      <td>-0.320823</td>\n",
       "      <td>-0.957576</td>\n",
       "      <td>-0.937835</td>\n",
       "    </tr>\n",
       "    <tr>\n",
       "      <th>75%</th>\n",
       "      <td>0.262948</td>\n",
       "      <td>0.100956</td>\n",
       "      <td>0.411765</td>\n",
       "      <td>-0.995833</td>\n",
       "      <td>-0.801677</td>\n",
       "      <td>-0.414615</td>\n",
       "      <td>0.029691</td>\n",
       "      <td>-0.954567</td>\n",
       "      <td>-0.926186</td>\n",
       "    </tr>\n",
       "    <tr>\n",
       "      <th>max</th>\n",
       "      <td>1.000000</td>\n",
       "      <td>1.000000</td>\n",
       "      <td>1.000000</td>\n",
       "      <td>1.000000</td>\n",
       "      <td>1.000000</td>\n",
       "      <td>1.000000</td>\n",
       "      <td>1.000000</td>\n",
       "      <td>1.000000</td>\n",
       "      <td>1.000000</td>\n",
       "    </tr>\n",
       "  </tbody>\n",
       "</table>\n",
       "</div>"
      ],
      "text/plain": [
       "          longitude      latitude  housing_median_age    population  \\\n",
       "count  20433.000000  20433.000000        20433.000000  20433.000000   \n",
       "mean      -0.047946     -0.342567            0.083651     -0.996171   \n",
       "std        0.399119      0.454059            0.493796      0.016800   \n",
       "min       -1.000000     -1.000000           -1.000000     -1.000000   \n",
       "25%       -0.492032     -0.704570           -0.333333     -0.997205   \n",
       "50%        0.167331     -0.634431            0.098039     -0.996579   \n",
       "75%        0.262948      0.100956            0.411765     -0.995833   \n",
       "max        1.000000      1.000000            1.000000      1.000000   \n",
       "\n",
       "         households  median_income  median_house_value      bedrooms  \\\n",
       "count  20433.000000   20433.000000        20433.000000  20433.000000   \n",
       "mean      -0.836069      -0.535005           -0.208806     -0.954720   \n",
       "std        0.125736       0.261968            0.476021      0.028228   \n",
       "min       -1.000000      -1.000000           -1.000000     -1.000000   \n",
       "25%       -0.908239      -0.715342           -0.569070     -0.960117   \n",
       "50%       -0.865812      -0.581164           -0.320823     -0.957576   \n",
       "75%       -0.801677      -0.414615            0.029691     -0.954567   \n",
       "max        1.000000       1.000000            1.000000      1.000000   \n",
       "\n",
       "              rooms  \n",
       "count  20433.000000  \n",
       "mean      -0.934991  \n",
       "std        0.035203  \n",
       "min       -1.000000  \n",
       "25%       -0.949026  \n",
       "50%       -0.937835  \n",
       "75%       -0.926186  \n",
       "max        1.000000  "
      ]
     },
     "execution_count": 22,
     "metadata": {},
     "output_type": "execute_result"
    }
   ],
   "source": [
    "# Sólo con una línea de código\n",
    "df.describe()"
   ]
  },
  {
   "cell_type": "markdown",
   "metadata": {
    "colab_type": "text",
    "id": "fr-VjmbA0jxY"
   },
   "source": [
    "# 3. Modelo redes neuronales\n",
    "\n",
    "El modelo de [redes neuronales](https://pathmind.com/wiki/neural-network) es una serie de algoritmos que logran reconocer patrones y correlaciones en un conjunto de datos a través de un proceso que simula el funcionamiento del cerebro con la finalidad de determinar predicciones que puedan interesarnos.\n",
    "\n",
    "En Deep Learning uno de los usos más frecuentes del modelo de redes neuronales es el caso de análisis de datos en [aprendizaje supervisado](https://es.wikipedia.org/wiki/Aprendizaje_supervisado).\n",
    "\n",
    "\n",
    "\n",
    "**Ejemplo genérico de Red Neuronal**\n",
    "\n",
    "![texto alternativo](https://pathmind.com/images/wiki/perceptron_node.png)\n",
    "\n",
    "**Ejemplo de Red Neuronal Clasificador con función de activación SoftMax**\n",
    "\n",
    "![Modelo](https://i.imgur.com/wcOwh5O.png)\n",
    "\n",
    "\n",
    "**Ejemplo**\n",
    "- Dado un conjunto de emails, determinar cuál es spam y cuál no.\n",
    "- Dado un conjunto de imágenes de animales, determinar cuáles son perros.\n",
    "- Detectar partes del cuerpo en imágenes o gestos.\n",
    "- Detectar voces, transcripciones, textos..\n",
    "\n",
    "**Objetivo**\n",
    "- En este reto, queremos lograr **clasificar** aquellas viviendas según a la cercanía que estén del océano. Es un ejercicio de **clasificación**.\n",
    "- A continuación puede visualizarse la diferencia entre \"clasificación\" y \"regresión\"\n",
    "![Clasificación vs regresión](https://res.cloudinary.com/practicaldev/image/fetch/s--c4Lfzdwy--/c_limit%2Cf_auto%2Cfl_progressive%2Cq_auto%2Cw_880/https://thepracticaldev.s3.amazonaws.com/i/mjshszqx4fj22hs12vfn.png)\n",
    "\n",
    "**Implementación**\n",
    "- Crear un conjunto de datos de entrenamiento y un conjunto de datos de test\n",
    "- Crear un modelo de red neuronal con Keras:\n",
    "  - Tipo de modelo: [tipo de algoritmo](https://www.javatpoint.com/classification-algorithm-in-machine-learning): *Sequential*\n",
    "  - Añadir 7 capas Dense.\n",
    "  - La primera capa densa llevará seteada el número de features con las que se entrena el modelo, sin contar con la que queremos averiguar.\n",
    "  - Las seis primeras capas llevarán la función de activación 'relu'.\n",
    "  - La última capa llevará la función de activación 'softmax'.\n",
    "- Compilar el modelo con:\n",
    "  - Los \"datos de entrenamiento\" y de las \"features\" que queremos tener en cuenta para el entrenamiento.\n",
    "  - Función de activación: 'softmax'. [Pista](https://developers.google.com/machine-learning/crash-course/multi-class-neural-networks/softmax?hl=es-419)\n",
    "  - Función de pérdida: 'categorical_crossentropy'. [Pista](https://peltarion.com/knowledge-center/documentation/modeling-view/build-an-ai-model/loss-functions/categorical-crossentropy)\n",
    "  - Función de optimización: 'adam'. [Pista](https://machinelearningmastery.com/adam-optimization-algorithm-for-deep-learning/)\n",
    "- Entrenar el modelo con los \"datos de entrenamiento\" y de las \"features\" que queremos tener en cuenta para el entrenamiento y los datos de validación.\n",
    "- Determinar las conclusiones de los resultados obtenidos en el modelo."
   ]
  },
  {
   "cell_type": "markdown",
   "metadata": {
    "colab_type": "text",
    "id": "k-hl6T_NQM2f"
   },
   "source": [
    "Creación del modelo de redes neuronales"
   ]
  },
  {
   "cell_type": "markdown",
   "metadata": {
    "colab_type": "text",
    "id": "3X6FQOUGLxgQ"
   },
   "source": [
    "18. Crea el set de datos de entrenamiento y validación necesarios para nuestro modelo\n",
    "\n",
    "---"
   ]
  },
  {
   "cell_type": "code",
   "execution_count": 24,
   "metadata": {
    "colab": {},
    "colab_type": "code",
    "id": "wIRENct3cnwq"
   },
   "outputs": [],
   "source": [
    "from sklearn.preprocessing import LabelEncoder\n",
    "# Crea X , que sea igual al dataframe menos la feature que queremos averiguar.\n",
    "# Sólo una línea de código\n",
    "X = df.drop('ocean_proximity', axis=1)\n",
    "\n",
    "# Crea y , con un LabelEncoder para pasar a enteros los valores que tiene la feature que queremos averiguar\n",
    "# Dos lineas de código\n",
    "labelencoder = LabelEncoder()\n",
    "y = labelencoder.fit_transform(df['ocean_proximity'])\n",
    "\n",
    "# Crea el set de datos de entrenamiento y validación.\n",
    "# Sólo una línea de código\n",
    "X_train, X_test, y_train, y_test = train_test_split(X, y, test_size=0.2, random_state=42)\n",
    "# Convierte y_train y y_test al formato que se necesita par entrenar nuestro modelo con: np_utils.to_categorical\n",
    "y_train_categorical = to_categorical(y_train)\n",
    "y_test_categorical = to_categorical(y_test)"
   ]
  },
  {
   "cell_type": "markdown",
   "metadata": {
    "colab_type": "text",
    "id": "DFUhoLI4ObHO"
   },
   "source": [
    "19. Crea y compila el modelo como se indican en los pasos de implementación descritos anteriormente\n",
    "\n",
    "---"
   ]
  },
  {
   "cell_type": "code",
   "execution_count": 25,
   "metadata": {
    "colab": {
     "base_uri": "https://localhost:8080/",
     "height": 207
    },
    "colab_type": "code",
    "id": "NTaD3tiaeDfq",
    "outputId": "b06a3858-8a67-4a02-ea2a-9ab58fe9b7ff"
   },
   "outputs": [],
   "source": [
    "# Importar librerías keras\n",
    "import keras.metrics as metrics\n",
    "from keras.models import Sequential\n",
    "from keras.layers import Dense, Dropout\n",
    "from keras.layers import Activation\n",
    "from keras.callbacks import EarlyStopping\n",
    "\n",
    "# Crear el modelo secuencial\n",
    "# Sólo una línea de código\n",
    "model = Sequential()\n",
    "\n",
    "# Añadir 7 capas Dense con sus propiedades como se indica en la implementación\n",
    "# Siete líneas de código\n",
    "from tensorflow.keras.models import Sequential\n",
    "from tensorflow.keras.layers import Dense\n",
    "model = Sequential()\n",
    "model.add(Dense(units=64, activation='relu', input_shape=(X_train.shape[1],)))\n",
    "for _ in range(5):\n",
    "    model.add(Dense(units=64, activation='relu'))\n",
    "model.add(Dense(units=y_train_categorical.shape[1], activation='softmax'))\n",
    "# Compilar el modelo como se indica en la implementacióbn\n",
    "# Sólo una línea de código\n",
    "model.compile(optimizer='adam', loss='categorical_crossentropy', metrics=['accuracy'])\n",
    "\n",
    "\n"
   ]
  },
  {
   "cell_type": "markdown",
   "metadata": {
    "colab_type": "text",
    "id": "viby-FmRVLI4"
   },
   "source": [
    "20. Explica los siguientes conceptos\n",
    "---\n",
    "- ¿Por qué se ha utilizado el tipo de modelo 'Sequential'\n",
    "- ¿Qué valor debe tener input_dim y que feature no se debe contabilizar?\n",
    "- ¿Qué función de activación se ha seteado en la última capa?\n",
    "- ¿Por qué se ha elegido esa función de activación en la última capa?\n",
    "- ¿Por qué se ha elegido 'categorical_crossentropy' en la función de pérdida?\n",
    "- ¿Qué significa la terminología de función de optimización?\n"
   ]
  },
  {
   "cell_type": "markdown",
   "metadata": {
    "colab_type": "text",
    "id": "FATxekmfYMaI"
   },
   "source": [
    "*Escribe aquí las respuestas"
   ]
  },
  {
   "cell_type": "code",
   "execution_count": 26,
   "metadata": {
    "colab": {
     "base_uri": "https://localhost:8080/",
     "height": 425
    },
    "colab_type": "code",
    "id": "-vqblbMvVAu2",
    "outputId": "0dd333b3-653e-4c32-8394-0ccdb9e4f4b6"
   },
   "outputs": [
    {
     "name": "stdout",
     "output_type": "stream",
     "text": [
      "Model: \"sequential_1\"\n",
      "_________________________________________________________________\n",
      "Layer (type)                 Output Shape              Param #   \n",
      "=================================================================\n",
      "dense (Dense)                (None, 64)                640       \n",
      "_________________________________________________________________\n",
      "dense_1 (Dense)              (None, 64)                4160      \n",
      "_________________________________________________________________\n",
      "dense_2 (Dense)              (None, 64)                4160      \n",
      "_________________________________________________________________\n",
      "dense_3 (Dense)              (None, 64)                4160      \n",
      "_________________________________________________________________\n",
      "dense_4 (Dense)              (None, 64)                4160      \n",
      "_________________________________________________________________\n",
      "dense_5 (Dense)              (None, 64)                4160      \n",
      "_________________________________________________________________\n",
      "dense_6 (Dense)              (None, 5)                 325       \n",
      "=================================================================\n",
      "Total params: 21,765\n",
      "Trainable params: 21,765\n",
      "Non-trainable params: 0\n",
      "_________________________________________________________________\n"
     ]
    }
   ],
   "source": [
    "# Visualizar el resultado de la compilación del modelo\n",
    "# Sólo una línea de código\n",
    "model.summary()"
   ]
  },
  {
   "cell_type": "markdown",
   "metadata": {
    "colab_type": "text",
    "id": "t5l3451HQVRE"
   },
   "source": [
    "21. Entrena finalmente el modelo con los parámetros necesarios: X_train, Y_train, epochs=???, batch_size=???, validation_data=(X_test,Y_test)\n",
    "---\n",
    "- El set de entrenamiento Y_train debe esta previamente convertido al formato que necesita el modelo. No se debe usar directamente el obtenido de train_test_split(...)\n",
    "- Prueba con diferentes epochs (iteraciones): 10, 100, 500, 1000.\n",
    "- Prueba con diferentes batch_size: 10, 200, 1000, 100000.\n",
    "\n",
    "---"
   ]
  },
  {
   "cell_type": "code",
   "execution_count": 27,
   "metadata": {
    "colab": {
     "base_uri": "https://localhost:8080/",
     "height": 1000
    },
    "colab_type": "code",
    "id": "7r8GKmhce-9j",
    "outputId": "e9f46c8c-6f5d-49be-b0ec-67d5c174c382"
   },
   "outputs": [
    {
     "name": "stdout",
     "output_type": "stream",
     "text": [
      "Epoch 1/100\n",
      "511/511 - 3s - loss: 0.6418 - accuracy: 0.7498 - val_loss: 0.3200 - val_accuracy: 0.8671\n",
      "Epoch 2/100\n",
      "511/511 - 2s - loss: 0.3228 - accuracy: 0.8710 - val_loss: 0.2852 - val_accuracy: 0.8931\n",
      "Epoch 3/100\n",
      "511/511 - 2s - loss: 0.2788 - accuracy: 0.8855 - val_loss: 0.2242 - val_accuracy: 0.9034\n",
      "Epoch 4/100\n",
      "511/511 - 2s - loss: 0.2571 - accuracy: 0.8940 - val_loss: 0.2893 - val_accuracy: 0.8804\n",
      "Epoch 5/100\n",
      "511/511 - 2s - loss: 0.2280 - accuracy: 0.9033 - val_loss: 0.2676 - val_accuracy: 0.8862\n",
      "Epoch 6/100\n",
      "511/511 - 2s - loss: 0.2339 - accuracy: 0.9031 - val_loss: 0.2575 - val_accuracy: 0.8994\n",
      "Epoch 7/100\n",
      "511/511 - 2s - loss: 0.2250 - accuracy: 0.9037 - val_loss: 0.1916 - val_accuracy: 0.9183\n",
      "Epoch 8/100\n",
      "511/511 - 2s - loss: 0.2086 - accuracy: 0.9106 - val_loss: 0.2082 - val_accuracy: 0.9065\n",
      "Epoch 9/100\n",
      "511/511 - 2s - loss: 0.2049 - accuracy: 0.9132 - val_loss: 0.1764 - val_accuracy: 0.9210\n",
      "Epoch 10/100\n",
      "511/511 - 2s - loss: 0.2044 - accuracy: 0.9130 - val_loss: 0.1930 - val_accuracy: 0.9212\n",
      "Epoch 11/100\n",
      "511/511 - 2s - loss: 0.2082 - accuracy: 0.9112 - val_loss: 0.1936 - val_accuracy: 0.9114\n",
      "Epoch 12/100\n",
      "511/511 - 2s - loss: 0.2027 - accuracy: 0.9136 - val_loss: 0.1737 - val_accuracy: 0.9222\n",
      "Epoch 13/100\n",
      "511/511 - 2s - loss: 0.2034 - accuracy: 0.9134 - val_loss: 0.2091 - val_accuracy: 0.9097\n",
      "Epoch 14/100\n",
      "511/511 - 1s - loss: 0.1947 - accuracy: 0.9158 - val_loss: 0.1723 - val_accuracy: 0.9219\n",
      "Epoch 15/100\n",
      "511/511 - 1s - loss: 0.1876 - accuracy: 0.9212 - val_loss: 0.3101 - val_accuracy: 0.8782\n",
      "Epoch 16/100\n",
      "511/511 - 1s - loss: 0.1934 - accuracy: 0.9194 - val_loss: 0.2388 - val_accuracy: 0.9129\n",
      "Epoch 17/100\n",
      "511/511 - 1s - loss: 0.1873 - accuracy: 0.9221 - val_loss: 0.2268 - val_accuracy: 0.8987\n",
      "Epoch 18/100\n",
      "511/511 - 1s - loss: 0.1830 - accuracy: 0.9235 - val_loss: 0.2619 - val_accuracy: 0.8926\n",
      "Epoch 19/100\n",
      "511/511 - 2s - loss: 0.1837 - accuracy: 0.9233 - val_loss: 0.2375 - val_accuracy: 0.9002\n",
      "Epoch 20/100\n",
      "511/511 - 2s - loss: 0.1825 - accuracy: 0.9248 - val_loss: 0.1588 - val_accuracy: 0.9393\n",
      "Epoch 21/100\n",
      "511/511 - 2s - loss: 0.1709 - accuracy: 0.9281 - val_loss: 0.1600 - val_accuracy: 0.9290\n",
      "Epoch 22/100\n",
      "511/511 - 2s - loss: 0.1705 - accuracy: 0.9285 - val_loss: 0.1808 - val_accuracy: 0.9188\n",
      "Epoch 23/100\n",
      "511/511 - 2s - loss: 0.1619 - accuracy: 0.9308 - val_loss: 0.1881 - val_accuracy: 0.9180\n",
      "Epoch 24/100\n",
      "511/511 - 2s - loss: 0.1679 - accuracy: 0.9287 - val_loss: 0.1638 - val_accuracy: 0.9334\n",
      "Epoch 25/100\n",
      "511/511 - 2s - loss: 0.1678 - accuracy: 0.9311 - val_loss: 0.1409 - val_accuracy: 0.9420\n",
      "Epoch 26/100\n",
      "511/511 - 2s - loss: 0.1591 - accuracy: 0.9313 - val_loss: 0.1488 - val_accuracy: 0.9337\n",
      "Epoch 27/100\n",
      "511/511 - 2s - loss: 0.1552 - accuracy: 0.9328 - val_loss: 0.1292 - val_accuracy: 0.9481\n",
      "Epoch 28/100\n",
      "511/511 - 2s - loss: 0.1635 - accuracy: 0.9315 - val_loss: 0.1619 - val_accuracy: 0.9374\n",
      "Epoch 29/100\n",
      "511/511 - 2s - loss: 0.1558 - accuracy: 0.9359 - val_loss: 0.1465 - val_accuracy: 0.9405\n",
      "Epoch 30/100\n",
      "511/511 - 2s - loss: 0.1582 - accuracy: 0.9371 - val_loss: 0.1428 - val_accuracy: 0.9381\n",
      "Epoch 31/100\n",
      "511/511 - 2s - loss: 0.1586 - accuracy: 0.9331 - val_loss: 0.1419 - val_accuracy: 0.9437\n",
      "Epoch 32/100\n",
      "511/511 - 2s - loss: 0.1520 - accuracy: 0.9364 - val_loss: 0.1486 - val_accuracy: 0.9342\n",
      "Epoch 33/100\n",
      "511/511 - 2s - loss: 0.1598 - accuracy: 0.9325 - val_loss: 0.1358 - val_accuracy: 0.9440\n",
      "Epoch 34/100\n",
      "511/511 - 2s - loss: 0.1531 - accuracy: 0.9375 - val_loss: 0.1559 - val_accuracy: 0.9349\n",
      "Epoch 35/100\n",
      "511/511 - 2s - loss: 0.1468 - accuracy: 0.9370 - val_loss: 0.1531 - val_accuracy: 0.9354\n",
      "Epoch 36/100\n",
      "511/511 - 2s - loss: 0.1520 - accuracy: 0.9356 - val_loss: 0.1379 - val_accuracy: 0.9418\n",
      "Epoch 37/100\n",
      "511/511 - 2s - loss: 0.1432 - accuracy: 0.9407 - val_loss: 0.2210 - val_accuracy: 0.9085\n",
      "Restoring model weights from the end of the best epoch.\n",
      "Epoch 00037: early stopping\n"
     ]
    }
   ],
   "source": [
    "#Usa este EarlyStopping para conseguir un mejor modelo\n",
    "es = EarlyStopping(monitor='val_loss', mode='min', verbose=2, restore_best_weights=True,patience=10)\n",
    "# Sólo con una línea de código. Recuerda guardar el historial de entrenamiento para los siguientes pasos.\n",
    "history = model.fit(X_train, y_train_categorical, validation_data=(X_test, y_test_categorical), epochs=100, callbacks=[es], verbose=2)\n",
    "\n"
   ]
  },
  {
   "cell_type": "code",
   "execution_count": 28,
   "metadata": {
    "colab": {
     "base_uri": "https://localhost:8080/",
     "height": 51
    },
    "colab_type": "code",
    "id": "rMbmOO10czow",
    "outputId": "7b4af9f7-85da-4929-e27c-1b24036dfe54"
   },
   "outputs": [
    {
     "name": "stdout",
     "output_type": "stream",
     "text": [
      "Check de datos perdidos: 0.1292220652103424\n",
      "Precisión de validación conjunto: 0.9481282234191895\n"
     ]
    }
   ],
   "source": [
    "# Evalua el modelo con los datos de X_test y Y_test\n",
    "loss, accuracy = model.evaluate(X_test, y_test_categorical, verbose=0)\n",
    "\n",
    "print(f\"Check de datos perdidos: {loss}\")\n",
    "print(f\"Precisión de validación conjunto: {accuracy}\")"
   ]
  },
  {
   "cell_type": "markdown",
   "metadata": {
    "colab_type": "text",
    "id": "eq3QEfAVSUMG"
   },
   "source": [
    "22. Explica qué ocurre con diferentes epochs y batch_size\n",
    "---\n",
    "- ¿Qué ocurre con demasiados epochs? [Pista](#https://stats.stackexchange.com/questions/384593/why-too-many-epochs-will-cause-overfitting)\n",
    "- ¿Qué ocurre con un valor demasiado grande de batch_size?\n",
    "\n",
    "\n",
    "---"
   ]
  },
  {
   "cell_type": "markdown",
   "metadata": {
    "colab_type": "text",
    "id": "Wg5bi3ICYT09"
   },
   "source": [
    "*Escribe aquí las respuestas:\n",
    "\n",
    "Demasiadas epochs generan overfitting.\n",
    "Batch sizes demasiado grandes son muy rápidas per epoch pero también generan overfiting.\n",
    "Batch sizes demasiado pequeñas tardan demasiado."
   ]
  },
  {
   "cell_type": "markdown",
   "metadata": {
    "colab_type": "text",
    "id": "dQAW0stCSr1A"
   },
   "source": [
    "Función auxiliar para ver la gráfica de la ejecución del modelo"
   ]
  },
  {
   "cell_type": "code",
   "execution_count": 29,
   "metadata": {
    "colab": {},
    "colab_type": "code",
    "id": "zwjUClC35B8f"
   },
   "outputs": [],
   "source": [
    "# FUNCIÓN AUXILIAR, EJECUTAR, NO MODIFICAR.\n",
    "def plot_model_history(model_history):\n",
    "    fig, axs = plt.subplots(1,2,figsize=(15,5))\n",
    "    # Summarize history for accuracy\n",
    "    axs[0].plot(range(1,len(model_history.history['accuracy'])+1),model_history.history['accuracy'])\n",
    "    axs[0].plot(range(1,len(model_history.history['val_accuracy'])+1),model_history.history['val_accuracy'])\n",
    "    axs[0].set_title('Model Accuracy')\n",
    "    axs[0].set_ylabel('Accuracy')\n",
    "    axs[0].set_xlabel('Epoch')\n",
    "    axs[0].set_xticks(np.arange(1,len(model_history.history['accuracy'])+1),len(model_history.history['accuracy'])/10)\n",
    "    axs[0].legend(['train', 'val'], loc='best')\n",
    "    # summarize history for loss\n",
    "    axs[1].plot(range(1,len(model_history.history['loss'])+1),model_history.history['loss'])\n",
    "    axs[1].plot(range(1,len(model_history.history['val_loss'])+1),model_history.history['val_loss'])\n",
    "    axs[1].set_title('Model Loss')\n",
    "    axs[1].set_ylabel('Loss')\n",
    "    axs[1].set_xlabel('Epoch')\n",
    "    axs[1].set_xticks(np.arange(1,len(model_history.history['loss'])+1),len(model_history.history['loss'])/10)\n",
    "    axs[1].legend(['train', 'val'], loc='best')\n",
    "    plt.show()"
   ]
  },
  {
   "cell_type": "markdown",
   "metadata": {
    "colab_type": "text",
    "id": "Xc7Gf8yfSzFN"
   },
   "source": [
    "23. Imprime las gráficas de entrenamiento del modelo\n",
    "---\n"
   ]
  },
  {
   "cell_type": "code",
   "execution_count": 32,
   "metadata": {
    "colab": {
     "base_uri": "https://localhost:8080/",
     "height": 350
    },
    "colab_type": "code",
    "id": "bwOd1JEUYidc",
    "outputId": "052f90b3-78fd-435c-8108-2568f1bc7b63"
   },
   "outputs": [
    {
     "data": {
      "image/png": "[encoded data removed]",
      "text/plain": [
       "<Figure size 1008x360 with 2 Axes>"
      ]
     },
     "metadata": {},
     "output_type": "display_data"
    }
   ],
   "source": [
    "# Sólo con una línea de código\n",
    "plt.figure(figsize=(14, 5)); plt.subplot(1, 2, 1); plt.plot(history.history['accuracy'], label='Train Accuracy'); plt.plot(history.history['val_accuracy'], label='Validation Accuracy'); plt.title('Model Accuracy'); plt.ylabel('Accuracy'); plt.xlabel('Epoch'); plt.legend(loc='upper left'); plt.subplot(1, 2, 2); plt.plot(history.history['loss'], label='Train Loss'); plt.plot(history.history['val_loss'], label='Validation Loss'); plt.title('Model Loss'); plt.ylabel('Loss'); plt.xlabel('Epoch'); plt.legend(loc='upper left'); plt.show()"
   ]
  },
  {
   "cell_type": "markdown",
   "metadata": {
    "colab_type": "text",
    "id": "dUv2TozzS6u-"
   },
   "source": [
    "24. Analiza y explica qué indica la gráfica del modelo\n",
    "---\n",
    "- Explica la gráfica de Accuracy\n",
    "    \n",
    "    La gráfica de precisión muestra dos curvas: la precisión durante el entrenamiento y la precisión durante la validación. La precisión de entrenamiento es    estable a lo largo de las iteraciones, lo que indica un buen rendimiento del modelo con los datos de entrenamiento. La precisión de validación, aunque     empieza más baja, aumenta rápidamente y casi se alinea con la de entrenamiento, lo que sugiere que el modelo generaliza bien y no hay un sobreajuste    significativo.\n",
    "- Explica la gráfica de Loss\n",
    "\n",
    "    La gráfica de pérdida muestra la pérdida durante el entrenamiento y la validación. La pérdida de entrenamiento desciende rápidamente y se estabiliza, lo que es indicativo de que el modelo aprende de manera efectiva. La pérdida de validación, aunque muestra más variabilidad y algunos picos, tiende a disminuir, lo cual es positivo y señala que el modelo está aprendiendo correctamente."
   ]
  },
  {
   "cell_type": "markdown",
   "metadata": {
    "colab_type": "text",
    "id": "U75YZYw-TgtO"
   },
   "source": [
    "# 4. Mejorar la predicción\n",
    "\n",
    "Mejorar la predicción y resultado de nuestro modelo es posible:\n",
    "\n",
    "*   Aumentar el dataset o mejorar la calidad de los datos existentes.\n",
    "*   **Optimizar hyperparámetros** de nuestro conjunto de datos y de nuestro modelo.\n",
    "\n",
    "A continuación se pretende mejorar la predicción mediante la \"*optimización de hyperparámetros*\"."
   ]
  },
  {
   "cell_type": "markdown",
   "metadata": {
    "colab_type": "text",
    "id": "XtnEv27XTzYv"
   },
   "source": [
    "25. Intenta mejorar la predicción del modelo anterior modificando los hyperparámetros de la creación del set de datos de entrenamiento y validación: random_state\n",
    "---"
   ]
  },
  {
   "cell_type": "code",
   "execution_count": 37,
   "metadata": {
    "colab": {},
    "colab_type": "code",
    "id": "oktpkQYUUAXs"
   },
   "outputs": [
    {
     "name": "stdout",
     "output_type": "stream",
     "text": [
      "Epoch 1/50\n",
      "164/164 [==============================] - 1s 5ms/step - loss: 0.0818 - accuracy: 0.9654 - val_loss: 0.1023 - val_accuracy: 0.9528\n",
      "Epoch 2/50\n",
      "164/164 [==============================] - 1s 5ms/step - loss: 0.0758 - accuracy: 0.9678 - val_loss: 0.0607 - val_accuracy: 0.9768\n",
      "Epoch 3/50\n",
      "164/164 [==============================] - 1s 5ms/step - loss: 0.0793 - accuracy: 0.9671 - val_loss: 0.0809 - val_accuracy: 0.9677\n",
      "Epoch 4/50\n",
      "164/164 [==============================] - 1s 6ms/step - loss: 0.0783 - accuracy: 0.9680 - val_loss: 0.0857 - val_accuracy: 0.9638\n",
      "Epoch 5/50\n",
      "164/164 [==============================] - 1s 5ms/step - loss: 0.0819 - accuracy: 0.9668 - val_loss: 0.1122 - val_accuracy: 0.9501\n",
      "Epoch 6/50\n",
      "164/164 [==============================] - 1s 5ms/step - loss: 0.0802 - accuracy: 0.9668 - val_loss: 0.0821 - val_accuracy: 0.9672\n",
      "Epoch 7/50\n",
      "164/164 [==============================] - 1s 5ms/step - loss: 0.0747 - accuracy: 0.9687 - val_loss: 0.0658 - val_accuracy: 0.9724\n",
      "Epoch 8/50\n",
      "164/164 [==============================] - 1s 5ms/step - loss: 0.0762 - accuracy: 0.9671 - val_loss: 0.0692 - val_accuracy: 0.9736\n",
      "Epoch 9/50\n",
      "164/164 [==============================] - 1s 5ms/step - loss: 0.0751 - accuracy: 0.9676 - val_loss: 0.0604 - val_accuracy: 0.9741\n",
      "Epoch 10/50\n",
      "164/164 [==============================] - 1s 6ms/step - loss: 0.0724 - accuracy: 0.9694 - val_loss: 0.0615 - val_accuracy: 0.9748\n",
      "Epoch 11/50\n",
      "164/164 [==============================] - 1s 5ms/step - loss: 0.0732 - accuracy: 0.9694 - val_loss: 0.0658 - val_accuracy: 0.9719\n",
      "Epoch 12/50\n",
      "164/164 [==============================] - 1s 5ms/step - loss: 0.0714 - accuracy: 0.9692 - val_loss: 0.0642 - val_accuracy: 0.9746\n",
      "Epoch 13/50\n",
      "164/164 [==============================] - 1s 5ms/step - loss: 0.0719 - accuracy: 0.9698 - val_loss: 0.0716 - val_accuracy: 0.9704\n",
      "Epoch 14/50\n",
      "164/164 [==============================] - 1s 5ms/step - loss: 0.0731 - accuracy: 0.9692 - val_loss: 0.1005 - val_accuracy: 0.9533\n",
      "Epoch 15/50\n",
      "164/164 [==============================] - 1s 5ms/step - loss: 0.0831 - accuracy: 0.9658 - val_loss: 0.0744 - val_accuracy: 0.9692\n",
      "Epoch 16/50\n",
      "164/164 [==============================] - 1s 5ms/step - loss: 0.0653 - accuracy: 0.9740 - val_loss: 0.0531 - val_accuracy: 0.9780\n",
      "Epoch 17/50\n",
      "164/164 [==============================] - 1s 5ms/step - loss: 0.0680 - accuracy: 0.9719 - val_loss: 0.0686 - val_accuracy: 0.9731\n",
      "Epoch 18/50\n",
      "164/164 [==============================] - 1s 5ms/step - loss: 0.0797 - accuracy: 0.9679 - val_loss: 0.0596 - val_accuracy: 0.9765\n",
      "Epoch 19/50\n",
      "164/164 [==============================] - 1s 5ms/step - loss: 0.0737 - accuracy: 0.9688 - val_loss: 0.0582 - val_accuracy: 0.9768\n",
      "Epoch 20/50\n",
      "164/164 [==============================] - 1s 6ms/step - loss: 0.0723 - accuracy: 0.9696 - val_loss: 0.0685 - val_accuracy: 0.9716\n",
      "Epoch 21/50\n",
      "164/164 [==============================] - 1s 5ms/step - loss: 0.0725 - accuracy: 0.9686 - val_loss: 0.0902 - val_accuracy: 0.9645\n",
      "Epoch 22/50\n",
      "164/164 [==============================] - 1s 5ms/step - loss: 0.0752 - accuracy: 0.9689 - val_loss: 0.0882 - val_accuracy: 0.9628\n",
      "Epoch 23/50\n",
      "164/164 [==============================] - 1s 5ms/step - loss: 0.0630 - accuracy: 0.9730 - val_loss: 0.0618 - val_accuracy: 0.9743\n",
      "Epoch 24/50\n",
      "164/164 [==============================] - 1s 6ms/step - loss: 0.0773 - accuracy: 0.9672 - val_loss: 0.0631 - val_accuracy: 0.9736\n",
      "Epoch 25/50\n",
      "164/164 [==============================] - 1s 6ms/step - loss: 0.0767 - accuracy: 0.9678 - val_loss: 0.0602 - val_accuracy: 0.9746\n",
      "Epoch 26/50\n",
      "164/164 [==============================] - 1s 6ms/step - loss: 0.0662 - accuracy: 0.9723 - val_loss: 0.0639 - val_accuracy: 0.9763\n",
      "Restoring model weights from the end of the best epoch.\n",
      "Epoch 00026: early stopping\n",
      "Epoch 1/50\n",
      "164/164 [==============================] - 1s 5ms/step - loss: 0.0734 - accuracy: 0.9695 - val_loss: 0.0985 - val_accuracy: 0.9579\n",
      "Epoch 2/50\n",
      "164/164 [==============================] - 1s 6ms/step - loss: 0.0929 - accuracy: 0.9616 - val_loss: 0.1004 - val_accuracy: 0.9540\n",
      "Epoch 3/50\n",
      "164/164 [==============================] - 1s 6ms/step - loss: 0.0714 - accuracy: 0.9694 - val_loss: 0.0777 - val_accuracy: 0.9711\n",
      "Epoch 4/50\n",
      "164/164 [==============================] - 1s 6ms/step - loss: 0.0658 - accuracy: 0.9732 - val_loss: 0.0842 - val_accuracy: 0.9662\n",
      "Epoch 5/50\n",
      "164/164 [==============================] - 1s 5ms/step - loss: 0.0654 - accuracy: 0.9726 - val_loss: 0.1156 - val_accuracy: 0.9577\n",
      "Epoch 6/50\n",
      "164/164 [==============================] - 1s 5ms/step - loss: 0.0698 - accuracy: 0.9695 - val_loss: 0.0933 - val_accuracy: 0.9609\n",
      "Epoch 7/50\n",
      "164/164 [==============================] - 1s 5ms/step - loss: 0.0868 - accuracy: 0.9654 - val_loss: 0.0853 - val_accuracy: 0.9640\n",
      "Epoch 8/50\n",
      "164/164 [==============================] - 1s 5ms/step - loss: 0.0726 - accuracy: 0.9694 - val_loss: 0.0828 - val_accuracy: 0.9682\n",
      "Epoch 9/50\n",
      "164/164 [==============================] - 1s 5ms/step - loss: 0.0713 - accuracy: 0.9693 - val_loss: 0.1606 - val_accuracy: 0.9398\n",
      "Epoch 10/50\n",
      "164/164 [==============================] - 1s 5ms/step - loss: 0.0751 - accuracy: 0.9679 - val_loss: 0.0915 - val_accuracy: 0.9662\n",
      "Epoch 11/50\n",
      "164/164 [==============================] - 1s 6ms/step - loss: 0.0708 - accuracy: 0.9708 - val_loss: 0.1868 - val_accuracy: 0.9396\n",
      "Epoch 12/50\n",
      "164/164 [==============================] - 1s 5ms/step - loss: 0.0704 - accuracy: 0.9701 - val_loss: 0.0972 - val_accuracy: 0.9631\n",
      "Epoch 13/50\n",
      "164/164 [==============================] - 1s 5ms/step - loss: 0.0625 - accuracy: 0.9732 - val_loss: 0.1048 - val_accuracy: 0.9555\n",
      "Restoring model weights from the end of the best epoch.\n",
      "Epoch 00013: early stopping\n",
      "Epoch 1/50\n",
      "164/164 [==============================] - 1s 5ms/step - loss: 0.0715 - accuracy: 0.9712 - val_loss: 0.0889 - val_accuracy: 0.9635\n",
      "Epoch 2/50\n",
      "164/164 [==============================] - 1s 5ms/step - loss: 0.0708 - accuracy: 0.9700 - val_loss: 0.1143 - val_accuracy: 0.9503\n",
      "Epoch 3/50\n",
      "164/164 [==============================] - 1s 5ms/step - loss: 0.0745 - accuracy: 0.9689 - val_loss: 0.0816 - val_accuracy: 0.9633\n",
      "Epoch 4/50\n",
      "164/164 [==============================] - 1s 5ms/step - loss: 0.0678 - accuracy: 0.9731 - val_loss: 0.0896 - val_accuracy: 0.9648\n",
      "Epoch 5/50\n",
      "164/164 [==============================] - 1s 5ms/step - loss: 0.0682 - accuracy: 0.9719 - val_loss: 0.0919 - val_accuracy: 0.9613\n",
      "Epoch 6/50\n",
      "164/164 [==============================] - 1s 5ms/step - loss: 0.0726 - accuracy: 0.9694 - val_loss: 0.0853 - val_accuracy: 0.9657\n",
      "Epoch 7/50\n",
      "164/164 [==============================] - 1s 5ms/step - loss: 0.0732 - accuracy: 0.9688 - val_loss: 0.0774 - val_accuracy: 0.9645\n",
      "Epoch 8/50\n",
      "164/164 [==============================] - 1s 6ms/step - loss: 0.0679 - accuracy: 0.9720 - val_loss: 0.1064 - val_accuracy: 0.9572\n",
      "Epoch 9/50\n",
      "164/164 [==============================] - 1s 5ms/step - loss: 0.0798 - accuracy: 0.9668 - val_loss: 0.0850 - val_accuracy: 0.9670\n",
      "Epoch 10/50\n",
      "164/164 [==============================] - 1s 5ms/step - loss: 0.0692 - accuracy: 0.9713 - val_loss: 0.0847 - val_accuracy: 0.9653\n",
      "Epoch 11/50\n",
      "164/164 [==============================] - 1s 5ms/step - loss: 0.0643 - accuracy: 0.9723 - val_loss: 0.0916 - val_accuracy: 0.9601\n",
      "Epoch 12/50\n",
      "164/164 [==============================] - 1s 5ms/step - loss: 0.0673 - accuracy: 0.9712 - val_loss: 0.1164 - val_accuracy: 0.9564\n",
      "Epoch 13/50\n",
      "164/164 [==============================] - 1s 5ms/step - loss: 0.0744 - accuracy: 0.9698 - val_loss: 0.1165 - val_accuracy: 0.9528\n",
      "Epoch 14/50\n",
      "164/164 [==============================] - 1s 5ms/step - loss: 0.0741 - accuracy: 0.9694 - val_loss: 0.0826 - val_accuracy: 0.9655\n",
      "Epoch 15/50\n",
      "164/164 [==============================] - 1s 5ms/step - loss: 0.0687 - accuracy: 0.9708 - val_loss: 0.0856 - val_accuracy: 0.9657\n",
      "Epoch 16/50\n",
      "164/164 [==============================] - 1s 6ms/step - loss: 0.0672 - accuracy: 0.9727 - val_loss: 0.1400 - val_accuracy: 0.9454\n",
      "Epoch 17/50\n",
      "164/164 [==============================] - 1s 5ms/step - loss: 0.0626 - accuracy: 0.9742 - val_loss: 0.0982 - val_accuracy: 0.9631\n",
      "Restoring model weights from the end of the best epoch.\n",
      "Epoch 00017: early stopping\n",
      "Epoch 1/50\n",
      "164/164 [==============================] - 1s 5ms/step - loss: 0.0818 - accuracy: 0.9660 - val_loss: 0.0940 - val_accuracy: 0.9609\n",
      "Epoch 2/50\n",
      "164/164 [==============================] - 1s 5ms/step - loss: 0.0772 - accuracy: 0.9690 - val_loss: 0.0791 - val_accuracy: 0.9665\n",
      "Epoch 3/50\n",
      "164/164 [==============================] - 1s 5ms/step - loss: 0.0755 - accuracy: 0.9700 - val_loss: 0.0762 - val_accuracy: 0.9699\n",
      "Epoch 4/50\n",
      "164/164 [==============================] - 1s 5ms/step - loss: 0.0774 - accuracy: 0.9695 - val_loss: 0.0763 - val_accuracy: 0.9672\n",
      "Epoch 5/50\n",
      "164/164 [==============================] - 1s 5ms/step - loss: 0.0775 - accuracy: 0.9668 - val_loss: 0.0693 - val_accuracy: 0.9714\n",
      "Epoch 6/50\n",
      "164/164 [==============================] - 1s 5ms/step - loss: 0.0705 - accuracy: 0.9708 - val_loss: 0.0771 - val_accuracy: 0.9692\n",
      "Epoch 7/50\n",
      "164/164 [==============================] - 1s 5ms/step - loss: 0.0768 - accuracy: 0.9681 - val_loss: 0.0945 - val_accuracy: 0.9631\n",
      "Epoch 8/50\n",
      "164/164 [==============================] - 1s 5ms/step - loss: 0.0726 - accuracy: 0.9703 - val_loss: 0.0916 - val_accuracy: 0.9660\n",
      "Epoch 9/50\n",
      "164/164 [==============================] - 1s 5ms/step - loss: 0.0643 - accuracy: 0.9741 - val_loss: 0.0741 - val_accuracy: 0.9665\n",
      "Epoch 10/50\n",
      "164/164 [==============================] - 1s 5ms/step - loss: 0.0623 - accuracy: 0.9738 - val_loss: 0.0743 - val_accuracy: 0.9714\n",
      "Epoch 11/50\n",
      "164/164 [==============================] - 1s 5ms/step - loss: 0.0745 - accuracy: 0.9689 - val_loss: 0.0752 - val_accuracy: 0.9706\n",
      "Epoch 12/50\n",
      "164/164 [==============================] - 1s 5ms/step - loss: 0.0642 - accuracy: 0.9745 - val_loss: 0.0834 - val_accuracy: 0.9635\n",
      "Epoch 13/50\n",
      "164/164 [==============================] - 1s 5ms/step - loss: 0.0730 - accuracy: 0.9719 - val_loss: 0.0737 - val_accuracy: 0.9679\n",
      "Epoch 14/50\n",
      "164/164 [==============================] - 1s 5ms/step - loss: 0.0617 - accuracy: 0.9729 - val_loss: 0.0740 - val_accuracy: 0.9706\n",
      "Epoch 15/50\n",
      "164/164 [==============================] - 1s 5ms/step - loss: 0.0608 - accuracy: 0.9771 - val_loss: 0.0855 - val_accuracy: 0.9633\n",
      "Restoring model weights from the end of the best epoch.\n",
      "Epoch 00015: early stopping\n",
      "Epoch 1/50\n",
      "164/164 [==============================] - 1s 6ms/step - loss: 0.0720 - accuracy: 0.9700 - val_loss: 0.0686 - val_accuracy: 0.9687\n",
      "Epoch 2/50\n",
      "164/164 [==============================] - 1s 5ms/step - loss: 0.0670 - accuracy: 0.9718 - val_loss: 0.0690 - val_accuracy: 0.9719\n",
      "Epoch 3/50\n",
      "164/164 [==============================] - 1s 5ms/step - loss: 0.0682 - accuracy: 0.9716 - val_loss: 0.1020 - val_accuracy: 0.9557\n",
      "Epoch 4/50\n",
      "164/164 [==============================] - 1s 5ms/step - loss: 0.0807 - accuracy: 0.9671 - val_loss: 0.0884 - val_accuracy: 0.9623\n",
      "Epoch 5/50\n",
      "164/164 [==============================] - 1s 5ms/step - loss: 0.0669 - accuracy: 0.9726 - val_loss: 0.0775 - val_accuracy: 0.9670\n",
      "Epoch 6/50\n",
      "164/164 [==============================] - 1s 5ms/step - loss: 0.0659 - accuracy: 0.9727 - val_loss: 0.1442 - val_accuracy: 0.9496\n",
      "Epoch 7/50\n",
      "164/164 [==============================] - 1s 5ms/step - loss: 0.0777 - accuracy: 0.9673 - val_loss: 0.0748 - val_accuracy: 0.9660\n",
      "Epoch 8/50\n",
      "164/164 [==============================] - 1s 5ms/step - loss: 0.0681 - accuracy: 0.9713 - val_loss: 0.0718 - val_accuracy: 0.9724\n",
      "Epoch 9/50\n",
      "164/164 [==============================] - 1s 5ms/step - loss: 0.0677 - accuracy: 0.9725 - val_loss: 0.0993 - val_accuracy: 0.9582\n",
      "Epoch 10/50\n",
      "164/164 [==============================] - 1s 5ms/step - loss: 0.0699 - accuracy: 0.9691 - val_loss: 0.1207 - val_accuracy: 0.9498\n",
      "Epoch 11/50\n",
      "164/164 [==============================] - 1s 5ms/step - loss: 0.0668 - accuracy: 0.9732 - val_loss: 0.0828 - val_accuracy: 0.9633\n",
      "Restoring model weights from the end of the best epoch.\n",
      "Epoch 00011: early stopping\n"
     ]
    }
   ],
   "source": [
    "# Escribe aquí el código\n",
    "import random\n",
    "\n",
    "num_iterations = 5\n",
    "results = []\n",
    "\n",
    "for _ in range(num_iterations):\n",
    "    random_state = random.randint(0, 10)\n",
    "    \n",
    "    X_train, X_test, y_train, y_test = train_test_split(X, y, test_size=0.2, random_state=random_state)\n",
    "    \n",
    "    y_train_categorical = to_categorical(y_train)\n",
    "    y_test_categorical = to_categorical(y_test)\n",
    "\n",
    "    model.fit(X_train, y_train_categorical, epochs=50, batch_size=100, validation_data=(X_test, y_test_categorical), callbacks=[es])\n",
    "\n",
    "    loss, accuracy = model.evaluate(X_test, y_test_categorical, verbose=0)\n",
    "    \n",
    "    results.append((random_state, loss, accuracy))"
   ]
  },
  {
   "cell_type": "markdown",
   "metadata": {
    "colab_type": "text",
    "id": "DOhRpAxIUFJG"
   },
   "source": [
    "*Explica aquí que resultados has obtenido con el intento de mejora de la predicción del modelo.\n",
    "\n",
    "Con el intento de mejorar la predicción del modelo utilizando diferentes valores de random_state en la creación del conjunto de datos de entrenamienty  validación, hemos obtenido una serie de resultados. Observamos que el modelo tiende a alcanzar una precisión (accuracy) bastante alta tanto en lodatos de    entrenamiento como en los de validación, con valores superiores al 95%. Sin embargo, la pérdida (loss) fluctúa más, aunque tiende a disminuia lo largo de  las épocas.\n"
   ]
  },
  {
   "cell_type": "markdown",
   "metadata": {
    "colab_type": "text",
    "id": "plv5FFxoUMq0"
   },
   "source": [
    "26. Intenta mejorar la predicción del modelo anterior modificando los hyperparámetros de la creación del modelo: Nº de parámetros de las capas Densas\n",
    "---"
   ]
  },
  {
   "cell_type": "code",
   "execution_count": 42,
   "metadata": {
    "colab": {},
    "colab_type": "code",
    "id": "JUERKXDLUzw3"
   },
   "outputs": [
    {
     "name": "stdout",
     "output_type": "stream",
     "text": [
      "Epoch 1/50\n",
      "164/164 - 2s - loss: 0.9438 - accuracy: 0.6492 - val_loss: 0.7432 - val_accuracy: 0.7250\n",
      "Epoch 2/50\n",
      "164/164 - 1s - loss: 0.6732 - accuracy: 0.7541 - val_loss: 0.6093 - val_accuracy: 0.7690\n",
      "Epoch 3/50\n",
      "164/164 - 0s - loss: 0.5490 - accuracy: 0.7865 - val_loss: 0.5127 - val_accuracy: 0.7879\n",
      "Epoch 4/50\n",
      "164/164 - 0s - loss: 0.4555 - accuracy: 0.8231 - val_loss: 0.4221 - val_accuracy: 0.8451\n",
      "Epoch 5/50\n",
      "164/164 - 0s - loss: 0.3890 - accuracy: 0.8504 - val_loss: 0.3706 - val_accuracy: 0.8564\n",
      "Epoch 6/50\n",
      "164/164 - 1s - loss: 0.3487 - accuracy: 0.8614 - val_loss: 0.3442 - val_accuracy: 0.8569\n",
      "Epoch 7/50\n",
      "164/164 - 1s - loss: 0.3222 - accuracy: 0.8705 - val_loss: 0.3221 - val_accuracy: 0.8620\n",
      "Epoch 8/50\n",
      "164/164 - 1s - loss: 0.3063 - accuracy: 0.8762 - val_loss: 0.3155 - val_accuracy: 0.8706\n",
      "Epoch 9/50\n",
      "164/164 - 1s - loss: 0.2913 - accuracy: 0.8816 - val_loss: 0.2982 - val_accuracy: 0.8708\n",
      "Epoch 10/50\n",
      "164/164 - 1s - loss: 0.2838 - accuracy: 0.8854 - val_loss: 0.3033 - val_accuracy: 0.8830\n",
      "Epoch 11/50\n",
      "164/164 - 0s - loss: 0.2721 - accuracy: 0.8898 - val_loss: 0.2828 - val_accuracy: 0.8818\n",
      "Epoch 12/50\n",
      "164/164 - 1s - loss: 0.2664 - accuracy: 0.8934 - val_loss: 0.2769 - val_accuracy: 0.8894\n",
      "Epoch 13/50\n",
      "164/164 - 0s - loss: 0.2581 - accuracy: 0.8981 - val_loss: 0.2803 - val_accuracy: 0.8806\n",
      "Epoch 14/50\n",
      "164/164 - 0s - loss: 0.2601 - accuracy: 0.8958 - val_loss: 0.2606 - val_accuracy: 0.8909\n",
      "Epoch 15/50\n",
      "164/164 - 1s - loss: 0.2457 - accuracy: 0.9006 - val_loss: 0.2577 - val_accuracy: 0.8975\n",
      "Epoch 16/50\n",
      "164/164 - 1s - loss: 0.2470 - accuracy: 0.9013 - val_loss: 0.2515 - val_accuracy: 0.8960\n",
      "Epoch 17/50\n",
      "164/164 - 1s - loss: 0.2381 - accuracy: 0.9032 - val_loss: 0.2669 - val_accuracy: 0.8884\n",
      "Epoch 18/50\n",
      "164/164 - 1s - loss: 0.2383 - accuracy: 0.9043 - val_loss: 0.2400 - val_accuracy: 0.8997\n",
      "Epoch 19/50\n",
      "164/164 - 1s - loss: 0.2305 - accuracy: 0.9071 - val_loss: 0.2439 - val_accuracy: 0.9026\n",
      "Epoch 20/50\n",
      "164/164 - 1s - loss: 0.2284 - accuracy: 0.9064 - val_loss: 0.2467 - val_accuracy: 0.9065\n",
      "Epoch 21/50\n",
      "164/164 - 0s - loss: 0.2239 - accuracy: 0.9089 - val_loss: 0.2385 - val_accuracy: 0.9048\n",
      "Epoch 22/50\n",
      "164/164 - 0s - loss: 0.2225 - accuracy: 0.9091 - val_loss: 0.2425 - val_accuracy: 0.8987\n",
      "Epoch 23/50\n",
      "164/164 - 1s - loss: 0.2168 - accuracy: 0.9128 - val_loss: 0.2247 - val_accuracy: 0.9112\n",
      "Epoch 24/50\n",
      "164/164 - 0s - loss: 0.2138 - accuracy: 0.9122 - val_loss: 0.2287 - val_accuracy: 0.9065\n",
      "Epoch 25/50\n",
      "164/164 - 0s - loss: 0.2127 - accuracy: 0.9134 - val_loss: 0.2240 - val_accuracy: 0.9004\n",
      "Epoch 26/50\n",
      "164/164 - 0s - loss: 0.2107 - accuracy: 0.9133 - val_loss: 0.2165 - val_accuracy: 0.9112\n",
      "Epoch 27/50\n",
      "164/164 - 0s - loss: 0.2080 - accuracy: 0.9138 - val_loss: 0.2191 - val_accuracy: 0.9136\n",
      "Epoch 28/50\n",
      "164/164 - 0s - loss: 0.2034 - accuracy: 0.9163 - val_loss: 0.2270 - val_accuracy: 0.8994\n",
      "Epoch 29/50\n",
      "164/164 - 0s - loss: 0.2027 - accuracy: 0.9155 - val_loss: 0.2133 - val_accuracy: 0.9131\n",
      "Epoch 30/50\n",
      "164/164 - 0s - loss: 0.2015 - accuracy: 0.9158 - val_loss: 0.2041 - val_accuracy: 0.9168\n",
      "Epoch 31/50\n",
      "164/164 - 1s - loss: 0.1973 - accuracy: 0.9208 - val_loss: 0.2267 - val_accuracy: 0.9092\n",
      "Epoch 32/50\n",
      "164/164 - 0s - loss: 0.1988 - accuracy: 0.9176 - val_loss: 0.2102 - val_accuracy: 0.9168\n",
      "Epoch 33/50\n",
      "164/164 - 1s - loss: 0.1935 - accuracy: 0.9196 - val_loss: 0.2091 - val_accuracy: 0.9095\n",
      "Epoch 34/50\n",
      "164/164 - 1s - loss: 0.1922 - accuracy: 0.9226 - val_loss: 0.2107 - val_accuracy: 0.9119\n",
      "Epoch 35/50\n",
      "164/164 - 1s - loss: 0.1896 - accuracy: 0.9219 - val_loss: 0.1993 - val_accuracy: 0.9163\n",
      "Epoch 36/50\n",
      "164/164 - 0s - loss: 0.1902 - accuracy: 0.9202 - val_loss: 0.2072 - val_accuracy: 0.9122\n",
      "Epoch 37/50\n",
      "164/164 - 0s - loss: 0.1867 - accuracy: 0.9230 - val_loss: 0.2918 - val_accuracy: 0.8882\n",
      "Epoch 38/50\n",
      "164/164 - 0s - loss: 0.1883 - accuracy: 0.9239 - val_loss: 0.2131 - val_accuracy: 0.9141\n",
      "Epoch 39/50\n",
      "164/164 - 0s - loss: 0.1829 - accuracy: 0.9258 - val_loss: 0.2040 - val_accuracy: 0.9178\n",
      "Epoch 40/50\n",
      "164/164 - 0s - loss: 0.1847 - accuracy: 0.9262 - val_loss: 0.1880 - val_accuracy: 0.9219\n",
      "Epoch 41/50\n",
      "164/164 - 0s - loss: 0.1796 - accuracy: 0.9257 - val_loss: 0.1814 - val_accuracy: 0.9256\n",
      "Epoch 42/50\n",
      "164/164 - 0s - loss: 0.1766 - accuracy: 0.9282 - val_loss: 0.1832 - val_accuracy: 0.9264\n",
      "Epoch 43/50\n",
      "164/164 - 0s - loss: 0.1783 - accuracy: 0.9268 - val_loss: 0.1943 - val_accuracy: 0.9197\n",
      "Epoch 44/50\n",
      "164/164 - 0s - loss: 0.1761 - accuracy: 0.9269 - val_loss: 0.1853 - val_accuracy: 0.9273\n",
      "Epoch 45/50\n",
      "164/164 - 0s - loss: 0.1782 - accuracy: 0.9292 - val_loss: 0.1866 - val_accuracy: 0.9271\n",
      "Epoch 46/50\n",
      "164/164 - 0s - loss: 0.1761 - accuracy: 0.9277 - val_loss: 0.2065 - val_accuracy: 0.9131\n",
      "Epoch 47/50\n",
      "164/164 - 0s - loss: 0.1793 - accuracy: 0.9265 - val_loss: 0.1810 - val_accuracy: 0.9234\n",
      "Epoch 48/50\n",
      "164/164 - 0s - loss: 0.1737 - accuracy: 0.9273 - val_loss: 0.1862 - val_accuracy: 0.9278\n",
      "Epoch 49/50\n",
      "164/164 - 0s - loss: 0.1706 - accuracy: 0.9309 - val_loss: 0.1843 - val_accuracy: 0.9266\n",
      "Epoch 50/50\n",
      "164/164 - 0s - loss: 0.1725 - accuracy: 0.9300 - val_loss: 0.1888 - val_accuracy: 0.9281\n",
      "Epoch 1/50\n",
      "164/164 - 1s - loss: 0.9608 - accuracy: 0.6489 - val_loss: 0.7299 - val_accuracy: 0.7414\n",
      "Epoch 2/50\n",
      "164/164 - 0s - loss: 0.6483 - accuracy: 0.7653 - val_loss: 0.5855 - val_accuracy: 0.7742\n",
      "Epoch 3/50\n",
      "164/164 - 0s - loss: 0.5334 - accuracy: 0.7920 - val_loss: 0.4902 - val_accuracy: 0.7952\n",
      "Epoch 4/50\n",
      "164/164 - 0s - loss: 0.4503 - accuracy: 0.8167 - val_loss: 0.4119 - val_accuracy: 0.8280\n",
      "Epoch 5/50\n",
      "164/164 - 0s - loss: 0.3940 - accuracy: 0.8469 - val_loss: 0.3768 - val_accuracy: 0.8559\n",
      "Epoch 6/50\n",
      "164/164 - 0s - loss: 0.3576 - accuracy: 0.8567 - val_loss: 0.3407 - val_accuracy: 0.8627\n",
      "Epoch 7/50\n",
      "164/164 - 0s - loss: 0.3286 - accuracy: 0.8676 - val_loss: 0.3111 - val_accuracy: 0.8742\n",
      "Epoch 8/50\n",
      "164/164 - 0s - loss: 0.3120 - accuracy: 0.8720 - val_loss: 0.2987 - val_accuracy: 0.8689\n",
      "Epoch 9/50\n",
      "164/164 - 0s - loss: 0.3028 - accuracy: 0.8738 - val_loss: 0.2980 - val_accuracy: 0.8750\n",
      "Epoch 10/50\n",
      "164/164 - 0s - loss: 0.2911 - accuracy: 0.8807 - val_loss: 0.2833 - val_accuracy: 0.8784\n",
      "Epoch 11/50\n",
      "164/164 - 0s - loss: 0.2831 - accuracy: 0.8835 - val_loss: 0.2795 - val_accuracy: 0.8909\n",
      "Epoch 12/50\n",
      "164/164 - 0s - loss: 0.2753 - accuracy: 0.8869 - val_loss: 0.2790 - val_accuracy: 0.8818\n",
      "Epoch 13/50\n",
      "164/164 - 0s - loss: 0.2703 - accuracy: 0.8896 - val_loss: 0.2739 - val_accuracy: 0.8953\n",
      "Epoch 14/50\n",
      "164/164 - 0s - loss: 0.2640 - accuracy: 0.8915 - val_loss: 0.2609 - val_accuracy: 0.8953\n",
      "Epoch 15/50\n",
      "164/164 - 0s - loss: 0.2616 - accuracy: 0.8920 - val_loss: 0.2557 - val_accuracy: 0.9002\n",
      "Epoch 16/50\n",
      "164/164 - 0s - loss: 0.2565 - accuracy: 0.8934 - val_loss: 0.2503 - val_accuracy: 0.9026\n",
      "Epoch 17/50\n",
      "164/164 - 0s - loss: 0.2536 - accuracy: 0.8944 - val_loss: 0.2509 - val_accuracy: 0.9046\n",
      "Epoch 18/50\n",
      "164/164 - 0s - loss: 0.2494 - accuracy: 0.8973 - val_loss: 0.2486 - val_accuracy: 0.8923\n",
      "Epoch 19/50\n",
      "164/164 - 0s - loss: 0.2451 - accuracy: 0.8977 - val_loss: 0.2420 - val_accuracy: 0.9024\n",
      "Epoch 20/50\n",
      "164/164 - 0s - loss: 0.2421 - accuracy: 0.9001 - val_loss: 0.2415 - val_accuracy: 0.9004\n",
      "Epoch 21/50\n",
      "164/164 - 0s - loss: 0.2388 - accuracy: 0.8999 - val_loss: 0.2499 - val_accuracy: 0.8963\n",
      "Epoch 22/50\n",
      "164/164 - 0s - loss: 0.2389 - accuracy: 0.9023 - val_loss: 0.2414 - val_accuracy: 0.9051\n",
      "Epoch 23/50\n",
      "164/164 - 0s - loss: 0.2327 - accuracy: 0.9031 - val_loss: 0.2315 - val_accuracy: 0.9070\n",
      "Epoch 24/50\n",
      "164/164 - 0s - loss: 0.2332 - accuracy: 0.9034 - val_loss: 0.2726 - val_accuracy: 0.8872\n",
      "Epoch 25/50\n",
      "164/164 - 0s - loss: 0.2322 - accuracy: 0.9026 - val_loss: 0.2413 - val_accuracy: 0.8975\n",
      "Epoch 26/50\n",
      "164/164 - 0s - loss: 0.2321 - accuracy: 0.9038 - val_loss: 0.2371 - val_accuracy: 0.9036\n",
      "Epoch 27/50\n",
      "164/164 - 0s - loss: 0.2213 - accuracy: 0.9094 - val_loss: 0.2285 - val_accuracy: 0.9070\n",
      "Epoch 28/50\n",
      "164/164 - 0s - loss: 0.2252 - accuracy: 0.9067 - val_loss: 0.2199 - val_accuracy: 0.9068\n",
      "Epoch 29/50\n",
      "164/164 - 0s - loss: 0.2184 - accuracy: 0.9086 - val_loss: 0.2218 - val_accuracy: 0.9041\n",
      "Epoch 30/50\n",
      "164/164 - 0s - loss: 0.2172 - accuracy: 0.9097 - val_loss: 0.2326 - val_accuracy: 0.9024\n",
      "Epoch 31/50\n",
      "164/164 - 0s - loss: 0.2149 - accuracy: 0.9103 - val_loss: 0.2137 - val_accuracy: 0.9151\n",
      "Epoch 32/50\n",
      "164/164 - 0s - loss: 0.2112 - accuracy: 0.9129 - val_loss: 0.2391 - val_accuracy: 0.8970\n",
      "Epoch 33/50\n",
      "164/164 - 0s - loss: 0.2110 - accuracy: 0.9118 - val_loss: 0.2187 - val_accuracy: 0.9141\n",
      "Epoch 34/50\n",
      "164/164 - 0s - loss: 0.2165 - accuracy: 0.9098 - val_loss: 0.2283 - val_accuracy: 0.9070\n",
      "Epoch 35/50\n",
      "164/164 - 0s - loss: 0.2058 - accuracy: 0.9148 - val_loss: 0.2060 - val_accuracy: 0.9168\n",
      "Epoch 36/50\n",
      "164/164 - 0s - loss: 0.2054 - accuracy: 0.9162 - val_loss: 0.2134 - val_accuracy: 0.9149\n",
      "Epoch 37/50\n",
      "164/164 - 0s - loss: 0.2027 - accuracy: 0.9153 - val_loss: 0.2078 - val_accuracy: 0.9151\n",
      "Epoch 38/50\n",
      "164/164 - 0s - loss: 0.2011 - accuracy: 0.9178 - val_loss: 0.2069 - val_accuracy: 0.9161\n",
      "Epoch 39/50\n",
      "164/164 - 0s - loss: 0.2022 - accuracy: 0.9158 - val_loss: 0.2066 - val_accuracy: 0.9124\n",
      "Epoch 40/50\n",
      "164/164 - 0s - loss: 0.1971 - accuracy: 0.9183 - val_loss: 0.1989 - val_accuracy: 0.9173\n",
      "Epoch 41/50\n",
      "164/164 - 0s - loss: 0.1976 - accuracy: 0.9191 - val_loss: 0.1963 - val_accuracy: 0.9173\n",
      "Epoch 42/50\n",
      "164/164 - 0s - loss: 0.1960 - accuracy: 0.9203 - val_loss: 0.2108 - val_accuracy: 0.9188\n",
      "Epoch 43/50\n",
      "164/164 - 0s - loss: 0.1957 - accuracy: 0.9178 - val_loss: 0.1936 - val_accuracy: 0.9178\n",
      "Epoch 44/50\n",
      "164/164 - 0s - loss: 0.1921 - accuracy: 0.9189 - val_loss: 0.1985 - val_accuracy: 0.9195\n",
      "Epoch 45/50\n",
      "164/164 - 0s - loss: 0.1892 - accuracy: 0.9217 - val_loss: 0.1923 - val_accuracy: 0.9200\n",
      "Epoch 46/50\n",
      "164/164 - 0s - loss: 0.1905 - accuracy: 0.9210 - val_loss: 0.1893 - val_accuracy: 0.9210\n",
      "Epoch 47/50\n",
      "164/164 - 0s - loss: 0.1899 - accuracy: 0.9214 - val_loss: 0.2039 - val_accuracy: 0.9144\n",
      "Epoch 48/50\n",
      "164/164 - 0s - loss: 0.1858 - accuracy: 0.9238 - val_loss: 0.1891 - val_accuracy: 0.9227\n",
      "Epoch 49/50\n",
      "164/164 - 0s - loss: 0.1921 - accuracy: 0.9208 - val_loss: 0.1959 - val_accuracy: 0.9229\n",
      "Epoch 50/50\n",
      "164/164 - 0s - loss: 0.1803 - accuracy: 0.9244 - val_loss: 0.1932 - val_accuracy: 0.9249\n",
      "Epoch 1/50\n",
      "164/164 - 1s - loss: 0.9539 - accuracy: 0.6404 - val_loss: 0.7384 - val_accuracy: 0.7375\n",
      "Epoch 2/50\n",
      "164/164 - 0s - loss: 0.6669 - accuracy: 0.7589 - val_loss: 0.6012 - val_accuracy: 0.7720\n",
      "Epoch 3/50\n",
      "164/164 - 0s - loss: 0.5456 - accuracy: 0.7875 - val_loss: 0.4912 - val_accuracy: 0.7999\n",
      "Epoch 4/50\n",
      "164/164 - 0s - loss: 0.4523 - accuracy: 0.8212 - val_loss: 0.4031 - val_accuracy: 0.8490\n",
      "Epoch 5/50\n",
      "164/164 - 0s - loss: 0.3905 - accuracy: 0.8483 - val_loss: 0.3764 - val_accuracy: 0.8520\n",
      "Epoch 6/50\n",
      "164/164 - 0s - loss: 0.3509 - accuracy: 0.8607 - val_loss: 0.3319 - val_accuracy: 0.8664\n",
      "Epoch 7/50\n",
      "164/164 - 1s - loss: 0.3276 - accuracy: 0.8687 - val_loss: 0.3086 - val_accuracy: 0.8764\n",
      "Epoch 8/50\n",
      "164/164 - 1s - loss: 0.3108 - accuracy: 0.8726 - val_loss: 0.3066 - val_accuracy: 0.8821\n",
      "Epoch 9/50\n",
      "164/164 - 0s - loss: 0.2994 - accuracy: 0.8787 - val_loss: 0.2992 - val_accuracy: 0.8703\n",
      "Epoch 10/50\n",
      "164/164 - 0s - loss: 0.2911 - accuracy: 0.8797 - val_loss: 0.2806 - val_accuracy: 0.8857\n",
      "Epoch 11/50\n",
      "164/164 - 0s - loss: 0.2813 - accuracy: 0.8819 - val_loss: 0.2728 - val_accuracy: 0.8862\n",
      "Epoch 12/50\n",
      "164/164 - 0s - loss: 0.2772 - accuracy: 0.8863 - val_loss: 0.2671 - val_accuracy: 0.8945\n",
      "Epoch 13/50\n",
      "164/164 - 0s - loss: 0.2707 - accuracy: 0.8887 - val_loss: 0.2686 - val_accuracy: 0.8931\n",
      "Epoch 14/50\n",
      "164/164 - 0s - loss: 0.2618 - accuracy: 0.8918 - val_loss: 0.2590 - val_accuracy: 0.9016\n",
      "Epoch 15/50\n",
      "164/164 - 0s - loss: 0.2566 - accuracy: 0.8962 - val_loss: 0.2504 - val_accuracy: 0.9019\n",
      "Epoch 16/50\n",
      "164/164 - 0s - loss: 0.2561 - accuracy: 0.8939 - val_loss: 0.2507 - val_accuracy: 0.9036\n",
      "Epoch 17/50\n",
      "164/164 - 0s - loss: 0.2481 - accuracy: 0.8969 - val_loss: 0.2471 - val_accuracy: 0.9021\n",
      "Epoch 18/50\n",
      "164/164 - 0s - loss: 0.2475 - accuracy: 0.8962 - val_loss: 0.2463 - val_accuracy: 0.9021\n",
      "Epoch 19/50\n",
      "164/164 - 0s - loss: 0.2421 - accuracy: 0.8986 - val_loss: 0.2570 - val_accuracy: 0.8938\n",
      "Epoch 20/50\n",
      "164/164 - 0s - loss: 0.2405 - accuracy: 0.8995 - val_loss: 0.2350 - val_accuracy: 0.9082\n",
      "Epoch 21/50\n",
      "164/164 - 0s - loss: 0.2346 - accuracy: 0.9033 - val_loss: 0.2394 - val_accuracy: 0.9060\n",
      "Epoch 22/50\n",
      "164/164 - 0s - loss: 0.2340 - accuracy: 0.9038 - val_loss: 0.2328 - val_accuracy: 0.9109\n",
      "Epoch 23/50\n",
      "164/164 - 0s - loss: 0.2310 - accuracy: 0.9032 - val_loss: 0.2310 - val_accuracy: 0.9092\n",
      "Epoch 24/50\n",
      "164/164 - 0s - loss: 0.2303 - accuracy: 0.9042 - val_loss: 0.2304 - val_accuracy: 0.9097\n",
      "Epoch 25/50\n",
      "164/164 - 0s - loss: 0.2261 - accuracy: 0.9027 - val_loss: 0.2261 - val_accuracy: 0.9102\n",
      "Epoch 26/50\n",
      "164/164 - 0s - loss: 0.2242 - accuracy: 0.9075 - val_loss: 0.2186 - val_accuracy: 0.9151\n",
      "Epoch 27/50\n",
      "164/164 - 0s - loss: 0.2208 - accuracy: 0.9078 - val_loss: 0.2187 - val_accuracy: 0.9124\n",
      "Epoch 28/50\n",
      "164/164 - 0s - loss: 0.2169 - accuracy: 0.9083 - val_loss: 0.2327 - val_accuracy: 0.9036\n",
      "Epoch 29/50\n",
      "164/164 - 0s - loss: 0.2198 - accuracy: 0.9095 - val_loss: 0.2255 - val_accuracy: 0.9056\n",
      "Epoch 30/50\n",
      "164/164 - 0s - loss: 0.2152 - accuracy: 0.9099 - val_loss: 0.2151 - val_accuracy: 0.9102\n",
      "Epoch 31/50\n",
      "164/164 - 0s - loss: 0.2149 - accuracy: 0.9092 - val_loss: 0.2561 - val_accuracy: 0.8919\n",
      "Epoch 32/50\n",
      "164/164 - 0s - loss: 0.2133 - accuracy: 0.9093 - val_loss: 0.2187 - val_accuracy: 0.9139\n",
      "Epoch 33/50\n",
      "164/164 - 0s - loss: 0.2155 - accuracy: 0.9090 - val_loss: 0.2138 - val_accuracy: 0.9051\n",
      "Epoch 34/50\n",
      "164/164 - 0s - loss: 0.2110 - accuracy: 0.9114 - val_loss: 0.2320 - val_accuracy: 0.9060\n",
      "Epoch 35/50\n",
      "164/164 - 0s - loss: 0.2113 - accuracy: 0.9115 - val_loss: 0.2044 - val_accuracy: 0.9163\n",
      "Epoch 36/50\n",
      "164/164 - 0s - loss: 0.2076 - accuracy: 0.9122 - val_loss: 0.2351 - val_accuracy: 0.8982\n",
      "Epoch 37/50\n",
      "164/164 - 0s - loss: 0.2047 - accuracy: 0.9110 - val_loss: 0.2020 - val_accuracy: 0.9185\n",
      "Epoch 38/50\n",
      "164/164 - 0s - loss: 0.2017 - accuracy: 0.9163 - val_loss: 0.2116 - val_accuracy: 0.9102\n",
      "Epoch 39/50\n",
      "164/164 - 0s - loss: 0.2016 - accuracy: 0.9145 - val_loss: 0.2117 - val_accuracy: 0.9046\n",
      "Epoch 40/50\n",
      "164/164 - 0s - loss: 0.2006 - accuracy: 0.9151 - val_loss: 0.1983 - val_accuracy: 0.9188\n",
      "Epoch 41/50\n",
      "164/164 - 0s - loss: 0.1982 - accuracy: 0.9155 - val_loss: 0.2059 - val_accuracy: 0.9141\n",
      "Epoch 42/50\n",
      "164/164 - 0s - loss: 0.1968 - accuracy: 0.9177 - val_loss: 0.1934 - val_accuracy: 0.9215\n",
      "Epoch 43/50\n",
      "164/164 - 0s - loss: 0.1996 - accuracy: 0.9162 - val_loss: 0.1942 - val_accuracy: 0.9241\n",
      "Epoch 44/50\n",
      "164/164 - 0s - loss: 0.2030 - accuracy: 0.9142 - val_loss: 0.2095 - val_accuracy: 0.9126\n",
      "Epoch 45/50\n",
      "164/164 - 0s - loss: 0.1960 - accuracy: 0.9162 - val_loss: 0.1970 - val_accuracy: 0.9166\n",
      "Epoch 46/50\n",
      "164/164 - 0s - loss: 0.1970 - accuracy: 0.9166 - val_loss: 0.1890 - val_accuracy: 0.9207\n",
      "Epoch 47/50\n",
      "164/164 - 0s - loss: 0.1917 - accuracy: 0.9198 - val_loss: 0.2041 - val_accuracy: 0.9087\n",
      "Epoch 48/50\n",
      "164/164 - 0s - loss: 0.1904 - accuracy: 0.9197 - val_loss: 0.1892 - val_accuracy: 0.9195\n",
      "Epoch 49/50\n",
      "164/164 - 0s - loss: 0.1932 - accuracy: 0.9175 - val_loss: 0.1879 - val_accuracy: 0.9197\n",
      "Epoch 50/50\n",
      "164/164 - 0s - loss: 0.1899 - accuracy: 0.9205 - val_loss: 0.2385 - val_accuracy: 0.9024\n",
      "Epoch 1/50\n",
      "164/164 - 1s - loss: 0.9830 - accuracy: 0.6547 - val_loss: 0.7149 - val_accuracy: 0.7463\n",
      "Epoch 2/50\n",
      "164/164 - 0s - loss: 0.6753 - accuracy: 0.7488 - val_loss: 0.5869 - val_accuracy: 0.7835\n",
      "Epoch 3/50\n",
      "164/164 - 0s - loss: 0.5515 - accuracy: 0.7864 - val_loss: 0.4878 - val_accuracy: 0.8319\n",
      "Epoch 4/50\n",
      "164/164 - 0s - loss: 0.4491 - accuracy: 0.8280 - val_loss: 0.3950 - val_accuracy: 0.8569\n",
      "Epoch 5/50\n",
      "164/164 - 0s - loss: 0.3843 - accuracy: 0.8533 - val_loss: 0.3529 - val_accuracy: 0.8657\n",
      "Epoch 6/50\n",
      "164/164 - 0s - loss: 0.3489 - accuracy: 0.8629 - val_loss: 0.3222 - val_accuracy: 0.8681\n",
      "Epoch 7/50\n",
      "164/164 - 0s - loss: 0.3270 - accuracy: 0.8691 - val_loss: 0.3147 - val_accuracy: 0.8818\n",
      "Epoch 8/50\n",
      "164/164 - 0s - loss: 0.3125 - accuracy: 0.8769 - val_loss: 0.2979 - val_accuracy: 0.8757\n",
      "Epoch 9/50\n",
      "164/164 - 0s - loss: 0.2990 - accuracy: 0.8797 - val_loss: 0.2766 - val_accuracy: 0.8887\n",
      "Epoch 10/50\n",
      "164/164 - 1s - loss: 0.2848 - accuracy: 0.8855 - val_loss: 0.2688 - val_accuracy: 0.8906\n",
      "Epoch 11/50\n",
      "164/164 - 0s - loss: 0.2778 - accuracy: 0.8876 - val_loss: 0.2616 - val_accuracy: 0.8914\n",
      "Epoch 12/50\n",
      "164/164 - 0s - loss: 0.2725 - accuracy: 0.8888 - val_loss: 0.2578 - val_accuracy: 0.8972\n",
      "Epoch 13/50\n",
      "164/164 - 0s - loss: 0.2635 - accuracy: 0.8926 - val_loss: 0.2466 - val_accuracy: 0.8985\n",
      "Epoch 14/50\n",
      "164/164 - 0s - loss: 0.2571 - accuracy: 0.8950 - val_loss: 0.2464 - val_accuracy: 0.8972\n",
      "Epoch 15/50\n",
      "164/164 - 0s - loss: 0.2518 - accuracy: 0.9005 - val_loss: 0.2509 - val_accuracy: 0.8860\n",
      "Epoch 16/50\n",
      "164/164 - 0s - loss: 0.2541 - accuracy: 0.8964 - val_loss: 0.2386 - val_accuracy: 0.9068\n",
      "Epoch 17/50\n",
      "164/164 - 0s - loss: 0.2411 - accuracy: 0.9030 - val_loss: 0.2317 - val_accuracy: 0.9046\n",
      "Epoch 18/50\n",
      "164/164 - 0s - loss: 0.2419 - accuracy: 0.9006 - val_loss: 0.2395 - val_accuracy: 0.8992\n",
      "Epoch 19/50\n",
      "164/164 - 0s - loss: 0.2410 - accuracy: 0.9027 - val_loss: 0.2269 - val_accuracy: 0.9056\n",
      "Epoch 20/50\n",
      "164/164 - 0s - loss: 0.2380 - accuracy: 0.9038 - val_loss: 0.2533 - val_accuracy: 0.8909\n",
      "Epoch 21/50\n",
      "164/164 - 0s - loss: 0.2298 - accuracy: 0.9060 - val_loss: 0.2206 - val_accuracy: 0.9073\n",
      "Epoch 22/50\n",
      "164/164 - 0s - loss: 0.2287 - accuracy: 0.9067 - val_loss: 0.2194 - val_accuracy: 0.9095\n",
      "Epoch 23/50\n",
      "164/164 - 0s - loss: 0.2259 - accuracy: 0.9095 - val_loss: 0.2332 - val_accuracy: 0.9046\n",
      "Epoch 24/50\n",
      "164/164 - 0s - loss: 0.2249 - accuracy: 0.9094 - val_loss: 0.2179 - val_accuracy: 0.9080\n",
      "Epoch 25/50\n",
      "164/164 - 0s - loss: 0.2265 - accuracy: 0.9099 - val_loss: 0.2184 - val_accuracy: 0.9090\n",
      "Epoch 26/50\n",
      "164/164 - 0s - loss: 0.2188 - accuracy: 0.9099 - val_loss: 0.2114 - val_accuracy: 0.9107\n",
      "Epoch 27/50\n",
      "164/164 - 0s - loss: 0.2206 - accuracy: 0.9088 - val_loss: 0.2051 - val_accuracy: 0.9114\n",
      "Epoch 28/50\n",
      "164/164 - 1s - loss: 0.2161 - accuracy: 0.9121 - val_loss: 0.2130 - val_accuracy: 0.9136\n",
      "Epoch 29/50\n",
      "164/164 - 1s - loss: 0.2126 - accuracy: 0.9117 - val_loss: 0.2030 - val_accuracy: 0.9117\n",
      "Epoch 30/50\n",
      "164/164 - 0s - loss: 0.2111 - accuracy: 0.9125 - val_loss: 0.2094 - val_accuracy: 0.9119\n",
      "Epoch 31/50\n",
      "164/164 - 0s - loss: 0.2163 - accuracy: 0.9095 - val_loss: 0.2073 - val_accuracy: 0.9100\n",
      "Epoch 32/50\n",
      "164/164 - 0s - loss: 0.2103 - accuracy: 0.9142 - val_loss: 0.2039 - val_accuracy: 0.9149\n",
      "Epoch 33/50\n",
      "164/164 - 1s - loss: 0.2080 - accuracy: 0.9164 - val_loss: 0.2030 - val_accuracy: 0.9124\n",
      "Epoch 34/50\n",
      "164/164 - 1s - loss: 0.2051 - accuracy: 0.9147 - val_loss: 0.1972 - val_accuracy: 0.9149\n",
      "Epoch 35/50\n",
      "164/164 - 1s - loss: 0.2039 - accuracy: 0.9153 - val_loss: 0.1950 - val_accuracy: 0.9134\n",
      "Epoch 36/50\n",
      "164/164 - 1s - loss: 0.2004 - accuracy: 0.9183 - val_loss: 0.1969 - val_accuracy: 0.9158\n",
      "Epoch 37/50\n",
      "164/164 - 0s - loss: 0.1996 - accuracy: 0.9180 - val_loss: 0.1947 - val_accuracy: 0.9149\n",
      "Epoch 38/50\n",
      "164/164 - 1s - loss: 0.2029 - accuracy: 0.9165 - val_loss: 0.1976 - val_accuracy: 0.9178\n",
      "Epoch 39/50\n",
      "164/164 - 0s - loss: 0.1969 - accuracy: 0.9181 - val_loss: 0.1954 - val_accuracy: 0.9163\n",
      "Epoch 40/50\n",
      "164/164 - 0s - loss: 0.1969 - accuracy: 0.9198 - val_loss: 0.1871 - val_accuracy: 0.9168\n",
      "Epoch 41/50\n",
      "164/164 - 0s - loss: 0.1935 - accuracy: 0.9191 - val_loss: 0.1960 - val_accuracy: 0.9244\n",
      "Epoch 42/50\n",
      "164/164 - 0s - loss: 0.1931 - accuracy: 0.9196 - val_loss: 0.1833 - val_accuracy: 0.9183\n",
      "Epoch 43/50\n",
      "164/164 - 0s - loss: 0.1915 - accuracy: 0.9226 - val_loss: 0.1898 - val_accuracy: 0.9161\n",
      "Epoch 44/50\n",
      "164/164 - 0s - loss: 0.1917 - accuracy: 0.9235 - val_loss: 0.1838 - val_accuracy: 0.9246\n",
      "Epoch 45/50\n",
      "164/164 - 0s - loss: 0.1895 - accuracy: 0.9232 - val_loss: 0.2436 - val_accuracy: 0.9031\n",
      "Epoch 46/50\n",
      "164/164 - 0s - loss: 0.1906 - accuracy: 0.9230 - val_loss: 0.2054 - val_accuracy: 0.9158\n",
      "Epoch 47/50\n",
      "164/164 - 0s - loss: 0.1907 - accuracy: 0.9233 - val_loss: 0.1889 - val_accuracy: 0.9234\n",
      "Epoch 48/50\n",
      "164/164 - 0s - loss: 0.1828 - accuracy: 0.9246 - val_loss: 0.1924 - val_accuracy: 0.9210\n",
      "Epoch 49/50\n",
      "164/164 - 0s - loss: 0.1848 - accuracy: 0.9248 - val_loss: 0.1790 - val_accuracy: 0.9229\n",
      "Epoch 50/50\n",
      "164/164 - 0s - loss: 0.1814 - accuracy: 0.9257 - val_loss: 0.1832 - val_accuracy: 0.9237\n",
      "Epoch 1/50\n",
      "164/164 - 2s - loss: 0.9242 - accuracy: 0.6632 - val_loss: 0.7270 - val_accuracy: 0.7375\n",
      "Epoch 2/50\n",
      "164/164 - 1s - loss: 0.6601 - accuracy: 0.7613 - val_loss: 0.6053 - val_accuracy: 0.7783\n",
      "Epoch 3/50\n",
      "164/164 - 0s - loss: 0.5544 - accuracy: 0.7874 - val_loss: 0.5075 - val_accuracy: 0.8033\n",
      "Epoch 4/50\n",
      "164/164 - 0s - loss: 0.4700 - accuracy: 0.8078 - val_loss: 0.4301 - val_accuracy: 0.8106\n",
      "Epoch 5/50\n",
      "164/164 - 0s - loss: 0.4032 - accuracy: 0.8392 - val_loss: 0.3750 - val_accuracy: 0.8537\n",
      "Epoch 6/50\n",
      "164/164 - 0s - loss: 0.3573 - accuracy: 0.8630 - val_loss: 0.3336 - val_accuracy: 0.8693\n",
      "Epoch 7/50\n",
      "164/164 - 0s - loss: 0.3245 - accuracy: 0.8722 - val_loss: 0.3115 - val_accuracy: 0.8879\n",
      "Epoch 8/50\n",
      "164/164 - 0s - loss: 0.3073 - accuracy: 0.8769 - val_loss: 0.2927 - val_accuracy: 0.8777\n",
      "Epoch 9/50\n",
      "164/164 - 0s - loss: 0.2939 - accuracy: 0.8816 - val_loss: 0.2745 - val_accuracy: 0.8953\n",
      "Epoch 10/50\n",
      "164/164 - 0s - loss: 0.2859 - accuracy: 0.8843 - val_loss: 0.2737 - val_accuracy: 0.8874\n",
      "Epoch 11/50\n",
      "164/164 - 0s - loss: 0.2794 - accuracy: 0.8845 - val_loss: 0.2670 - val_accuracy: 0.8992\n",
      "Epoch 12/50\n",
      "164/164 - 0s - loss: 0.2667 - accuracy: 0.8913 - val_loss: 0.3042 - val_accuracy: 0.8767\n",
      "Epoch 13/50\n",
      "164/164 - 0s - loss: 0.2635 - accuracy: 0.8917 - val_loss: 0.2486 - val_accuracy: 0.9065\n",
      "Epoch 14/50\n",
      "164/164 - 0s - loss: 0.2586 - accuracy: 0.8934 - val_loss: 0.2600 - val_accuracy: 0.9026\n",
      "Epoch 15/50\n",
      "164/164 - 0s - loss: 0.2548 - accuracy: 0.8950 - val_loss: 0.2479 - val_accuracy: 0.9058\n",
      "Epoch 16/50\n",
      "164/164 - 0s - loss: 0.2539 - accuracy: 0.8940 - val_loss: 0.2424 - val_accuracy: 0.9070\n",
      "Epoch 17/50\n",
      "164/164 - 0s - loss: 0.2497 - accuracy: 0.8986 - val_loss: 0.2648 - val_accuracy: 0.8911\n",
      "Epoch 18/50\n",
      "164/164 - 0s - loss: 0.2403 - accuracy: 0.9021 - val_loss: 0.2471 - val_accuracy: 0.8953\n",
      "Epoch 19/50\n",
      "164/164 - 0s - loss: 0.2384 - accuracy: 0.9025 - val_loss: 0.2330 - val_accuracy: 0.9095\n",
      "Epoch 20/50\n",
      "164/164 - 0s - loss: 0.2367 - accuracy: 0.9019 - val_loss: 0.2403 - val_accuracy: 0.9075\n",
      "Epoch 21/50\n",
      "164/164 - 0s - loss: 0.2369 - accuracy: 0.9022 - val_loss: 0.2277 - val_accuracy: 0.9043\n",
      "Epoch 22/50\n",
      "164/164 - 0s - loss: 0.2282 - accuracy: 0.9054 - val_loss: 0.2213 - val_accuracy: 0.9171\n",
      "Epoch 23/50\n",
      "164/164 - 0s - loss: 0.2273 - accuracy: 0.9049 - val_loss: 0.2328 - val_accuracy: 0.9036\n",
      "Epoch 24/50\n",
      "164/164 - 0s - loss: 0.2301 - accuracy: 0.9054 - val_loss: 0.2361 - val_accuracy: 0.9004\n",
      "Epoch 25/50\n",
      "164/164 - 0s - loss: 0.2214 - accuracy: 0.9085 - val_loss: 0.2221 - val_accuracy: 0.9122\n",
      "Epoch 26/50\n",
      "164/164 - 0s - loss: 0.2222 - accuracy: 0.9065 - val_loss: 0.2227 - val_accuracy: 0.9109\n",
      "Epoch 27/50\n",
      "164/164 - 0s - loss: 0.2193 - accuracy: 0.9098 - val_loss: 0.2308 - val_accuracy: 0.9070\n",
      "Epoch 28/50\n",
      "164/164 - 0s - loss: 0.2184 - accuracy: 0.9080 - val_loss: 0.2140 - val_accuracy: 0.9129\n",
      "Epoch 29/50\n",
      "164/164 - 0s - loss: 0.2163 - accuracy: 0.9117 - val_loss: 0.2160 - val_accuracy: 0.9112\n",
      "Epoch 30/50\n",
      "164/164 - 0s - loss: 0.2169 - accuracy: 0.9097 - val_loss: 0.2140 - val_accuracy: 0.9188\n",
      "Epoch 31/50\n",
      "164/164 - 0s - loss: 0.2108 - accuracy: 0.9123 - val_loss: 0.2164 - val_accuracy: 0.9146\n",
      "Epoch 32/50\n",
      "164/164 - 0s - loss: 0.2099 - accuracy: 0.9112 - val_loss: 0.2052 - val_accuracy: 0.9217\n",
      "Epoch 33/50\n",
      "164/164 - 0s - loss: 0.2122 - accuracy: 0.9103 - val_loss: 0.2134 - val_accuracy: 0.9153\n",
      "Epoch 34/50\n",
      "164/164 - 0s - loss: 0.2097 - accuracy: 0.9144 - val_loss: 0.2049 - val_accuracy: 0.9224\n",
      "Epoch 35/50\n",
      "164/164 - 0s - loss: 0.2039 - accuracy: 0.9169 - val_loss: 0.2062 - val_accuracy: 0.9193\n",
      "Epoch 36/50\n",
      "164/164 - 0s - loss: 0.2072 - accuracy: 0.9125 - val_loss: 0.2216 - val_accuracy: 0.9068\n",
      "Epoch 37/50\n",
      "164/164 - 0s - loss: 0.2015 - accuracy: 0.9174 - val_loss: 0.2050 - val_accuracy: 0.9171\n",
      "Epoch 38/50\n",
      "164/164 - 0s - loss: 0.2027 - accuracy: 0.9167 - val_loss: 0.2110 - val_accuracy: 0.9078\n",
      "Epoch 39/50\n",
      "164/164 - 0s - loss: 0.1992 - accuracy: 0.9159 - val_loss: 0.1990 - val_accuracy: 0.9212\n",
      "Epoch 40/50\n",
      "164/164 - 0s - loss: 0.1973 - accuracy: 0.9189 - val_loss: 0.2042 - val_accuracy: 0.9195\n",
      "Epoch 41/50\n",
      "164/164 - 0s - loss: 0.1956 - accuracy: 0.9193 - val_loss: 0.2053 - val_accuracy: 0.9224\n",
      "Epoch 42/50\n",
      "164/164 - 0s - loss: 0.1958 - accuracy: 0.9180 - val_loss: 0.1989 - val_accuracy: 0.9173\n",
      "Epoch 43/50\n",
      "164/164 - 0s - loss: 0.1945 - accuracy: 0.9210 - val_loss: 0.1934 - val_accuracy: 0.9266\n",
      "Epoch 44/50\n",
      "164/164 - 0s - loss: 0.1926 - accuracy: 0.9210 - val_loss: 0.2011 - val_accuracy: 0.9173\n",
      "Epoch 45/50\n",
      "164/164 - 0s - loss: 0.1927 - accuracy: 0.9197 - val_loss: 0.1983 - val_accuracy: 0.9215\n",
      "Epoch 46/50\n",
      "164/164 - 0s - loss: 0.1927 - accuracy: 0.9195 - val_loss: 0.1920 - val_accuracy: 0.9300\n",
      "Epoch 47/50\n",
      "164/164 - 0s - loss: 0.1896 - accuracy: 0.9223 - val_loss: 0.1894 - val_accuracy: 0.9283\n",
      "Epoch 48/50\n",
      "164/164 - 0s - loss: 0.1906 - accuracy: 0.9210 - val_loss: 0.1923 - val_accuracy: 0.9239\n",
      "Epoch 49/50\n",
      "164/164 - 0s - loss: 0.1873 - accuracy: 0.9234 - val_loss: 0.2001 - val_accuracy: 0.9234\n",
      "Epoch 50/50\n",
      "164/164 - 0s - loss: 0.1856 - accuracy: 0.9237 - val_loss: 0.1907 - val_accuracy: 0.9266\n",
      "Resultados:\n",
      "Iteración 1: Random State = 5867, Loss = 0.18883377313613892, Accuracy = 0.9280645847320557\n",
      "Iteración 2: Random State = 8213, Loss = 0.1932409107685089, Accuracy = 0.9248837828636169\n",
      "Iteración 3: Random State = 1539, Loss = 0.23849822580814362, Accuracy = 0.9023733735084534\n",
      "Iteración 4: Random State = 6354, Loss = 0.1831546574831009, Accuracy = 0.923660397529602\n",
      "Iteración 5: Random State = 3019, Loss = 0.19069449603557587, Accuracy = 0.9265965223312378\n"
     ]
    }
   ],
   "source": [
    "#Mas capas ≠ Mas accuracy\n",
    "#Utilizar Early stopping permite llegar a buenas accuracys sin overfitting pero puede caer en local minimums si no se utiliza una patience suficientemente alta.\n",
    "#Lo mejor es ir de mas a menos capas si quieres alcanzar algún resultado.\n",
    "\n",
    "num_iterations = 5\n",
    "results = []\n",
    "\n",
    "\n",
    "for _ in range(num_iterations):\n",
    "    random_state = random.randint(0, 10000)\n",
    "    \n",
    "    X_train, X_test, y_train, y_test = train_test_split(X, y, test_size=0.2, random_state=random_state)\n",
    "    \n",
    "\n",
    "    y_train_categorical = to_categorical(y_train)\n",
    "    y_test_categorical = to_categorical(y_test)\n",
    "\n",
    "    model = Sequential([\n",
    "        Dense(64, activation='relu', input_shape=(X_train.shape[1],)),\n",
    "        Dense(64, activation='relu'),\n",
    "        Dense(y_train_categorical.shape[1], activation='softmax')\n",
    "    ])\n",
    "\n",
    "    model.compile(optimizer='adam', loss='categorical_crossentropy', metrics=['accuracy'])\n",
    "\n",
    "    es = EarlyStopping(monitor='val_loss', mode='min', verbose=1, restore_best_weights=True, patience=10)\n",
    "\n",
    "    history = model.fit(X_train, y_train_categorical, epochs=50, batch_size=100, validation_data=(X_test, y_test_categorical), callbacks=[es], verbose=2)\n",
    "\n",
    "    loss, accuracy = model.evaluate(X_test, y_test_categorical, verbose=0)\n",
    "\n",
    "    results.append((random_state, loss, accuracy))\n",
    "\n",
    "print(\"Resultados:\")\n",
    "for i, (random_state, loss, accuracy) in enumerate(results, 1):\n",
    "    print(f\"Iteración {i}: Random State = {random_state}, Loss = {loss}, Accuracy = {accuracy}\")\n"
   ]
  },
  {
   "cell_type": "markdown",
   "metadata": {
    "colab_type": "text",
    "id": "HnKpcVxOU1ed"
   },
   "source": [
    "*Explica aquí que resultados has obtenido con el intento de mejora de la predicción del modelo.\n",
    "    Utilizando diferentes valores de random_state en la división del conjunto de datos de entrenamiento y validación, tenemos resultados bastante estables. En cada iteración del bucle, hemos utilizado una semilla aleatoria diferente para la división de los datos. Disminuyendo perdida a lo largo de las épocas, mientras que la precisión aumentó."
   ]
  }
 ],
 "metadata": {
  "accelerator": "GPU",
  "colab": {
   "collapsed_sections": [
    "_MohTJvooR_e"
   ],
   "name": "S1_House_challenge_v2.ipynb",
   "provenance": [],
   "toc_visible": true
  },
  "kernelspec": {
   "display_name": "Python 3.6.5 ('base')",
   "language": "python",
   "name": "python3"
  },
  "language_info": {
   "codemirror_mode": {
    "name": "ipython",
    "version": 3
   },
   "file_extension": ".py",
   "mimetype": "text/x-python",
   "name": "python",
   "nbconvert_exporter": "python",
   "pygments_lexer": "ipython3",
   "version": "3.6.5"
  },
  "vscode": {
   "interpreter": {
    "hash": "e4cce46d6be9934fbd27f9ca0432556941ea5bdf741d4f4d64c6cd7f8dfa8fba"
   }
  }
 },
 "nbformat": 4,
 "nbformat_minor": 4
}
